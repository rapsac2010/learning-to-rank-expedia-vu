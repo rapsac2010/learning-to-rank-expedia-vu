{
 "cells": [
  {
   "cell_type": "code",
   "execution_count": 1,
   "metadata": {},
   "outputs": [
    {
     "name": "stderr",
     "output_type": "stream",
     "text": [
      "c:\\Users\\caspa\\Desktop\\data-mining-techniques-vu\\.venv\\Lib\\site-packages\\tqdm\\auto.py:21: TqdmWarning: IProgress not found. Please update jupyter and ipywidgets. See https://ipywidgets.readthedocs.io/en/stable/user_install.html\n",
      "  from .autonotebook import tqdm as notebook_tqdm\n",
      "c:\\Users\\caspa\\Desktop\\data-mining-techniques-vu\\src\\helpers\\helper_functions.py:41: SettingWithCopyWarning: \n",
      "A value is trying to be set on a copy of a slice from a DataFrame\n",
      "\n",
      "See the caveats in the documentation: https://pandas.pydata.org/pandas-docs/stable/user_guide/indexing.html#returning-a-view-versus-a-copy\n",
      "  df_test.sort_values(by=['srch_id', target_str], ascending=[True, False], inplace=True)\n"
     ]
    }
   ],
   "source": [
    "import os\n",
    "import configparser\n",
    "from tqdm import tqdm\n",
    "from helpers.helper_functions import *\n",
    "from helpers.helper_classes import *\n",
    "import pandas as pd\n",
    "import matplotlib.pyplot as plt\n",
    "import numpy as np\n",
    "from wandb.lightgbm import wandb_callback, log_summary\n",
    "import wandb\n",
    "\n",
    "# Read config.ini file\n",
    "config = configparser.ConfigParser()\n",
    "config.read('src/config.ini')\n",
    "os.chdir(config['PATH']['ROOT_DIR'])\n",
    "\n",
    "# # Load data\n",
    "df = pd.read_parquet(config['PATH']['INT_DIR'] + '/training_set_preprocessed_nodrop.parquet', engine = 'fastparquet')\n",
    "df_test = pd.read_parquet(config['PATH']['INT_DIR'] + '/test_set_preprocessed_nodrop.parquet', engine = 'fastparquet')\n",
    "df = df[df['srch_id'] < 10000]"
   ]
  },
  {
   "cell_type": "code",
   "execution_count": 8,
   "metadata": {},
   "outputs": [
    {
     "name": "stderr",
     "output_type": "stream",
     "text": [
      "\u001b[32m[I 2023-05-18 15:02:08,549]\u001b[0m A new study created in memory with name: no-name-22352b3a-ae8c-490d-a126-e75726ede743\u001b[0m\n"
     ]
    },
    {
     "data": {
      "text/html": [
       "Tracking run with wandb version 0.15.3"
      ],
      "text/plain": [
       "<IPython.core.display.HTML object>"
      ]
     },
     "metadata": {},
     "output_type": "display_data"
    },
    {
     "data": {
      "text/html": [
       "Run data is saved locally in <code>c:\\Users\\caspa\\Desktop\\data-mining-techniques-vu\\wandb\\run-20230518_150208-ecywp0tr</code>"
      ],
      "text/plain": [
       "<IPython.core.display.HTML object>"
      ]
     },
     "metadata": {},
     "output_type": "display_data"
    },
    {
     "data": {
      "text/html": [
       "Syncing run <strong><a href='https://wandb.ai/vu-ml/DMT-2023/runs/ecywp0tr' target=\"_blank\">quiet-surf-13</a></strong> to <a href='https://wandb.ai/vu-ml/DMT-2023' target=\"_blank\">Weights & Biases</a> (<a href='https://wandb.me/run' target=\"_blank\">docs</a>)<br/>"
      ],
      "text/plain": [
       "<IPython.core.display.HTML object>"
      ]
     },
     "metadata": {},
     "output_type": "display_data"
    },
    {
     "data": {
      "text/html": [
       " View project at <a href='https://wandb.ai/vu-ml/DMT-2023' target=\"_blank\">https://wandb.ai/vu-ml/DMT-2023</a>"
      ],
      "text/plain": [
       "<IPython.core.display.HTML object>"
      ]
     },
     "metadata": {},
     "output_type": "display_data"
    },
    {
     "data": {
      "text/html": [
       " View run at <a href='https://wandb.ai/vu-ml/DMT-2023/runs/ecywp0tr' target=\"_blank\">https://wandb.ai/vu-ml/DMT-2023/runs/ecywp0tr</a>"
      ],
      "text/plain": [
       "<IPython.core.display.HTML object>"
      ]
     },
     "metadata": {},
     "output_type": "display_data"
    },
    {
     "data": {
      "text/html": [
       "Waiting for W&B process to finish... <strong style=\"color:green\">(success).</strong>"
      ],
      "text/plain": [
       "<IPython.core.display.HTML object>"
      ]
     },
     "metadata": {},
     "output_type": "display_data"
    },
    {
     "data": {
      "text/html": [
       "<style>\n",
       "    table.wandb td:nth-child(1) { padding: 0 10px; text-align: left ; width: auto;} td:nth-child(2) {text-align: left ; width: 100%}\n",
       "    .wandb-row { display: flex; flex-direction: row; flex-wrap: wrap; justify-content: flex-start; width: 100% }\n",
       "    .wandb-col { display: flex; flex-direction: column; flex-basis: 100%; flex: 1; padding: 10px; }\n",
       "    </style>\n",
       "<div class=\"wandb-row\"><div class=\"wandb-col\"><h3>Run history:</h3><br/><table class=\"wandb\"><tr><td>iteration</td><td>▁▂▂▃▄▅▅▆▇▇█</td></tr><tr><td>ndcg</td><td>▁</td></tr><tr><td>training_ndcg@5</td><td>▁▂▄▄▄▅▆▇▇██</td></tr><tr><td>valid_1_ndcg@5</td><td>▇▂▅▁▃▃▆▇▅█▇</td></tr></table><br/></div><div class=\"wandb-col\"><h3>Run summary:</h3><br/><table class=\"wandb\"><tr><td>iteration</td><td>10</td></tr><tr><td>ndcg</td><td>0.3807</td></tr><tr><td>training_ndcg@5</td><td>0.43065</td></tr><tr><td>valid_1_ndcg@5</td><td>0.36327</td></tr></table><br/></div></div>"
      ],
      "text/plain": [
       "<IPython.core.display.HTML object>"
      ]
     },
     "metadata": {},
     "output_type": "display_data"
    },
    {
     "data": {
      "text/html": [
       " View run <strong style=\"color:#cdcd00\">quiet-surf-13</strong> at: <a href='https://wandb.ai/vu-ml/DMT-2023/runs/ecywp0tr' target=\"_blank\">https://wandb.ai/vu-ml/DMT-2023/runs/ecywp0tr</a><br/>Synced 4 W&B file(s), 0 media file(s), 0 artifact file(s) and 0 other file(s)"
      ],
      "text/plain": [
       "<IPython.core.display.HTML object>"
      ]
     },
     "metadata": {},
     "output_type": "display_data"
    },
    {
     "data": {
      "text/html": [
       "Find logs at: <code>.\\wandb\\run-20230518_150208-ecywp0tr\\logs</code>"
      ],
      "text/plain": [
       "<IPython.core.display.HTML object>"
      ]
     },
     "metadata": {},
     "output_type": "display_data"
    },
    {
     "name": "stderr",
     "output_type": "stream",
     "text": [
      "\u001b[32m[I 2023-05-18 15:02:14,398]\u001b[0m Trial 0 finished with value: 0.38070222087303385 and parameters: {'n_estimators': 11, 'max_depth': 11, 'learning_rate': 0.01542215567246322, 'subsample': 0.4229122512041623, 'colsample_bytree': 0.5825390619739982, 'reg_alpha': 0.0029627482694911562, 'reg_lambda': 0.17950031633138536, 'val_size': 0.20602045431165272}. Best is trial 0 with value: 0.38070222087303385.\u001b[0m\n"
     ]
    },
    {
     "data": {
      "text/html": [
       "Tracking run with wandb version 0.15.3"
      ],
      "text/plain": [
       "<IPython.core.display.HTML object>"
      ]
     },
     "metadata": {},
     "output_type": "display_data"
    },
    {
     "data": {
      "text/html": [
       "Run data is saved locally in <code>c:\\Users\\caspa\\Desktop\\data-mining-techniques-vu\\wandb\\run-20230518_150214-bgodez93</code>"
      ],
      "text/plain": [
       "<IPython.core.display.HTML object>"
      ]
     },
     "metadata": {},
     "output_type": "display_data"
    },
    {
     "data": {
      "text/html": [
       "Syncing run <strong><a href='https://wandb.ai/vu-ml/DMT-2023/runs/bgodez93' target=\"_blank\">astral-butterfly-14</a></strong> to <a href='https://wandb.ai/vu-ml/DMT-2023' target=\"_blank\">Weights & Biases</a> (<a href='https://wandb.me/run' target=\"_blank\">docs</a>)<br/>"
      ],
      "text/plain": [
       "<IPython.core.display.HTML object>"
      ]
     },
     "metadata": {},
     "output_type": "display_data"
    },
    {
     "data": {
      "text/html": [
       " View project at <a href='https://wandb.ai/vu-ml/DMT-2023' target=\"_blank\">https://wandb.ai/vu-ml/DMT-2023</a>"
      ],
      "text/plain": [
       "<IPython.core.display.HTML object>"
      ]
     },
     "metadata": {},
     "output_type": "display_data"
    },
    {
     "data": {
      "text/html": [
       " View run at <a href='https://wandb.ai/vu-ml/DMT-2023/runs/bgodez93' target=\"_blank\">https://wandb.ai/vu-ml/DMT-2023/runs/bgodez93</a>"
      ],
      "text/plain": [
       "<IPython.core.display.HTML object>"
      ]
     },
     "metadata": {},
     "output_type": "display_data"
    },
    {
     "data": {
      "text/html": [
       "Waiting for W&B process to finish... <strong style=\"color:green\">(success).</strong>"
      ],
      "text/plain": [
       "<IPython.core.display.HTML object>"
      ]
     },
     "metadata": {},
     "output_type": "display_data"
    },
    {
     "data": {
      "text/html": [
       "<style>\n",
       "    table.wandb td:nth-child(1) { padding: 0 10px; text-align: left ; width: auto;} td:nth-child(2) {text-align: left ; width: 100%}\n",
       "    .wandb-row { display: flex; flex-direction: row; flex-wrap: wrap; justify-content: flex-start; width: 100% }\n",
       "    .wandb-col { display: flex; flex-direction: column; flex-basis: 100%; flex: 1; padding: 10px; }\n",
       "    </style>\n",
       "<div class=\"wandb-row\"><div class=\"wandb-col\"><h3>Run history:</h3><br/><table class=\"wandb\"><tr><td>iteration</td><td>▁▁▂▂▂▂▃▃▃▄▄▄▄▅▅▅▅▆▆▆▇▇▇▇██</td></tr><tr><td>ndcg</td><td>▁</td></tr><tr><td>training_ndcg@5</td><td>▁▁▂▂▃▄▄▄▅▅▅▅▆▆▆▆▇▇▇▇▇▇████</td></tr><tr><td>valid_1_ndcg@5</td><td>▄▁▂▂▃▂▃▅▅▅▆▅▆▆▇▇▆▅▆█▇█▇▇▇▆</td></tr></table><br/></div><div class=\"wandb-col\"><h3>Run summary:</h3><br/><table class=\"wandb\"><tr><td>iteration</td><td>25</td></tr><tr><td>ndcg</td><td>0.38619</td></tr><tr><td>training_ndcg@5</td><td>0.46093</td></tr><tr><td>valid_1_ndcg@5</td><td>0.36896</td></tr></table><br/></div></div>"
      ],
      "text/plain": [
       "<IPython.core.display.HTML object>"
      ]
     },
     "metadata": {},
     "output_type": "display_data"
    },
    {
     "data": {
      "text/html": [
       " View run <strong style=\"color:#cdcd00\">astral-butterfly-14</strong> at: <a href='https://wandb.ai/vu-ml/DMT-2023/runs/bgodez93' target=\"_blank\">https://wandb.ai/vu-ml/DMT-2023/runs/bgodez93</a><br/>Synced 4 W&B file(s), 0 media file(s), 0 artifact file(s) and 0 other file(s)"
      ],
      "text/plain": [
       "<IPython.core.display.HTML object>"
      ]
     },
     "metadata": {},
     "output_type": "display_data"
    },
    {
     "data": {
      "text/html": [
       "Find logs at: <code>.\\wandb\\run-20230518_150214-bgodez93\\logs</code>"
      ],
      "text/plain": [
       "<IPython.core.display.HTML object>"
      ]
     },
     "metadata": {},
     "output_type": "display_data"
    },
    {
     "name": "stderr",
     "output_type": "stream",
     "text": [
      "\u001b[32m[I 2023-05-18 15:02:22,049]\u001b[0m Trial 1 finished with value: 0.386191822004263 and parameters: {'n_estimators': 26, 'max_depth': 11, 'learning_rate': 0.013304979495638981, 'subsample': 0.6702157475502727, 'colsample_bytree': 0.5168942830771519, 'reg_alpha': 0.11704188308887337, 'reg_lambda': 0.04435518575397499, 'val_size': 0.6812201222249858}. Best is trial 1 with value: 0.386191822004263.\u001b[0m\n"
     ]
    },
    {
     "name": "stdout",
     "output_type": "stream",
     "text": [
      "Best hyperparameters: {'n_estimators': 26, 'max_depth': 11, 'learning_rate': 0.013304979495638981, 'subsample': 0.6702157475502727, 'colsample_bytree': 0.5168942830771519, 'reg_alpha': 0.11704188308887337, 'reg_lambda': 0.04435518575397499, 'val_size': 0.6812201222249858}\n"
     ]
    }
   ],
   "source": [
    "import optuna\n",
    "import lightgbm as lgb\n",
    "\n",
    "def objective(trial):\n",
    "\n",
    "    params_lgbm = {\n",
    "        \"objective\": \"lambdarank\",\n",
    "        \"metric\":\"ndcg\",\n",
    "        'n_estimators': trial.suggest_int('n_estimators', 10, 30), \n",
    "        'max_depth': trial.suggest_int('max_depth', 1, 20), \n",
    "        'learning_rate': trial.suggest_float('learning_rate', 0.01, 0.1), \n",
    "        'subsample': trial.suggest_float('subsample', 0.4, 0.7), \n",
    "        'colsample_bytree': trial.suggest_float('colsample_bytree', 0.4, 0.7), \n",
    "        'reg_alpha': trial.suggest_float('reg_alpha', 0.001, 0.2), \n",
    "        'reg_lambda': trial.suggest_float('reg_lambda', 0.001, 0.2),\n",
    "    }\n",
    "    params_other = {\n",
    "        'val_size': trial.suggest_float('val_size', 0.05, 0.8)\n",
    "    }\n",
    "\n",
    "    X_train, X_val, X_test, y_train, y_val, y_test, test_ideal = train_val_test_split(df, 'target', test_size=.15, val_size=params_other['val_size'], random_state=7)\n",
    "    _, desire_df_click = construct_desire(X_val)\n",
    "    _, desire_df_book = construct_desire(X_val, target = 'booking_bool')\n",
    "    X_train = merge_and_drop(X_train, desire_df_click, desire_df_book)\n",
    "    X_test = merge_and_drop(X_test, desire_df_click, desire_df_book)\n",
    "\n",
    "    group_train = X_train.groupby('srch_id').size().values\n",
    "    group_val = X_test.groupby('srch_id').size().values\n",
    "\n",
    "    X_train_lgb = X_train.drop(['srch_id'], axis=1)\n",
    "    X_test_lgb = X_test.drop(['srch_id'], axis=1)\n",
    "\n",
    "    params_all = {**params_lgbm, **params_other}\n",
    "    run = wandb.init(project='DMT-2023', group = 'optuna_vardesire_size', config = params_all, reinit = True, )\n",
    "    cb = wandb_callback()\n",
    "    ranker = lgb.LGBMRanker(**params_lgbm)\n",
    "\n",
    "    ranker.fit(\n",
    "        X=X_train_lgb,\n",
    "        y=y_train,\n",
    "        group=group_train,\n",
    "        eval_set=[(X_train_lgb, y_train),(X_test_lgb, y_test)],\n",
    "        eval_group=[group_train, group_val],\n",
    "        eval_at=[5],\n",
    "        callbacks=[cb]\n",
    "    )\n",
    "\n",
    "    y_pred = ranker.predict(X_test_lgb)\n",
    "    df_res = X_test.copy()\n",
    "    df_res['pred_grades'] = y_pred\n",
    "    df_res = df_res.sort_values(by=['srch_id', 'pred_grades'], ascending=[True, False], inplace=False)\n",
    "    df_res = df_res.merge(test_ideal, on=['srch_id', 'prop_id'], how='left')\n",
    "\n",
    "    ndcg_score = calc_NDCG(test_ideal, df_res)\n",
    "    \n",
    "    with run:\n",
    "        run.log({'ndcg': ndcg_score})\n",
    "    \n",
    "    return ndcg_score\n",
    "\n",
    "\n",
    "\n",
    "# Create a study object and optimize the objective function.\n",
    "study = optuna.create_study(direction='maximize')\n",
    "study.optimize(objective, n_trials=2)\n",
    "wandb.finish()\n",
    "# Extract the best hyperparameters\n",
    "best_params = study.best_params\n",
    "print(f'Best hyperparameters: {best_params}')\n",
    "\n",
    "# Save best params to txt file\n",
    "with open(config['PATH']['INT_DIR'] + '/optuna_best_params.txt', 'w') as f:\n",
    "    f.write(str(best_params))\n"
   ]
  },
  {
   "cell_type": "code",
   "execution_count": null,
   "metadata": {},
   "outputs": [],
   "source": []
  }
 ],
 "metadata": {
  "kernelspec": {
   "display_name": ".venv",
   "language": "python",
   "name": "python3"
  },
  "language_info": {
   "codemirror_mode": {
    "name": "ipython",
    "version": 3
   },
   "file_extension": ".py",
   "mimetype": "text/x-python",
   "name": "python",
   "nbconvert_exporter": "python",
   "pygments_lexer": "ipython3",
   "version": "3.11.1"
  },
  "orig_nbformat": 4
 },
 "nbformat": 4,
 "nbformat_minor": 2
}
