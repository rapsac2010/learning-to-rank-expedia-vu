{
 "cells": [
  {
   "cell_type": "code",
   "execution_count": 21,
   "metadata": {},
   "outputs": [],
   "source": [
    "import configparser\n",
    "import os\n",
    "from joblib import dump, load\n",
    "import json\n",
    "from tqdm import tqdm\n",
    "from helpers.helper_functions import *\n",
    "from helpers.helper_classes import *\n",
    "import pandas as pd\n",
    "import matplotlib.pyplot as plt\n",
    "import numpy as np\n",
    "from joblib import dump, load\n",
    "\n",
    "pd.set_option('display.max_rows', 500)\n",
    "pd.set_option('display.max_columns', None)\n",
    "\n",
    "# Read config.ini file\n",
    "config = configparser.ConfigParser()\n",
    "config.read('src/config.ini')\n",
    "\n",
    "# Read dataframes from parquet\n",
    "df = pd.read_parquet(config['PATH']['DATA_DIR'] + '/training_set.parquet', engine = 'fastparquet')\n",
    "df_testing = pd.read_parquet(config['PATH']['DATA_DIR'] + '/test_set.parquet', engine = 'fastparquet')\n"
   ]
  },
  {
   "cell_type": "code",
   "execution_count": 22,
   "metadata": {},
   "outputs": [],
   "source": [
    "def construct_target_df(df):\n",
    "    df.loc[:, 'target'] = np.zeros(len(df))\n",
    "    df.loc[df['click_bool'] == 1, 'target'] = 1\n",
    "    df.loc[df['booking_bool'] == 1, 'target'] = 5\n",
    "    return df.drop(['click_bool', 'booking_bool'], axis = 1)\n",
    "\n",
    "def construct_datetime(df):\n",
    "    df_out = df\n",
    "    df_out['date_time'] = pd.to_datetime(df_out['date_time'])\n",
    "    df_out['month'] = df_out['date_time'].dt.month\n",
    "    df_out['day'] = df_out['date_time'].dt.day\n",
    "    df_out['hour'] = df_out['date_time'].dt.hour\n",
    "    return df_out\n",
    "\n",
    "def drop_missing_cols_thresholded(df, threshold = 0.8):\n",
    "    missing_cols = df.columns[df.isna().any()].tolist()\n",
    "    missing_cols = [col for col in missing_cols if df[col].isna().sum() / len(df) > threshold]\n",
    "    return df.drop(missing_cols, axis = 1), missing_cols\n",
    "\n",
    "def drop_cols(df, cols):\n",
    "\n",
    "    # check which cols are in df\n",
    "    cols_present = [col for col in cols if col in df.columns]\n",
    "\n",
    "    # If cols and cols_present mismatch, print warning and which cols are not present\n",
    "    if len(cols) != len(cols_present):\n",
    "        print('Warning: not all columns to be dropped are present in df')\n",
    "        print('Missing columns: ', [col for col in cols if col not in df.columns])\n",
    "    \n",
    "    return df.drop(cols_present, axis=1)"
   ]
  },
  {
   "attachments": {},
   "cell_type": "markdown",
   "metadata": {},
   "source": [
    "### Steps:\n",
    "1. Construct target column\n",
    "2. Drop irrelevant columns\n",
    "3. Fill missing values\n",
    "4. Convert date_time to datetime and construct features"
   ]
  },
  {
   "cell_type": "code",
   "execution_count": 23,
   "metadata": {},
   "outputs": [
    {
     "name": "stdout",
     "output_type": "stream",
     "text": [
      "Warning: not all columns to be dropped are present in df\n",
      "Missing columns:  ['gross_bookings_usd']\n",
      "Warning: not all columns to be dropped are present in df\n",
      "Missing columns:  ['gross_bookings_usd']\n",
      "Warning: not all columns to be dropped are present in df\n",
      "Missing columns:  ['gross_bookings_usd', 'position']\n"
     ]
    }
   ],
   "source": [
    "df_pre = df.copy()\n",
    "df_test = df_testing.copy()\n",
    "\n",
    "# Construct target for training set\n",
    "df_pre = construct_target_df(df_pre)\n",
    "\n",
    "# Construct datetime features for both sets\n",
    "df_pre = construct_datetime(df_pre)\n",
    "df_test = construct_datetime(df_test)\n",
    "\n",
    "# Drop columns with more than 80% missing values\n",
    "df_pre, missing_cols = drop_missing_cols_thresholded(df_pre, threshold = 0.8)\n",
    "df_test = drop_cols(df_test, missing_cols)\n",
    "\n",
    "# Fill missing values with -1\n",
    "df_pre = df_pre.fillna(-1)\n",
    "df_test = df_test.fillna(-1)\n",
    "\n",
    "# Drop columns that leak information or are not useful (anymore)\n",
    "leaky_cols = ['gross_bookings_usd', 'position', 'date_time']\n",
    "df_pre = drop_cols(df_pre, leaky_cols)\n",
    "df_test = drop_cols(df_test, leaky_cols)\n",
    "\n",
    "\n",
    "# leaky_cols = ['gross_bookings_usd', 'position', 'date_time', 'target']\n",
    "# df = drop_cols(df, leaky_cols)\n",
    "# df_test = drop_cols(df_test, leaky_cols)"
   ]
  }
 ],
 "metadata": {
  "kernelspec": {
   "display_name": ".venv",
   "language": "python",
   "name": "python3"
  },
  "language_info": {
   "codemirror_mode": {
    "name": "ipython",
    "version": 3
   },
   "file_extension": ".py",
   "mimetype": "text/x-python",
   "name": "python",
   "nbconvert_exporter": "python",
   "pygments_lexer": "ipython3",
   "version": "3.11.1"
  },
  "orig_nbformat": 4
 },
 "nbformat": 4,
 "nbformat_minor": 2
}
