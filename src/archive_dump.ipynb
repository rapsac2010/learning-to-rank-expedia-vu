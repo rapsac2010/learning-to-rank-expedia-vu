{
 "cells": [
  {
   "cell_type": "code",
   "execution_count": null,
   "metadata": {},
   "outputs": [],
   "source": [
    "# # Random forest\n",
    "# from sklearn.ensemble import RandomForestClassifier\n",
    "# print('Training RF')\n",
    "# rf = RandomForestClassifier(n_estimators=100, n_jobs=-1)\n",
    "# rf.fit(X_train, y_train)\n",
    "\n",
    "# XGBoost\n",
    "print('Training XGB')\n",
    "import xgboost as xgb\n",
    "y_train_xgb = y_train.astype(int)\n",
    "y_train_xgb[y_train == 5] = 2\n",
    "xgb_model = xgb.XGBClassifier(objective=\"multi:softprob\", random_state=42)\n",
    "xgb_model.fit(X_train, y_train_xgb)\n",
    "\n",
    "# pred_ideal_rf = constructs_predictions(rf, X_test, ideal_df=test_ideal)\n",
    "pred_xgb = constructs_predictions(xgb_model, X_test, ideal_df=test_ideal)\n",
    "pred_random = construct_pred_ideal(X_test, test_ideal, np.random.rand(len(X_test)))"
   ]
  },
  {
   "cell_type": "code",
   "execution_count": null,
   "metadata": {},
   "outputs": [],
   "source": [
    "def construct_desire(df, subject = 'prop_id', target = 'click_bool'):\n",
    "    # aggregate on prop id, average target and rename column\n",
    "    desire_df = df.groupby(subject)[target].mean().reset_index().rename(columns={target: 'desire_' + target})\n",
    "    df = df.merge(desire_df, on=subject, how='left')\n",
    "    return df, desire_df\n",
    "\n",
    "X_val, desire_df_click = construct_desire(X_val)\n",
    "X_val, desire_df_book = construct_desire(X_val, target = 'booking_bool')\n",
    "\n",
    "def merge_and_drop(df, desire_df_click, desire_df_book):\n",
    "    df = df.merge(desire_df_click, on='prop_id', how='left')\n",
    "    df = df.merge(desire_df_book, on='prop_id', how='left')\n",
    "    df.drop(['click_bool', 'booking_bool'], axis=1, inplace=True)\n",
    "    df['desire_booking_bool'].fillna(0, inplace=True)\n",
    "    df['desire_click_bool'].fillna(0, inplace=True)\n",
    "    return df\n",
    "\n",
    "X_train = merge_and_drop(X_train, desire_df_click, desire_df_book)\n",
    "X_test = merge_and_drop(X_test, desire_df_click, desire_df_book)\n",
    "X_val.drop(['click_bool', 'booking_bool'], axis=1, inplace=True)\n",
    "\n",
    "# X_train = X_train.merge(desire_df_click, on='prop_id', how='left')\n",
    "# X_train = X_train.merge(desire_df_book, on='prop_id', how='left')\n",
    "\n",
    "# X_train.drop(['click_bool', 'booking_bool'], axis=1, inplace=True)\n",
    "# X_train['desire_booking_bool'].fillna(0, inplace=True)\n",
    "# X_train['desire_click_bool'].fillna(0, inplace=True)"
   ]
  }
 ],
 "metadata": {
  "language_info": {
   "name": "python"
  },
  "orig_nbformat": 4
 },
 "nbformat": 4,
 "nbformat_minor": 2
}
