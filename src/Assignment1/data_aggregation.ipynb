{
 "cells": [
  {
   "cell_type": "code",
   "execution_count": 1,
   "metadata": {},
   "outputs": [
    {
     "name": "stderr",
     "output_type": "stream",
     "text": [
      "c:\\Users\\caspa\\OneDrive - Vrije Universiteit Amsterdam\\VU Master\\data-mining-techniques-vu\\windows\\data-mining-techniques-vu\\.venv\\Lib\\site-packages\\tqdm\\auto.py:21: TqdmWarning: IProgress not found. Please update jupyter and ipywidgets. See https://ipywidgets.readthedocs.io/en/stable/user_install.html\n",
      "  from .autonotebook import tqdm as notebook_tqdm\n"
     ]
    },
    {
     "data": {
      "text/html": [
       "<div>\n",
       "<style scoped>\n",
       "    .dataframe tbody tr th:only-of-type {\n",
       "        vertical-align: middle;\n",
       "    }\n",
       "\n",
       "    .dataframe tbody tr th {\n",
       "        vertical-align: top;\n",
       "    }\n",
       "\n",
       "    .dataframe thead th {\n",
       "        text-align: right;\n",
       "    }\n",
       "</style>\n",
       "<table border=\"1\" class=\"dataframe\">\n",
       "  <thead>\n",
       "    <tr style=\"text-align: right;\">\n",
       "      <th></th>\n",
       "      <th>id</th>\n",
       "      <th>time</th>\n",
       "      <th>variable</th>\n",
       "      <th>value</th>\n",
       "    </tr>\n",
       "  </thead>\n",
       "  <tbody>\n",
       "    <tr>\n",
       "      <th>7</th>\n",
       "      <td>AS14.01</td>\n",
       "      <td>2014-03-21 09:00:00</td>\n",
       "      <td>mood</td>\n",
       "      <td>7.000000</td>\n",
       "    </tr>\n",
       "    <tr>\n",
       "      <th>8</th>\n",
       "      <td>AS14.01</td>\n",
       "      <td>2014-03-21 11:00:00</td>\n",
       "      <td>mood</td>\n",
       "      <td>6.542456</td>\n",
       "    </tr>\n",
       "    <tr>\n",
       "      <th>9</th>\n",
       "      <td>AS14.01</td>\n",
       "      <td>2014-03-21 15:00:00</td>\n",
       "      <td>mood</td>\n",
       "      <td>6.581664</td>\n",
       "    </tr>\n",
       "    <tr>\n",
       "      <th>10</th>\n",
       "      <td>AS14.01</td>\n",
       "      <td>2014-03-21 19:00:00</td>\n",
       "      <td>mood</td>\n",
       "      <td>6.617893</td>\n",
       "    </tr>\n",
       "    <tr>\n",
       "      <th>11</th>\n",
       "      <td>AS14.01</td>\n",
       "      <td>2014-03-21 21:00:00</td>\n",
       "      <td>mood</td>\n",
       "      <td>6.651368</td>\n",
       "    </tr>\n",
       "    <tr>\n",
       "      <th>...</th>\n",
       "      <td>...</td>\n",
       "      <td>...</td>\n",
       "      <td>...</td>\n",
       "      <td>...</td>\n",
       "    </tr>\n",
       "    <tr>\n",
       "      <th>380307</th>\n",
       "      <td>AS14.33</td>\n",
       "      <td>2014-05-22 21:00:00</td>\n",
       "      <td>circumplex.arousal</td>\n",
       "      <td>1.000000</td>\n",
       "    </tr>\n",
       "    <tr>\n",
       "      <th>380308</th>\n",
       "      <td>AS14.33</td>\n",
       "      <td>2014-05-23 09:00:00</td>\n",
       "      <td>circumplex.arousal</td>\n",
       "      <td>0.000000</td>\n",
       "    </tr>\n",
       "    <tr>\n",
       "      <th>380309</th>\n",
       "      <td>AS14.33</td>\n",
       "      <td>2014-05-25 18:00:00</td>\n",
       "      <td>circumplex.arousal</td>\n",
       "      <td>-2.000000</td>\n",
       "    </tr>\n",
       "    <tr>\n",
       "      <th>380310</th>\n",
       "      <td>AS14.33</td>\n",
       "      <td>2014-05-29 18:00:00</td>\n",
       "      <td>circumplex.arousal</td>\n",
       "      <td>-2.000000</td>\n",
       "    </tr>\n",
       "    <tr>\n",
       "      <th>380311</th>\n",
       "      <td>AS14.33</td>\n",
       "      <td>2014-05-29 21:00:00</td>\n",
       "      <td>circumplex.arousal</td>\n",
       "      <td>-2.000000</td>\n",
       "    </tr>\n",
       "  </tbody>\n",
       "</table>\n",
       "<p>375410 rows × 4 columns</p>\n",
       "</div>"
      ],
      "text/plain": [
       "             id                time            variable     value\n",
       "7       AS14.01 2014-03-21 09:00:00                mood  7.000000\n",
       "8       AS14.01 2014-03-21 11:00:00                mood  6.542456\n",
       "9       AS14.01 2014-03-21 15:00:00                mood  6.581664\n",
       "10      AS14.01 2014-03-21 19:00:00                mood  6.617893\n",
       "11      AS14.01 2014-03-21 21:00:00                mood  6.651368\n",
       "...         ...                 ...                 ...       ...\n",
       "380307  AS14.33 2014-05-22 21:00:00  circumplex.arousal  1.000000\n",
       "380308  AS14.33 2014-05-23 09:00:00  circumplex.arousal  0.000000\n",
       "380309  AS14.33 2014-05-25 18:00:00  circumplex.arousal -2.000000\n",
       "380310  AS14.33 2014-05-29 18:00:00  circumplex.arousal -2.000000\n",
       "380311  AS14.33 2014-05-29 21:00:00  circumplex.arousal -2.000000\n",
       "\n",
       "[375410 rows x 4 columns]"
      ]
     },
     "execution_count": 1,
     "metadata": {},
     "output_type": "execute_result"
    }
   ],
   "source": [
    "import configparser\n",
    "import os\n",
    "from joblib import dump, load\n",
    "import json\n",
    "from tqdm import tqdm\n",
    "from helpers.helper_functions import *\n",
    "from helpers.helper_classes import *\n",
    "import pandas as pd\n",
    "import matplotlib.pyplot as plt\n",
    "import numpy as np\n",
    "import statsmodels as sm\n",
    "import numpy as np\n",
    "import pmdarima as pm\n",
    "from statsmodels.tsa.arima.model import ARIMA\n",
    "\n",
    "pd.set_option('display.max_rows', 200)\n",
    "\n",
    "# Read config.ini file\n",
    "config = configparser.ConfigParser()\n",
    "config.read('src/config.ini')\n",
    "# os.chdir(config['PATH']['ROOT_DIR'])\n",
    "\n",
    "# # Load data from data folder joblib\n",
    "# df = load(config['PATH']['DATA_DIR'] + '/df_cleaned.joblib') \n",
    "# df = load(config['PATH']['DATA_DIR'] + '/df_cleaned_nocap.joblib') \n",
    "# df = load(config['PATH']['DATA_DIR'] + '/df_cleaned_cap1.joblib') \n",
    "df = load(config['PATH']['DATA_DIR'] + '/df_cleaned_cap2.joblib') \n",
    "\n",
    "\n",
    "\n",
    "\n",
    "# Time to datetime\n",
    "df['time'] = pd.to_datetime(df['time'], format='%Y-%m-%d %H:%M:%S', errors='coerce')\n",
    "df"
   ]
  },
  {
   "cell_type": "code",
   "execution_count": 2,
   "metadata": {},
   "outputs": [],
   "source": [
    "# all variables\n",
    "all_vars = df['variable'].unique()"
   ]
  },
  {
   "cell_type": "code",
   "execution_count": 3,
   "metadata": {},
   "outputs": [],
   "source": [
    "appCat_vars = [var for var in df['variable'].unique() if 'appCat' in var]\n",
    "avg_vars = ['mood', 'circumplex.arousal', 'circumplex.valence']\n",
    "sum_vars = ['call', 'sms', 'screen', 'activity'] + appCat_vars\n",
    "idc_vars = ['activity', 'call', 'sms']\n",
    "moving_avg_vars = ['mood', 'circumplex.arousal', 'circumplex.valence']\n",
    "count_vars = ['screen'] + appCat_vars\n",
    "minmax_vars = ['mood', 'circumplex.arousal', 'circumplex.valence']\n",
    "# # Create a dictionary of variables and their corresponding functions\n",
    "var_dict = {'avg': avg_vars,'sum': sum_vars, 'idc': idc_vars, 'moving_avg': moving_avg_vars, 'count': count_vars, 'minmax': minmax_vars}"
   ]
  },
  {
   "cell_type": "code",
   "execution_count": 71,
   "metadata": {},
   "outputs": [
    {
     "name": "stdout",
     "output_type": "stream",
     "text": [
      "Aggregating for person AS14.01 from 2014-03-20 09:00:00 to 2014-05-04 21:00:00\n"
     ]
    },
    {
     "name": "stderr",
     "output_type": "stream",
     "text": [
      "100%|██████████| 46/46 [00:54<00:00,  1.19s/it]\n"
     ]
    },
    {
     "name": "stdout",
     "output_type": "stream",
     "text": [
      "Aggregating for person AS14.02 from 2014-03-16 09:00:00 to 2014-04-23 21:00:00\n"
     ]
    },
    {
     "name": "stderr",
     "output_type": "stream",
     "text": [
      "100%|██████████| 39/39 [00:46<00:00,  1.19s/it]\n"
     ]
    },
    {
     "name": "stdout",
     "output_type": "stream",
     "text": [
      "Aggregating for person AS14.03 from 2014-03-21 09:00:00 to 2014-05-07 21:00:00\n"
     ]
    },
    {
     "name": "stderr",
     "output_type": "stream",
     "text": [
      "100%|██████████| 48/48 [00:55<00:00,  1.16s/it]\n"
     ]
    },
    {
     "name": "stdout",
     "output_type": "stream",
     "text": [
      "Aggregating for person AS14.05 from 2014-03-14 09:00:00 to 2014-05-05 21:00:00\n"
     ]
    },
    {
     "name": "stderr",
     "output_type": "stream",
     "text": [
      "100%|██████████| 53/53 [01:02<00:00,  1.18s/it]\n"
     ]
    },
    {
     "name": "stdout",
     "output_type": "stream",
     "text": [
      "Aggregating for person AS14.06 from 2014-03-24 09:00:00 to 2014-05-08 21:00:00\n"
     ]
    },
    {
     "name": "stderr",
     "output_type": "stream",
     "text": [
      "100%|██████████| 46/46 [00:54<00:00,  1.18s/it]\n"
     ]
    },
    {
     "name": "stdout",
     "output_type": "stream",
     "text": [
      "Aggregating for person AS14.07 from 2014-03-19 11:00:00 to 2014-05-04 21:00:00\n"
     ]
    },
    {
     "name": "stderr",
     "output_type": "stream",
     "text": [
      "100%|██████████| 47/47 [00:55<00:00,  1.19s/it]\n"
     ]
    },
    {
     "name": "stdout",
     "output_type": "stream",
     "text": [
      "Aggregating for person AS14.08 from 2014-03-13 09:00:00 to 2014-05-05 21:00:00\n"
     ]
    },
    {
     "name": "stderr",
     "output_type": "stream",
     "text": [
      "100%|██████████| 54/54 [01:08<00:00,  1.26s/it]\n"
     ]
    },
    {
     "name": "stdout",
     "output_type": "stream",
     "text": [
      "Aggregating for person AS14.09 from 2014-03-21 09:00:00 to 2014-04-26 21:00:00\n"
     ]
    },
    {
     "name": "stderr",
     "output_type": "stream",
     "text": [
      "100%|██████████| 37/37 [00:52<00:00,  1.41s/it]\n"
     ]
    },
    {
     "name": "stdout",
     "output_type": "stream",
     "text": [
      "Aggregating for person AS14.12 from 2014-03-27 09:00:00 to 2014-05-05 21:00:00\n"
     ]
    },
    {
     "name": "stderr",
     "output_type": "stream",
     "text": [
      "100%|██████████| 40/40 [00:48<00:00,  1.22s/it]\n"
     ]
    },
    {
     "name": "stdout",
     "output_type": "stream",
     "text": [
      "Aggregating for person AS14.13 from 2014-03-13 09:00:00 to 2014-05-03 21:00:00\n"
     ]
    },
    {
     "name": "stderr",
     "output_type": "stream",
     "text": [
      "100%|██████████| 52/52 [01:05<00:00,  1.25s/it]\n"
     ]
    },
    {
     "name": "stdout",
     "output_type": "stream",
     "text": [
      "Aggregating for person AS14.14 from 2014-03-21 09:00:00 to 2014-05-05 21:00:00\n"
     ]
    },
    {
     "name": "stderr",
     "output_type": "stream",
     "text": [
      "100%|██████████| 46/46 [01:00<00:00,  1.32s/it]\n"
     ]
    },
    {
     "name": "stdout",
     "output_type": "stream",
     "text": [
      "Aggregating for person AS14.15 from 2014-03-14 09:00:00 to 2014-05-06 21:00:00\n"
     ]
    },
    {
     "name": "stderr",
     "output_type": "stream",
     "text": [
      "100%|██████████| 54/54 [01:10<00:00,  1.31s/it]\n"
     ]
    },
    {
     "name": "stdout",
     "output_type": "stream",
     "text": [
      "Aggregating for person AS14.16 from 2014-03-13 09:00:00 to 2014-05-05 21:00:00\n"
     ]
    },
    {
     "name": "stderr",
     "output_type": "stream",
     "text": [
      "100%|██████████| 54/54 [01:07<00:00,  1.25s/it]\n"
     ]
    },
    {
     "name": "stdout",
     "output_type": "stream",
     "text": [
      "Aggregating for person AS14.17 from 2014-03-20 09:00:00 to 2014-05-05 21:00:00\n"
     ]
    },
    {
     "name": "stderr",
     "output_type": "stream",
     "text": [
      "100%|██████████| 47/47 [00:59<00:00,  1.28s/it]\n"
     ]
    },
    {
     "name": "stdout",
     "output_type": "stream",
     "text": [
      "Aggregating for person AS14.19 from 2014-03-21 09:00:00 to 2014-05-05 21:00:00\n"
     ]
    },
    {
     "name": "stderr",
     "output_type": "stream",
     "text": [
      "100%|██████████| 46/46 [00:58<00:00,  1.27s/it]\n"
     ]
    },
    {
     "name": "stdout",
     "output_type": "stream",
     "text": [
      "Aggregating for person AS14.20 from 2014-03-20 09:00:00 to 2014-04-29 22:00:00\n"
     ]
    },
    {
     "name": "stderr",
     "output_type": "stream",
     "text": [
      "100%|██████████| 41/41 [00:59<00:00,  1.44s/it]\n"
     ]
    },
    {
     "name": "stdout",
     "output_type": "stream",
     "text": [
      "Aggregating for person AS14.23 from 2014-03-22 09:00:00 to 2014-04-30 21:00:00\n"
     ]
    },
    {
     "name": "stderr",
     "output_type": "stream",
     "text": [
      "100%|██████████| 40/40 [00:49<00:00,  1.24s/it]\n"
     ]
    },
    {
     "name": "stdout",
     "output_type": "stream",
     "text": [
      "Aggregating for person AS14.24 from 2014-04-14 09:00:00 to 2014-06-08 21:00:00\n"
     ]
    },
    {
     "name": "stderr",
     "output_type": "stream",
     "text": [
      "100%|██████████| 56/56 [01:13<00:00,  1.31s/it]\n"
     ]
    },
    {
     "name": "stdout",
     "output_type": "stream",
     "text": [
      "Aggregating for person AS14.25 from 2014-04-08 09:00:00 to 2014-05-08 21:00:00\n"
     ]
    },
    {
     "name": "stderr",
     "output_type": "stream",
     "text": [
      "100%|██████████| 31/31 [00:39<00:00,  1.28s/it]\n"
     ]
    },
    {
     "name": "stdout",
     "output_type": "stream",
     "text": [
      "Aggregating for person AS14.26 from 2014-04-13 11:00:00 to 2014-05-29 21:00:00\n"
     ]
    },
    {
     "name": "stderr",
     "output_type": "stream",
     "text": [
      "100%|██████████| 47/47 [00:57<00:00,  1.23s/it]\n"
     ]
    },
    {
     "name": "stdout",
     "output_type": "stream",
     "text": [
      "Aggregating for person AS14.27 from 2014-04-03 09:00:00 to 2014-05-14 23:00:00\n"
     ]
    },
    {
     "name": "stderr",
     "output_type": "stream",
     "text": [
      "100%|██████████| 42/42 [00:51<00:00,  1.23s/it]\n"
     ]
    },
    {
     "name": "stdout",
     "output_type": "stream",
     "text": [
      "Aggregating for person AS14.28 from 2014-03-31 09:00:00 to 2014-05-08 21:00:00\n"
     ]
    },
    {
     "name": "stderr",
     "output_type": "stream",
     "text": [
      "100%|██████████| 39/39 [00:49<00:00,  1.28s/it]\n"
     ]
    },
    {
     "name": "stdout",
     "output_type": "stream",
     "text": [
      "Aggregating for person AS14.29 from 2014-04-02 09:00:00 to 2014-05-14 21:00:00\n"
     ]
    },
    {
     "name": "stderr",
     "output_type": "stream",
     "text": [
      "100%|██████████| 43/43 [01:00<00:00,  1.40s/it]\n"
     ]
    },
    {
     "name": "stdout",
     "output_type": "stream",
     "text": [
      "Aggregating for person AS14.30 from 2014-03-20 09:00:00 to 2014-05-04 21:00:00\n"
     ]
    },
    {
     "name": "stderr",
     "output_type": "stream",
     "text": [
      "100%|██████████| 46/46 [01:00<00:00,  1.32s/it]\n"
     ]
    },
    {
     "name": "stdout",
     "output_type": "stream",
     "text": [
      "Aggregating for person AS14.31 from 2014-04-02 09:00:00 to 2014-05-07 21:00:00\n"
     ]
    },
    {
     "name": "stderr",
     "output_type": "stream",
     "text": [
      "100%|██████████| 36/36 [00:50<00:00,  1.41s/it]\n"
     ]
    },
    {
     "name": "stdout",
     "output_type": "stream",
     "text": [
      "Aggregating for person AS14.32 from 2014-04-01 09:00:00 to 2014-05-12 21:00:00\n"
     ]
    },
    {
     "name": "stderr",
     "output_type": "stream",
     "text": [
      "100%|██████████| 42/42 [00:58<00:00,  1.39s/it]\n"
     ]
    },
    {
     "name": "stdout",
     "output_type": "stream",
     "text": [
      "Aggregating for person AS14.33 from 2014-04-16 09:00:00 to 2014-05-30 20:00:00\n"
     ]
    },
    {
     "name": "stderr",
     "output_type": "stream",
     "text": [
      "100%|██████████| 45/45 [00:55<00:00,  1.24s/it]\n"
     ]
    },
    {
     "data": {
      "text/plain": [
       "['./data/full_df_agg_cap95.joblib']"
      ]
     },
     "execution_count": 71,
     "metadata": {},
     "output_type": "execute_result"
    }
   ],
   "source": [
    "# Aggregate data to daily\n",
    "rwindow_size = 3\n",
    "df_agg = df\n",
    "\n",
    "full_df_new = pd.DataFrame()\n",
    "for person in df_agg['id'].unique():\n",
    "    id = person\n",
    "    min_date = df_agg[np.logical_and(df_agg['id'] == id, df_agg['variable'] == 'mood')]['time'].min()\n",
    "    max_date = df_agg[np.logical_and(df_agg['id'] == id, df_agg['variable'] == 'mood')]['time'].max()\n",
    "\n",
    "    # Get length of pd.date_range(start=min_date, end=max_date, freq='D')\n",
    "    \n",
    "\n",
    "\n",
    "    new_data = [{}] * len(pd.date_range(start=min_date, end=max_date, freq='D'))\n",
    "    print(f\"Aggregating for person {id} from {min_date} to {max_date}\")\n",
    "    for i, date in enumerate(tqdm(pd.date_range(start=min_date, end=max_date, freq='D'))):\n",
    "        idx_date = np.logical_and(df_agg['time'].dt.date == date.date(), df_agg['id'] == id)\n",
    "        # print(df_agg[idx_date])\n",
    "\n",
    "        new_row = {'id': id, 'time': date.date()}\n",
    "        for key, var_list in var_dict.items():\n",
    "            for var in var_list:\n",
    "                idx_var = np.logical_and(idx_date, df_agg['variable'] == var)\n",
    "                if key == 'sum':\n",
    "                    new_row[var + '_sum'] = df_agg[idx_var]['value'].sum()\n",
    "                elif key == 'avg':\n",
    "                    new_row[var + '_avg'] = df_agg[idx_var]['value'].mean()\n",
    "                elif key == 'idc':\n",
    "                    new_row[var + '_idc'] = 1 if df_agg[idx_var]['value'].sum() > 0 else 0\n",
    "                elif key == 'count':\n",
    "                    new_row[var + '_count'] = df_agg[idx_var]['value'].sum()\n",
    "                elif key == 'minmax':\n",
    "                    new_row[var + '_min'] = df_agg[idx_var]['value'].min()\n",
    "                    new_row[var + '_max'] = df_agg[idx_var]['value'].max()\n",
    "\n",
    "        # Special vars\n",
    "        new_row['day_of_week'] = date.dayofweek\n",
    "        \n",
    "        new_data[i] = (new_row)\n",
    "    \n",
    "    new_df = pd.DataFrame(new_data)\n",
    "\n",
    "    # full df features\n",
    "    # Moving average\n",
    "    for var in moving_avg_vars:\n",
    "        new_df[var + '_moving_avg'] = new_df[var + '_avg'].rolling(rwindow_size).mean()\n",
    "    # drop first 6 rows for NA moving avg\n",
    "    new_df = new_df[rwindow_size-1:]\n",
    "\n",
    "    # target is mean mood of following day\n",
    "    new_df['target'] = new_df['mood_avg'].shift(-1)\n",
    "    # drop last row for NA target\n",
    "    new_df = new_df[:-1]\n",
    "\n",
    "    full_df_new = pd.concat([full_df_new, new_df])\n",
    "full_df_new = pd.concat([full_df_new, pd.get_dummies(full_df_new['day_of_week'], prefix='day_of_week')], axis=1)\n",
    "full_df_new = full_df_new.drop(columns=['day_of_week'])\n",
    "\n"
   ]
  },
  {
   "cell_type": "code",
   "execution_count": 81,
   "metadata": {},
   "outputs": [
    {
     "data": {
      "text/plain": [
       "['./data/full_df_agg_cap95.joblib']"
      ]
     },
     "execution_count": 81,
     "metadata": {},
     "output_type": "execute_result"
    }
   ],
   "source": [
    "dump(full_df_new, config['PATH']['DATA_DIR'] + '/full_df_agg_cap95.joblib')"
   ]
  },
  {
   "cell_type": "code",
   "execution_count": 5,
   "metadata": {},
   "outputs": [
    {
     "name": "stdout",
     "output_type": "stream",
     "text": [
      "Aggregating for person AS14.01 from 2014-03-20 09:00:00 to 2014-05-04 21:00:00\n"
     ]
    },
    {
     "name": "stderr",
     "output_type": "stream",
     "text": [
      "100%|██████████| 46/46 [00:52<00:00,  1.14s/it]\n"
     ]
    },
    {
     "name": "stdout",
     "output_type": "stream",
     "text": [
      "Aggregating for person AS14.02 from 2014-03-16 09:00:00 to 2014-04-23 21:00:00\n"
     ]
    },
    {
     "name": "stderr",
     "output_type": "stream",
     "text": [
      "100%|██████████| 39/39 [00:50<00:00,  1.29s/it]\n"
     ]
    },
    {
     "name": "stdout",
     "output_type": "stream",
     "text": [
      "Aggregating for person AS14.03 from 2014-03-21 09:00:00 to 2014-05-07 21:00:00\n"
     ]
    },
    {
     "name": "stderr",
     "output_type": "stream",
     "text": [
      "100%|██████████| 48/48 [00:59<00:00,  1.23s/it]\n"
     ]
    },
    {
     "name": "stdout",
     "output_type": "stream",
     "text": [
      "Aggregating for person AS14.05 from 2014-03-14 09:00:00 to 2014-05-05 21:00:00\n"
     ]
    },
    {
     "name": "stderr",
     "output_type": "stream",
     "text": [
      "100%|██████████| 53/53 [01:00<00:00,  1.14s/it]\n"
     ]
    },
    {
     "name": "stdout",
     "output_type": "stream",
     "text": [
      "Aggregating for person AS14.06 from 2014-03-24 09:00:00 to 2014-05-08 21:00:00\n"
     ]
    },
    {
     "name": "stderr",
     "output_type": "stream",
     "text": [
      "100%|██████████| 46/46 [00:55<00:00,  1.21s/it]\n"
     ]
    },
    {
     "name": "stdout",
     "output_type": "stream",
     "text": [
      "Aggregating for person AS14.07 from 2014-03-19 11:00:00 to 2014-05-04 21:00:00\n"
     ]
    },
    {
     "name": "stderr",
     "output_type": "stream",
     "text": [
      "100%|██████████| 47/47 [00:58<00:00,  1.23s/it]\n"
     ]
    },
    {
     "name": "stdout",
     "output_type": "stream",
     "text": [
      "Aggregating for person AS14.08 from 2014-03-13 09:00:00 to 2014-05-05 21:00:00\n"
     ]
    },
    {
     "name": "stderr",
     "output_type": "stream",
     "text": [
      "100%|██████████| 54/54 [01:06<00:00,  1.24s/it]\n"
     ]
    },
    {
     "name": "stdout",
     "output_type": "stream",
     "text": [
      "Aggregating for person AS14.09 from 2014-03-21 09:00:00 to 2014-04-26 21:00:00\n"
     ]
    },
    {
     "name": "stderr",
     "output_type": "stream",
     "text": [
      "100%|██████████| 37/37 [00:43<00:00,  1.17s/it]\n"
     ]
    },
    {
     "name": "stdout",
     "output_type": "stream",
     "text": [
      "Aggregating for person AS14.12 from 2014-03-27 09:00:00 to 2014-05-05 21:00:00\n"
     ]
    },
    {
     "name": "stderr",
     "output_type": "stream",
     "text": [
      "100%|██████████| 40/40 [00:49<00:00,  1.23s/it]\n"
     ]
    },
    {
     "name": "stdout",
     "output_type": "stream",
     "text": [
      "Aggregating for person AS14.13 from 2014-03-13 09:00:00 to 2014-05-03 21:00:00\n"
     ]
    },
    {
     "name": "stderr",
     "output_type": "stream",
     "text": [
      "100%|██████████| 52/52 [00:59<00:00,  1.15s/it]\n"
     ]
    },
    {
     "name": "stdout",
     "output_type": "stream",
     "text": [
      "Aggregating for person AS14.14 from 2014-03-21 09:00:00 to 2014-05-05 21:00:00\n"
     ]
    },
    {
     "name": "stderr",
     "output_type": "stream",
     "text": [
      "100%|██████████| 46/46 [00:55<00:00,  1.21s/it]\n"
     ]
    },
    {
     "name": "stdout",
     "output_type": "stream",
     "text": [
      "Aggregating for person AS14.15 from 2014-03-14 09:00:00 to 2014-05-06 21:00:00\n"
     ]
    },
    {
     "name": "stderr",
     "output_type": "stream",
     "text": [
      "100%|██████████| 54/54 [01:08<00:00,  1.26s/it]\n"
     ]
    },
    {
     "name": "stdout",
     "output_type": "stream",
     "text": [
      "Aggregating for person AS14.16 from 2014-03-13 09:00:00 to 2014-05-05 21:00:00\n"
     ]
    },
    {
     "name": "stderr",
     "output_type": "stream",
     "text": [
      "100%|██████████| 54/54 [01:04<00:00,  1.19s/it]\n"
     ]
    },
    {
     "name": "stdout",
     "output_type": "stream",
     "text": [
      "Aggregating for person AS14.17 from 2014-03-20 09:00:00 to 2014-05-05 21:00:00\n"
     ]
    },
    {
     "name": "stderr",
     "output_type": "stream",
     "text": [
      "100%|██████████| 47/47 [00:55<00:00,  1.18s/it]\n"
     ]
    },
    {
     "name": "stdout",
     "output_type": "stream",
     "text": [
      "Aggregating for person AS14.19 from 2014-03-21 09:00:00 to 2014-05-05 21:00:00\n"
     ]
    },
    {
     "name": "stderr",
     "output_type": "stream",
     "text": [
      "100%|██████████| 46/46 [00:57<00:00,  1.26s/it]\n"
     ]
    },
    {
     "name": "stdout",
     "output_type": "stream",
     "text": [
      "Aggregating for person AS14.20 from 2014-03-20 09:00:00 to 2014-04-29 22:00:00\n"
     ]
    },
    {
     "name": "stderr",
     "output_type": "stream",
     "text": [
      "100%|██████████| 41/41 [00:51<00:00,  1.25s/it]\n"
     ]
    },
    {
     "name": "stdout",
     "output_type": "stream",
     "text": [
      "Aggregating for person AS14.23 from 2014-03-22 09:00:00 to 2014-04-30 21:00:00\n"
     ]
    },
    {
     "name": "stderr",
     "output_type": "stream",
     "text": [
      "100%|██████████| 40/40 [00:52<00:00,  1.31s/it]\n"
     ]
    },
    {
     "name": "stdout",
     "output_type": "stream",
     "text": [
      "Aggregating for person AS14.24 from 2014-04-14 09:00:00 to 2014-06-08 21:00:00\n"
     ]
    },
    {
     "name": "stderr",
     "output_type": "stream",
     "text": [
      "100%|██████████| 56/56 [01:10<00:00,  1.26s/it]\n"
     ]
    },
    {
     "name": "stdout",
     "output_type": "stream",
     "text": [
      "Aggregating for person AS14.25 from 2014-04-08 09:00:00 to 2014-05-08 21:00:00\n"
     ]
    },
    {
     "name": "stderr",
     "output_type": "stream",
     "text": [
      "100%|██████████| 31/31 [00:37<00:00,  1.22s/it]\n"
     ]
    },
    {
     "name": "stdout",
     "output_type": "stream",
     "text": [
      "Aggregating for person AS14.26 from 2014-04-13 11:00:00 to 2014-05-29 21:00:00\n"
     ]
    },
    {
     "name": "stderr",
     "output_type": "stream",
     "text": [
      "100%|██████████| 47/47 [00:53<00:00,  1.14s/it]\n"
     ]
    },
    {
     "name": "stdout",
     "output_type": "stream",
     "text": [
      "Aggregating for person AS14.27 from 2014-04-03 09:00:00 to 2014-05-14 23:00:00\n"
     ]
    },
    {
     "name": "stderr",
     "output_type": "stream",
     "text": [
      "100%|██████████| 42/42 [00:51<00:00,  1.22s/it]\n"
     ]
    },
    {
     "name": "stdout",
     "output_type": "stream",
     "text": [
      "Aggregating for person AS14.28 from 2014-03-31 09:00:00 to 2014-05-08 21:00:00\n"
     ]
    },
    {
     "name": "stderr",
     "output_type": "stream",
     "text": [
      "100%|██████████| 39/39 [00:49<00:00,  1.26s/it]\n"
     ]
    },
    {
     "name": "stdout",
     "output_type": "stream",
     "text": [
      "Aggregating for person AS14.29 from 2014-04-02 09:00:00 to 2014-05-14 21:00:00\n"
     ]
    },
    {
     "name": "stderr",
     "output_type": "stream",
     "text": [
      "100%|██████████| 43/43 [00:51<00:00,  1.21s/it]\n"
     ]
    },
    {
     "name": "stdout",
     "output_type": "stream",
     "text": [
      "Aggregating for person AS14.30 from 2014-03-20 09:00:00 to 2014-05-04 21:00:00\n"
     ]
    },
    {
     "name": "stderr",
     "output_type": "stream",
     "text": [
      "100%|██████████| 46/46 [00:56<00:00,  1.22s/it]\n"
     ]
    },
    {
     "name": "stdout",
     "output_type": "stream",
     "text": [
      "Aggregating for person AS14.31 from 2014-04-02 09:00:00 to 2014-05-07 21:00:00\n"
     ]
    },
    {
     "name": "stderr",
     "output_type": "stream",
     "text": [
      "100%|██████████| 36/36 [00:40<00:00,  1.13s/it]\n"
     ]
    },
    {
     "name": "stdout",
     "output_type": "stream",
     "text": [
      "Aggregating for person AS14.32 from 2014-04-01 09:00:00 to 2014-05-12 21:00:00\n"
     ]
    },
    {
     "name": "stderr",
     "output_type": "stream",
     "text": [
      "100%|██████████| 42/42 [00:49<00:00,  1.17s/it]\n"
     ]
    },
    {
     "name": "stdout",
     "output_type": "stream",
     "text": [
      "Aggregating for person AS14.33 from 2014-04-16 09:00:00 to 2014-05-30 20:00:00\n"
     ]
    },
    {
     "name": "stderr",
     "output_type": "stream",
     "text": [
      "100%|██████████| 45/45 [00:57<00:00,  1.27s/it]\n"
     ]
    },
    {
     "data": {
      "text/plain": [
       "['./data/full_df_daily_cap95.joblib']"
      ]
     },
     "execution_count": 5,
     "metadata": {},
     "output_type": "execute_result"
    }
   ],
   "source": [
    "rwindow_size = 3\n",
    "df_agg = df\n",
    "\n",
    "full_df_new = pd.DataFrame()\n",
    "for person in df_agg['id'].unique():\n",
    "    id = person\n",
    "    min_date = df_agg[np.logical_and(df_agg['id'] == id, df_agg['variable'] == 'mood')]['time'].min()\n",
    "    max_date = df_agg[np.logical_and(df_agg['id'] == id, df_agg['variable'] == 'mood')]['time'].max()\n",
    "\n",
    "    # Get length of pd.date_range(start=min_date, end=max_date, freq='D')\n",
    "    \n",
    "\n",
    "\n",
    "    new_data = [{}] * len(pd.date_range(start=min_date, end=max_date, freq='D'))\n",
    "    print(f\"Aggregating for person {id} from {min_date} to {max_date}\")\n",
    "    for i, date in enumerate(tqdm(pd.date_range(start=min_date, end=max_date, freq='D'))):\n",
    "        idx_date = np.logical_and(df_agg['time'].dt.date == date.date(), df_agg['id'] == id)\n",
    "        # print(df_agg[idx_date])\n",
    "\n",
    "        new_row = {'id': id, 'time': date.date()}\n",
    "        for key, var_list in var_dict.items():\n",
    "            for var in var_list:\n",
    "                idx_var = np.logical_and(idx_date, df_agg['variable'] == var)\n",
    "                if key == 'sum':\n",
    "                    new_row[var + '_sum'] = df_agg[idx_var]['value'].sum()\n",
    "                elif key == 'avg':\n",
    "                    new_row[var + '_avg'] = df_agg[idx_var]['value'].mean()\n",
    "                elif key == 'idc':\n",
    "                    new_row[var + '_idc'] = 1 if df_agg[idx_var]['value'].sum() > 0 else 0\n",
    "                elif key == 'count':\n",
    "                    new_row[var + '_count'] = df_agg[idx_var]['value'].sum()\n",
    "                elif key == 'minmax':\n",
    "                    new_row[var + '_min'] = df_agg[idx_var]['value'].min()\n",
    "                    new_row[var + '_max'] = df_agg[idx_var]['value'].max()\n",
    "\n",
    "        # Special vars\n",
    "        new_row['day_of_week'] = date.dayofweek\n",
    "        \n",
    "        new_data[i] = (new_row)\n",
    "    \n",
    "    new_df = pd.DataFrame(new_data)\n",
    "\n",
    "    # target is mean mood of following day\n",
    "    new_df['target'] = new_df['mood_avg'].shift(-1)\n",
    "    # drop last row for NA target\n",
    "    new_df = new_df[:-1]\n",
    "\n",
    "    full_df_new = pd.concat([full_df_new, new_df])\n",
    "full_df_new = pd.concat([full_df_new, pd.get_dummies(full_df_new['day_of_week'], prefix='day_of_week', drop_first = True)], axis=1)\n",
    "full_df_new = full_df_new.drop(columns=['day_of_week'])\n",
    "\n",
    "dump(full_df_new, config['PATH']['DATA_DIR'] + '/full_df_daily_cap95.joblib')"
   ]
  },
  {
   "cell_type": "code",
   "execution_count": 99,
   "metadata": {},
   "outputs": [
    {
     "name": "stdout",
     "output_type": "stream",
     "text": [
      "\\begin{tabular}{lllllll}\n",
      "\\toprule\n",
      " & avg & sum & moving_avg & minmax & idc & count \\\\\n",
      "\\midrule\n",
      "mood & \\ding{52} & \\ding{55} & \\ding{52} & \\ding{52} & \\ding{55} & \\ding{55} \\\\\n",
      "circumplex.arousal & \\ding{52} & \\ding{55} & \\ding{52} & \\ding{52} & \\ding{55} & \\ding{55} \\\\\n",
      "circumplex.valence & \\ding{52} & \\ding{55} & \\ding{52} & \\ding{52} & \\ding{55} & \\ding{55} \\\\\n",
      "call & \\ding{55} & \\ding{52} & \\ding{55} & \\ding{55} & \\ding{52} & \\ding{55} \\\\\n",
      "sms & \\ding{55} & \\ding{52} & \\ding{55} & \\ding{55} & \\ding{52} & \\ding{55} \\\\\n",
      "screen & \\ding{55} & \\ding{52} & \\ding{55} & \\ding{55} & \\ding{55} & \\ding{52} \\\\\n",
      "activity & \\ding{55} & \\ding{52} & \\ding{55} & \\ding{55} & \\ding{52} & \\ding{55} \\\\\n",
      "appCat.builtin & \\ding{55} & \\ding{52} & \\ding{55} & \\ding{55} & \\ding{55} & \\ding{52} \\\\\n",
      "appCat.communication & \\ding{55} & \\ding{52} & \\ding{55} & \\ding{55} & \\ding{55} & \\ding{52} \\\\\n",
      "appCat.entertainment & \\ding{55} & \\ding{52} & \\ding{55} & \\ding{55} & \\ding{55} & \\ding{52} \\\\\n",
      "appCat.finance & \\ding{55} & \\ding{52} & \\ding{55} & \\ding{55} & \\ding{55} & \\ding{52} \\\\\n",
      "appCat.game & \\ding{55} & \\ding{52} & \\ding{55} & \\ding{55} & \\ding{55} & \\ding{52} \\\\\n",
      "appCat.office & \\ding{55} & \\ding{52} & \\ding{55} & \\ding{55} & \\ding{55} & \\ding{52} \\\\\n",
      "appCat.other & \\ding{55} & \\ding{52} & \\ding{55} & \\ding{55} & \\ding{55} & \\ding{52} \\\\\n",
      "appCat.social & \\ding{55} & \\ding{52} & \\ding{55} & \\ding{55} & \\ding{55} & \\ding{52} \\\\\n",
      "appCat.travel & \\ding{55} & \\ding{52} & \\ding{55} & \\ding{55} & \\ding{55} & \\ding{52} \\\\\n",
      "appCat.unknown & \\ding{55} & \\ding{52} & \\ding{55} & \\ding{55} & \\ding{55} & \\ding{52} \\\\\n",
      "appCat.utilities & \\ding{55} & \\ding{52} & \\ding{55} & \\ding{55} & \\ding{55} & \\ding{52} \\\\\n",
      "appCat.weather & \\ding{55} & \\ding{52} & \\ding{55} & \\ding{55} & \\ding{55} & \\ding{52} \\\\\n",
      "\\bottomrule\n",
      "\\end{tabular}\n",
      "\n"
     ]
    }
   ],
   "source": [
    "import pandas as pd\n",
    "\n",
    "# Change dict s.t. each variable is a key and the value is a list of operations\n",
    "var_dict2 = {}\n",
    "for key, var_list in var_dict.items():\n",
    "    for var in var_list:\n",
    "        if var in var_dict2.keys():\n",
    "            var_dict2[var].append(key)\n",
    "        else:\n",
    "            var_dict2[var] = [key]\n",
    "var_dict2\n",
    "\n",
    "columns = ['avg', 'sum', 'moving_avg', 'minmax', 'idc', 'count']\n",
    "\n",
    "# Create an empty dataframe with the desired structure\n",
    "df_var_transforms = pd.DataFrame(index=var_dict2.keys(), columns=columns)\n",
    "\n",
    "# Fill the dataframe with 1 or 0 based on the dictionary\n",
    "for key, values in var_dict2.items():\n",
    "    for column in columns:\n",
    "        df.loc[key, column] = '\\ding{52}' if column in values else '\\ding{55}'\n",
    "\n",
    "\n",
    "# df to latex\n",
    "print(df.to_latex())\n"
   ]
  },
  {
   "cell_type": "code",
   "execution_count": null,
   "metadata": {},
   "outputs": [
    {
     "data": {
      "text/plain": [
       "[<matplotlib.lines.Line2D at 0x28684503990>]"
      ]
     },
     "execution_count": 99,
     "metadata": {},
     "output_type": "execute_result"
    },
    {
     "data": {
      "image/png": "[encoded data removed]",
      "text/plain": [
       "<Figure size 640x480 with 1 Axes>"
      ]
     },
     "metadata": {},
     "output_type": "display_data"
    },
    {
     "data": {
      "image/png": "[encoded data removed]",
      "text/plain": [
       "<Figure size 640x480 with 2 Axes>"
      ]
     },
     "metadata": {},
     "output_type": "display_data"
    }
   ],
   "source": [
    "new_df['screen_sum'].plot()\n",
    "# plot day of the week on seperate y axis\n",
    "fig, ax1 = plt.subplots()\n",
    "ax1.plot(new_df['time'], new_df['mood_avg'])\n",
    "ax2 = ax1.twinx()\n",
    "ax2.plot(new_df['time'], new_df['day_of_week'], color='red')\n"
   ]
  },
  {
   "cell_type": "code",
   "execution_count": null,
   "metadata": {},
   "outputs": [],
   "source": []
  }
 ],
 "metadata": {
  "kernelspec": {
   "display_name": ".venv",
   "language": "python",
   "name": "python3"
  },
  "language_info": {
   "codemirror_mode": {
    "name": "ipython",
    "version": 3
   },
   "file_extension": ".py",
   "mimetype": "text/x-python",
   "name": "python",
   "nbconvert_exporter": "python",
   "pygments_lexer": "ipython3",
   "version": "3.11.1"
  },
  "orig_nbformat": 4
 },
 "nbformat": 4,
 "nbformat_minor": 2
}
