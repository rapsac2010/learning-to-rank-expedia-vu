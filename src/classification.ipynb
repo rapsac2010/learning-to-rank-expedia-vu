{
 "cells": [
  {
   "cell_type": "code",
   "execution_count": 5,
   "metadata": {},
   "outputs": [],
   "source": [
    "import configparser\n",
    "import os\n",
    "from joblib import dump, load\n",
    "import json\n",
    "from tqdm import tqdm\n",
    "from helpers.helper_functions import *\n",
    "from helpers.helper_classes import *\n",
    "import pandas as pd\n",
    "import matplotlib.pyplot as plt\n",
    "import numpy as np\n",
    "import statsmodels as sm\n",
    "import numpy as np\n",
    "import pmdarima as pm\n",
    "from statsmodels.tsa.arima.model import ARIMA\n",
    "import scienceplots\n",
    "import latex\n",
    "\n",
    "from sklearn.preprocessing import StandardScaler\n",
    "from sklearn.compose import ColumnTransformer\n",
    "from sklearn.pipeline import Pipeline\n",
    "from sklearn.ensemble import RandomForestClassifier, GradientBoostingClassifier\n",
    "from sklearn.naive_bayes import GaussianNB\n",
    "from sklearn.svm import SVC\n",
    "from sklearn.neighbors import KNeighborsClassifier\n",
    "from sklearn.metrics import accuracy_score\n",
    "import optuna\n",
    "from optuna import Trial\n",
    "\n",
    "\n",
    "# Set plotting parameters\n",
    "plt.style.use(['science', 'ieee'])\n",
    "plt.rcParams['figure.dpi'] = 100\n",
    "\n",
    "pd.set_option('display.max_rows', 200)\n",
    "\n",
    "# Read config.ini file\n",
    "config = configparser.ConfigParser()\n",
    "config.read('src/config.ini')\n",
    "\n",
    "# Read data\n",
    "df = load(config['PATH']['DATA_DIR'] + '/full_df_agg_cap95.joblib')"
   ]
  },
  {
   "attachments": {},
   "cell_type": "markdown",
   "metadata": {},
   "source": [
    "### Set up as classification problem\n",
    "For a classification problem we need a discrete target (multiple classes), as the target is average mood we need to transform the target.\n",
    "We therefore round to the closest integer.\n"
   ]
  },
  {
   "cell_type": "code",
   "execution_count": 6,
   "metadata": {},
   "outputs": [
    {
     "data": {
      "text/plain": [
       "array([7, 6, 8, 5, 9, 4])"
      ]
     },
     "execution_count": 6,
     "metadata": {},
     "output_type": "execute_result"
    }
   ],
   "source": [
    "df['target'] = df['target'].round(0).astype(int)\n",
    "df['target'].unique()"
   ]
  },
  {
   "attachments": {},
   "cell_type": "markdown",
   "metadata": {},
   "source": [
    "## Train test split\n",
    "As we are dealing with time series data we can't take a random 70/30 split of the data. \n"
   ]
  },
  {
   "cell_type": "code",
   "execution_count": 7,
   "metadata": {},
   "outputs": [
    {
     "data": {
      "text/plain": [
       "[datetime.date(2014, 4, 7)]"
      ]
     },
     "execution_count": 7,
     "metadata": {},
     "output_type": "execute_result"
    },
    {
     "data": {
      "image/png": "[encoded data removed]",
      "text/plain": [
       "<Figure size 500x300 with 1 Axes>"
      ]
     },
     "metadata": {},
     "output_type": "display_data"
    }
   ],
   "source": [
    "find_split_ts(df, 0.3, plot_data = True)"
   ]
  },
  {
   "attachments": {},
   "cell_type": "markdown",
   "metadata": {},
   "source": [
    "# Classification algorithm \n",
    "We optimize over parameters but also over classification algorithm\n",
    "Included algorithms are: \n",
    "* RandomForest\n",
    "* GradientBoosting\n",
    "* NaiveBayes\n",
    "* SVC\n",
    "* KNN\n"
   ]
  },
  {
   "cell_type": "code",
   "execution_count": 13,
   "metadata": {},
   "outputs": [
    {
     "name": "stderr",
     "output_type": "stream",
     "text": [
      "\u001b[32m[I 2023-04-16 13:25:12,779]\u001b[0m A new study created in memory with name: no-name-95adde70-6649-4119-ac05-7e8c461b88d9\u001b[0m\n",
      "\u001b[32m[I 2023-04-16 13:25:12,849]\u001b[0m Trial 0 finished with value: 0.6339285714285714 and parameters: {'classifier': 'RandomForest', 'n_estimators': 24, 'max_depth': 3}. Best is trial 0 with value: 0.6339285714285714.\u001b[0m\n",
      "\u001b[32m[I 2023-04-16 13:25:12,938]\u001b[0m Trial 1 finished with value: 0.65625 and parameters: {'classifier': 'RandomForest', 'n_estimators': 19, 'max_depth': 4}. Best is trial 1 with value: 0.65625.\u001b[0m\n",
      "\u001b[32m[I 2023-04-16 13:25:13,283]\u001b[0m Trial 2 finished with value: 0.6517857142857143 and parameters: {'classifier': 'RandomForest', 'n_estimators': 131, 'max_depth': 6}. Best is trial 1 with value: 0.65625.\u001b[0m\n",
      "\u001b[32m[I 2023-04-16 13:25:13,308]\u001b[0m Trial 3 finished with value: 0.6116071428571429 and parameters: {'classifier': 'KNN', 'n_neighbors': 7}. Best is trial 1 with value: 0.65625.\u001b[0m\n",
      "\u001b[32m[I 2023-04-16 13:25:13,333]\u001b[0m Trial 4 finished with value: 0.44642857142857145 and parameters: {'classifier': 'KNN', 'n_neighbors': 2}. Best is trial 1 with value: 0.65625.\u001b[0m\n",
      "\u001b[32m[I 2023-04-16 13:25:13,652]\u001b[0m Trial 5 finished with value: 0.65625 and parameters: {'classifier': 'RandomForest', 'n_estimators': 119, 'max_depth': 9}. Best is trial 1 with value: 0.65625.\u001b[0m\n",
      "\u001b[32m[I 2023-04-16 13:25:13,695]\u001b[0m Trial 6 finished with value: 0.6160714285714286 and parameters: {'classifier': 'RandomForest', 'n_estimators': 11, 'max_depth': 6}. Best is trial 1 with value: 0.65625.\u001b[0m\n",
      "\u001b[32m[I 2023-04-16 13:25:13,718]\u001b[0m Trial 7 finished with value: 0.6205357142857143 and parameters: {'classifier': 'KNN', 'n_neighbors': 11}. Best is trial 1 with value: 0.65625.\u001b[0m\n",
      "\u001b[32m[I 2023-04-16 13:25:14,025]\u001b[0m Trial 8 finished with value: 0.6517857142857143 and parameters: {'classifier': 'RandomForest', 'n_estimators': 136, 'max_depth': 5}. Best is trial 1 with value: 0.65625.\u001b[0m\n",
      "\u001b[32m[I 2023-04-16 13:25:15,591]\u001b[0m Trial 9 finished with value: 0.6473214285714286 and parameters: {'classifier': 'GradientBoosting', 'n_estimators': 78, 'learning_rate': 0.436997193887001, 'max_depth': 7}. Best is trial 1 with value: 0.65625.\u001b[0m\n",
      "\u001b[32m[I 2023-04-16 13:25:15,620]\u001b[0m Trial 10 finished with value: 0.6116071428571429 and parameters: {'classifier': 'SVC', 'C': 0.019528575205585853, 'kernel': 'rbf'}. Best is trial 1 with value: 0.65625.\u001b[0m\n",
      "\u001b[32m[I 2023-04-16 13:25:15,654]\u001b[0m Trial 11 finished with value: 0.6026785714285714 and parameters: {'classifier': 'Naive Bayes', 'n_neighbors': 18}. Best is trial 1 with value: 0.65625.\u001b[0m\n",
      "\u001b[32m[I 2023-04-16 13:25:16,142]\u001b[0m Trial 12 finished with value: 0.65625 and parameters: {'classifier': 'RandomForest', 'n_estimators': 196, 'max_depth': 10}. Best is trial 1 with value: 0.65625.\u001b[0m\n",
      "\u001b[32m[I 2023-04-16 13:25:16,954]\u001b[0m Trial 13 finished with value: 0.6026785714285714 and parameters: {'classifier': 'GradientBoosting', 'n_estimators': 82, 'learning_rate': 0.9670750261186374, 'max_depth': 10}. Best is trial 1 with value: 0.65625.\u001b[0m\n",
      "\u001b[32m[I 2023-04-16 13:25:16,983]\u001b[0m Trial 14 finished with value: 0.49107142857142855 and parameters: {'classifier': 'SVC', 'C': 571.4138900389751, 'kernel': 'sigmoid'}. Best is trial 1 with value: 0.65625.\u001b[0m\n",
      "\u001b[32m[I 2023-04-16 13:25:17,013]\u001b[0m Trial 15 finished with value: 0.6160714285714286 and parameters: {'classifier': 'Naive Bayes', 'n_neighbors': 20}. Best is trial 1 with value: 0.65625.\u001b[0m\n",
      "\u001b[32m[I 2023-04-16 13:25:17,165]\u001b[0m Trial 16 finished with value: 0.6473214285714286 and parameters: {'classifier': 'RandomForest', 'n_estimators': 56, 'max_depth': 8}. Best is trial 1 with value: 0.65625.\u001b[0m\n",
      "\u001b[32m[I 2023-04-16 13:25:17,420]\u001b[0m Trial 17 finished with value: 0.6428571428571429 and parameters: {'classifier': 'RandomForest', 'n_estimators': 131, 'max_depth': 3}. Best is trial 1 with value: 0.65625.\u001b[0m\n",
      "\u001b[32m[I 2023-04-16 13:25:17,836]\u001b[0m Trial 18 finished with value: 0.65625 and parameters: {'classifier': 'RandomForest', 'n_estimators': 177, 'max_depth': 8}. Best is trial 1 with value: 0.65625.\u001b[0m\n",
      "\u001b[32m[I 2023-04-16 13:25:17,866]\u001b[0m Trial 19 finished with value: 0.6116071428571429 and parameters: {'classifier': 'Naive Bayes', 'n_neighbors': 13}. Best is trial 1 with value: 0.65625.\u001b[0m\n",
      "\u001b[32m[I 2023-04-16 13:25:17,889]\u001b[0m Trial 20 finished with value: 0.6116071428571429 and parameters: {'classifier': 'SVC', 'C': 0.0013811896850022595, 'kernel': 'poly'}. Best is trial 1 with value: 0.65625.\u001b[0m\n",
      "\u001b[32m[I 2023-04-16 13:25:18,359]\u001b[0m Trial 21 finished with value: 0.6607142857142857 and parameters: {'classifier': 'RandomForest', 'n_estimators': 198, 'max_depth': 10}. Best is trial 21 with value: 0.6607142857142857.\u001b[0m\n",
      "\u001b[32m[I 2023-04-16 13:25:18,750]\u001b[0m Trial 22 finished with value: 0.6651785714285714 and parameters: {'classifier': 'RandomForest', 'n_estimators': 158, 'max_depth': 9}. Best is trial 22 with value: 0.6651785714285714.\u001b[0m\n",
      "\u001b[32m[I 2023-04-16 13:25:19,167]\u001b[0m Trial 23 finished with value: 0.6607142857142857 and parameters: {'classifier': 'RandomForest', 'n_estimators': 165, 'max_depth': 9}. Best is trial 22 with value: 0.6651785714285714.\u001b[0m\n",
      "\u001b[32m[I 2023-04-16 13:25:19,567]\u001b[0m Trial 24 finished with value: 0.6428571428571429 and parameters: {'classifier': 'RandomForest', 'n_estimators': 166, 'max_depth': 9}. Best is trial 22 with value: 0.6651785714285714.\u001b[0m\n",
      "\u001b[32m[I 2023-04-16 13:25:24,746]\u001b[0m Trial 25 finished with value: 0.6205357142857143 and parameters: {'classifier': 'GradientBoosting', 'n_estimators': 159, 'learning_rate': 0.09382302495304967, 'max_depth': 9}. Best is trial 22 with value: 0.6651785714285714.\u001b[0m\n",
      "\u001b[32m[I 2023-04-16 13:25:25,214]\u001b[0m Trial 26 finished with value: 0.6607142857142857 and parameters: {'classifier': 'RandomForest', 'n_estimators': 200, 'max_depth': 10}. Best is trial 22 with value: 0.6651785714285714.\u001b[0m\n",
      "\u001b[32m[I 2023-04-16 13:25:25,580]\u001b[0m Trial 27 finished with value: 0.6651785714285714 and parameters: {'classifier': 'RandomForest', 'n_estimators': 157, 'max_depth': 8}. Best is trial 22 with value: 0.6651785714285714.\u001b[0m\n",
      "\u001b[32m[I 2023-04-16 13:25:25,989]\u001b[0m Trial 28 finished with value: 0.6741071428571429 and parameters: {'classifier': 'RandomForest', 'n_estimators': 179, 'max_depth': 8}. Best is trial 28 with value: 0.6741071428571429.\u001b[0m\n",
      "\u001b[32m[I 2023-04-16 13:25:26,332]\u001b[0m Trial 29 finished with value: 0.6651785714285714 and parameters: {'classifier': 'RandomForest', 'n_estimators': 149, 'max_depth': 8}. Best is trial 28 with value: 0.6741071428571429.\u001b[0m\n"
     ]
    },
    {
     "name": "stdout",
     "output_type": "stream",
     "text": [
      "Best trial: 28, Accuracy: 0.6741071428571429\n",
      "Best params: {'classifier': 'RandomForest', 'n_estimators': 179, 'max_depth': 8}\n"
     ]
    }
   ],
   "source": [
    "X, y = df.drop(columns=['target', 'id'], axis = 1), df['target']\n",
    "\n",
    "X_train, X_val, X_test, y_train, y_val, y_test = train_val_test_ts(X, y, split_ratios=[0.2, 0.2])\n",
    "\n",
    "# Create the column transformer for standardization\n",
    "preprocessor = ColumnTransformer(\n",
    "    transformers=[\n",
    "        ('num', StandardScaler(), list(X_train.columns))\n",
    "    ])\n",
    "\n",
    "# Define the objective function for the optimization\n",
    "def objective(trial: Trial):\n",
    "    classifier_name = trial.suggest_categorical('classifier', ['RandomForest', 'GradientBoosting', \"Naive Bayes\", \"SVC\", \"KNN\"])\n",
    "\n",
    "    if classifier_name == 'RandomForest':\n",
    "        n_estimators = trial.suggest_int('n_estimators', 10, 200)\n",
    "        max_depth = trial.suggest_int('max_depth', 3, 10)\n",
    "        classifier_obj = RandomForestClassifier(n_estimators=n_estimators, max_depth=max_depth)\n",
    "    elif classifier_name == 'GradientBoosting':\n",
    "        n_estimators = trial.suggest_int('n_estimators', 10, 200)\n",
    "        learning_rate = trial.suggest_float('learning_rate', 0.01, 1)\n",
    "        max_depth = trial.suggest_int('max_depth', 3, 10)\n",
    "        classifier_obj = GradientBoostingClassifier(n_estimators=n_estimators, learning_rate=learning_rate, max_depth=max_depth)\n",
    "    elif classifier_name == 'NaiveBayes':\n",
    "        classifier_obj = GaussianNB()\n",
    "    elif classifier_name == 'SVC':\n",
    "        C = trial.suggest_float('C', 1e-3, 1e3, log=True)\n",
    "        kernel = trial.suggest_categorical('kernel', ['linear', 'poly', 'rbf', 'sigmoid'])\n",
    "        classifier_obj = SVC(C=C, kernel=kernel, decision_function_shape='ovr')\n",
    "    else:  # KNN\n",
    "        n_neighbors = trial.suggest_int('n_neighbors', 1, 20)\n",
    "        classifier_obj = KNeighborsClassifier(n_neighbors=n_neighbors)\n",
    "        \n",
    "    pipeline = Pipeline([\n",
    "        ('preprocessor', preprocessor),\n",
    "        ('classifier', classifier_obj)\n",
    "    ])\n",
    "\n",
    "    pipeline.fit(X_train, y_train)\n",
    "    y_pred = pipeline.predict(X_val)\n",
    "    accuracy = accuracy_score(y_val, y_pred)\n",
    "\n",
    "    return accuracy\n",
    "\n",
    "# Optimize the pipeline using Optuna\n",
    "study = optuna.create_study(direction='maximize')\n",
    "study.optimize(objective, n_trials=30)\n",
    "\n",
    "# Print the best trial\n",
    "best_trial = study.best_trial\n",
    "print(f\"Best trial: {best_trial.number}, Accuracy: {best_trial.value}\")\n",
    "print(f\"Best params: {best_trial.params}\")\n",
    "\n"
   ]
  },
  {
   "cell_type": "code",
   "execution_count": 14,
   "metadata": {},
   "outputs": [
    {
     "data": {
      "text/plain": [
       "0.6060606060606061"
      ]
     },
     "execution_count": 14,
     "metadata": {},
     "output_type": "execute_result"
    }
   ],
   "source": [
    "best_pipe = get_best_pipeline(best_trial, X_train)\n",
    "best_pipe.fit(X_train, y_train)\n",
    "pred = best_pipe.predict(X_test)\n",
    "accuracy_score(y_test, pred)"
   ]
  },
  {
   "cell_type": "code",
   "execution_count": 19,
   "metadata": {},
   "outputs": [
    {
     "data": {
      "image/png": "[encoded data removed]",
      "text/plain": [
       "<Figure size 330x250 with 2 Axes>"
      ]
     },
     "metadata": {},
     "output_type": "display_data"
    }
   ],
   "source": [
    "# plot confusion matrix\n",
    "from sklearn.metrics import confusion_matrix\n",
    "import seaborn as sns\n",
    "import matplotlib.pyplot as plt\n",
    "\n",
    "cm = confusion_matrix(y_test, pred)\n",
    "cm = cm.astype('float') / cm.sum(axis=1)[:, np.newaxis]\n",
    "sns.heatmap(cm, annot=True, cmap='Blues', fmt='.2f')\n",
    "plt.xlabel('Predicted')\n",
    "plt.ylabel('Actual')\n",
    "plt.show()\n",
    "\n"
   ]
  },
  {
   "cell_type": "code",
   "execution_count": null,
   "metadata": {},
   "outputs": [],
   "source": []
  }
 ],
 "metadata": {
  "kernelspec": {
   "display_name": ".venv",
   "language": "python",
   "name": "python3"
  },
  "language_info": {
   "codemirror_mode": {
    "name": "ipython",
    "version": 3
   },
   "file_extension": ".py",
   "mimetype": "text/x-python",
   "name": "python",
   "nbconvert_exporter": "python",
   "pygments_lexer": "ipython3",
   "version": "3.11.1"
  },
  "orig_nbformat": 4
 },
 "nbformat": 4,
 "nbformat_minor": 2
}
