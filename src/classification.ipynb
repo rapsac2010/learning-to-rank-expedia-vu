{
 "cells": [
  {
   "cell_type": "code",
   "execution_count": 22,
   "metadata": {},
   "outputs": [],
   "source": [
    "import configparser\n",
    "import os\n",
    "from joblib import dump, load\n",
    "import json\n",
    "from tqdm import tqdm\n",
    "from helpers.helper_functions import *\n",
    "from helpers.helper_classes import *\n",
    "import pandas as pd\n",
    "import matplotlib.pyplot as plt\n",
    "import numpy as np\n",
    "import statsmodels as sm\n",
    "import numpy as np\n",
    "import pmdarima as pm\n",
    "from statsmodels.tsa.arima.model import ARIMA\n",
    "import scienceplots\n",
    "import latex\n",
    "\n",
    "from sklearn.preprocessing import StandardScaler\n",
    "from sklearn.compose import ColumnTransformer\n",
    "from sklearn.pipeline import Pipeline\n",
    "from sklearn.ensemble import RandomForestClassifier, GradientBoostingClassifier\n",
    "from sklearn.naive_bayes import GaussianNB\n",
    "from sklearn.svm import SVC\n",
    "from sklearn.neighbors import KNeighborsClassifier\n",
    "from sklearn.metrics import accuracy_score\n",
    "import optuna\n",
    "from optuna import Trial\n",
    "\n",
    "\n",
    "# Set plotting parameters\n",
    "plt.style.use(['science', 'ieee'])\n",
    "plt.rcParams['figure.dpi'] = 100\n",
    "\n",
    "pd.set_option('display.max_rows', 200)\n",
    "\n",
    "# Read config.ini file\n",
    "config = configparser.ConfigParser()\n",
    "config.read('src/config.ini')\n",
    "\n",
    "# Read data\n",
    "df = load(config['PATH']['DATA_DIR'] + '/full_df_agg_cap95.joblib')"
   ]
  },
  {
   "attachments": {},
   "cell_type": "markdown",
   "metadata": {},
   "source": [
    "### Set up as classification problem\n",
    "For a classification problem we need a discrete target (multiple classes), as the target is average mood we need to transform the target.\n",
    "We therefore round to the closest integer.\n"
   ]
  },
  {
   "cell_type": "code",
   "execution_count": 23,
   "metadata": {},
   "outputs": [],
   "source": [
    "# Construct target as bad (0-6), okay (6-8), good (8-10)\n",
    "df['target'] = df['target'].apply(lambda x: 0 if x < 7 else 1)\n"
   ]
  },
  {
   "cell_type": "code",
   "execution_count": 24,
   "metadata": {},
   "outputs": [],
   "source": [
    "# id as one-hot encoded variable\n",
    "df = pd.get_dummies(df, columns=['id'], prefix='id')\n",
    "df\n",
    "\n",
    "# Impute outliers (larger than 1.5 IQR) with mean of column in all _sum columns\n",
    "for col in df.columns:\n",
    "    if col.endswith('_sum'):\n",
    "        df[col] = df[col].mask(df[col] > df[col].quantile(0.75) + 1.5 * (df[col].quantile(0.75) - df[col].quantile(0.25)), df[col].mean())\n"
   ]
  },
  {
   "attachments": {},
   "cell_type": "markdown",
   "metadata": {},
   "source": [
    "## Train test split\n",
    "As we are dealing with time series data we can't take a random 70/30 split of the data. \n"
   ]
  },
  {
   "cell_type": "code",
   "execution_count": 25,
   "metadata": {},
   "outputs": [
    {
     "data": {
      "text/plain": [
       "[datetime.date(2014, 4, 25)]"
      ]
     },
     "execution_count": 25,
     "metadata": {},
     "output_type": "execute_result"
    },
    {
     "data": {
      "image/png": "[encoded data removed]",
      "text/plain": [
       "<Figure size 500x300 with 1 Axes>"
      ]
     },
     "metadata": {},
     "output_type": "display_data"
    }
   ],
   "source": [
    "find_split_ts(df, 0.7, plot_data = True)"
   ]
  },
  {
   "attachments": {},
   "cell_type": "markdown",
   "metadata": {},
   "source": [
    "# Classification algorithm \n",
    "We optimize over parameters but also over classification algorithm\n",
    "Included algorithms are: \n",
    "* RandomForest\n",
    "* GradientBoosting\n",
    "* NaiveBayes\n",
    "* SVC\n",
    "* KNN\n"
   ]
  },
  {
   "cell_type": "code",
   "execution_count": 26,
   "metadata": {},
   "outputs": [
    {
     "name": "stderr",
     "output_type": "stream",
     "text": [
      "\u001b[32m[I 2023-04-16 14:01:38,756]\u001b[0m A new study created in memory with name: no-name-917e4e3a-726b-4658-8a03-304e07f4ef37\u001b[0m\n",
      "\u001b[32m[I 2023-04-16 14:01:38,792]\u001b[0m Trial 0 finished with value: 0.672 and parameters: {'classifier': 'KNN', 'n_neighbors': 6}. Best is trial 0 with value: 0.672.\u001b[0m\n",
      "\u001b[32m[I 2023-04-16 14:01:38,813]\u001b[0m Trial 1 finished with value: 0.696 and parameters: {'classifier': 'Naive Bayes'}. Best is trial 1 with value: 0.696.\u001b[0m\n",
      "\u001b[32m[I 2023-04-16 14:01:38,850]\u001b[0m Trial 2 finished with value: 0.68 and parameters: {'classifier': 'KNN', 'n_neighbors': 15}. Best is trial 1 with value: 0.696.\u001b[0m\n",
      "\u001b[32m[I 2023-04-16 14:01:59,864]\u001b[0m Trial 3 finished with value: 0.76 and parameters: {'classifier': 'SVC', 'C': 174.84477809263748, 'kernel': 'linear'}. Best is trial 3 with value: 0.76.\u001b[0m\n",
      "\u001b[32m[I 2023-04-16 14:02:01,187]\u001b[0m Trial 4 finished with value: 0.688 and parameters: {'classifier': 'GradientBoosting', 'n_estimators': 73, 'learning_rate': 0.7762169809307314, 'max_depth': 6}. Best is trial 3 with value: 0.76.\u001b[0m\n",
      "\u001b[32m[I 2023-04-16 14:02:01,245]\u001b[0m Trial 5 finished with value: 0.736 and parameters: {'classifier': 'SVC', 'C': 0.08638985096360524, 'kernel': 'linear'}. Best is trial 3 with value: 0.76.\u001b[0m\n",
      "\u001b[32m[I 2023-04-16 14:02:01,266]\u001b[0m Trial 6 finished with value: 0.696 and parameters: {'classifier': 'Naive Bayes'}. Best is trial 3 with value: 0.76.\u001b[0m\n",
      "\u001b[32m[I 2023-04-16 14:02:01,369]\u001b[0m Trial 7 finished with value: 0.728 and parameters: {'classifier': 'SVC', 'C': 0.409713601042576, 'kernel': 'linear'}. Best is trial 3 with value: 0.76.\u001b[0m\n",
      "\u001b[32m[I 2023-04-16 14:02:01,398]\u001b[0m Trial 8 finished with value: 0.624 and parameters: {'classifier': 'KNN', 'n_neighbors': 10}. Best is trial 3 with value: 0.76.\u001b[0m\n",
      "\u001b[32m[I 2023-04-16 14:02:01,997]\u001b[0m Trial 9 finished with value: 0.752 and parameters: {'classifier': 'GradientBoosting', 'n_estimators': 58, 'learning_rate': 0.08779638478356452, 'max_depth': 3}. Best is trial 3 with value: 0.76.\u001b[0m\n",
      "\u001b[32m[I 2023-04-16 14:02:02,728]\u001b[0m Trial 10 finished with value: 0.784 and parameters: {'classifier': 'RandomForest', 'n_estimators': 183, 'max_depth': 10}. Best is trial 10 with value: 0.784.\u001b[0m\n",
      "\u001b[32m[I 2023-04-16 14:02:03,526]\u001b[0m Trial 11 finished with value: 0.792 and parameters: {'classifier': 'RandomForest', 'n_estimators': 200, 'max_depth': 10}. Best is trial 11 with value: 0.792.\u001b[0m\n",
      "\u001b[32m[I 2023-04-16 14:02:04,543]\u001b[0m Trial 12 finished with value: 0.784 and parameters: {'classifier': 'RandomForest', 'n_estimators': 198, 'max_depth': 10}. Best is trial 11 with value: 0.792.\u001b[0m\n",
      "\u001b[32m[I 2023-04-16 14:02:05,312]\u001b[0m Trial 13 finished with value: 0.776 and parameters: {'classifier': 'RandomForest', 'n_estimators': 200, 'max_depth': 10}. Best is trial 11 with value: 0.792.\u001b[0m\n",
      "\u001b[32m[I 2023-04-16 14:02:05,821]\u001b[0m Trial 14 finished with value: 0.768 and parameters: {'classifier': 'RandomForest', 'n_estimators': 144, 'max_depth': 8}. Best is trial 11 with value: 0.792.\u001b[0m\n",
      "\u001b[32m[I 2023-04-16 14:02:06,490]\u001b[0m Trial 15 finished with value: 0.784 and parameters: {'classifier': 'RandomForest', 'n_estimators': 142, 'max_depth': 8}. Best is trial 11 with value: 0.792.\u001b[0m\n",
      "\u001b[32m[I 2023-04-16 14:02:07,166]\u001b[0m Trial 16 finished with value: 0.784 and parameters: {'classifier': 'RandomForest', 'n_estimators': 155, 'max_depth': 10}. Best is trial 11 with value: 0.792.\u001b[0m\n",
      "\u001b[32m[I 2023-04-16 14:02:07,795]\u001b[0m Trial 17 finished with value: 0.792 and parameters: {'classifier': 'RandomForest', 'n_estimators': 171, 'max_depth': 8}. Best is trial 11 with value: 0.792.\u001b[0m\n",
      "\u001b[32m[I 2023-04-16 14:02:07,889]\u001b[0m Trial 18 finished with value: 0.784 and parameters: {'classifier': 'RandomForest', 'n_estimators': 15, 'max_depth': 8}. Best is trial 11 with value: 0.792.\u001b[0m\n",
      "\u001b[32m[I 2023-04-16 14:02:08,236]\u001b[0m Trial 19 finished with value: 0.76 and parameters: {'classifier': 'RandomForest', 'n_estimators': 104, 'max_depth': 6}. Best is trial 11 with value: 0.792.\u001b[0m\n",
      "\u001b[32m[I 2023-04-16 14:02:10,729]\u001b[0m Trial 20 finished with value: 0.704 and parameters: {'classifier': 'GradientBoosting', 'n_estimators': 165, 'learning_rate': 0.9090236854146857, 'max_depth': 8}. Best is trial 11 with value: 0.792.\u001b[0m\n",
      "\u001b[32m[I 2023-04-16 14:02:11,369]\u001b[0m Trial 21 finished with value: 0.768 and parameters: {'classifier': 'RandomForest', 'n_estimators': 175, 'max_depth': 9}. Best is trial 11 with value: 0.792.\u001b[0m\n",
      "\u001b[32m[I 2023-04-16 14:02:11,996]\u001b[0m Trial 22 finished with value: 0.776 and parameters: {'classifier': 'RandomForest', 'n_estimators': 181, 'max_depth': 9}. Best is trial 11 with value: 0.792.\u001b[0m\n",
      "\u001b[32m[I 2023-04-16 14:02:12,431]\u001b[0m Trial 23 finished with value: 0.768 and parameters: {'classifier': 'RandomForest', 'n_estimators': 122, 'max_depth': 9}. Best is trial 11 with value: 0.792.\u001b[0m\n",
      "\u001b[32m[I 2023-04-16 14:02:12,452]\u001b[0m Trial 24 finished with value: 0.696 and parameters: {'classifier': 'Naive Bayes'}. Best is trial 11 with value: 0.792.\u001b[0m\n",
      "\u001b[32m[I 2023-04-16 14:02:13,027]\u001b[0m Trial 25 finished with value: 0.776 and parameters: {'classifier': 'RandomForest', 'n_estimators': 182, 'max_depth': 7}. Best is trial 11 with value: 0.792.\u001b[0m\n",
      "\u001b[32m[I 2023-04-16 14:02:13,761]\u001b[0m Trial 26 finished with value: 0.784 and parameters: {'classifier': 'RandomForest', 'n_estimators': 200, 'max_depth': 10}. Best is trial 11 with value: 0.792.\u001b[0m\n",
      "\u001b[32m[I 2023-04-16 14:02:14,112]\u001b[0m Trial 27 finished with value: 0.768 and parameters: {'classifier': 'RandomForest', 'n_estimators': 120, 'max_depth': 5}. Best is trial 11 with value: 0.792.\u001b[0m\n",
      "\u001b[32m[I 2023-04-16 14:02:14,695]\u001b[0m Trial 28 finished with value: 0.768 and parameters: {'classifier': 'RandomForest', 'n_estimators': 163, 'max_depth': 9}. Best is trial 11 with value: 0.792.\u001b[0m\n",
      "\u001b[32m[I 2023-04-16 14:02:14,728]\u001b[0m Trial 29 finished with value: 0.664 and parameters: {'classifier': 'KNN', 'n_neighbors': 1}. Best is trial 11 with value: 0.792.\u001b[0m\n"
     ]
    },
    {
     "name": "stdout",
     "output_type": "stream",
     "text": [
      "Best trial: 11, Accuracy: 0.792\n",
      "Best params: {'classifier': 'RandomForest', 'n_estimators': 200, 'max_depth': 10}\n"
     ]
    }
   ],
   "source": [
    "X, y = df.drop(columns=['target'], axis = 1), df['target']\n",
    "\n",
    "X_train, X_val, X_test, y_train, y_val, y_test = train_val_test_ts(X, y, split_ratios=[0.7, 0.1])\n",
    "\n",
    "# Create the column transformer for standardization\n",
    "preprocessor = ColumnTransformer(\n",
    "    transformers=[\n",
    "        ('num', StandardScaler(), list(X_train.columns))\n",
    "    ])\n",
    "\n",
    "# Define the objective function for the optimization\n",
    "def objective(trial: Trial):\n",
    "    classifier_name = trial.suggest_categorical('classifier', ['RandomForest', 'GradientBoosting', \"Naive Bayes\", \"SVC\", \"KNN\"])\n",
    "\n",
    "    if classifier_name == 'RandomForest':\n",
    "        n_estimators = trial.suggest_int('n_estimators', 10, 200)\n",
    "        max_depth = trial.suggest_int('max_depth', 3, 10)\n",
    "        classifier_obj = RandomForestClassifier(n_estimators=n_estimators, max_depth=max_depth)\n",
    "    elif classifier_name == 'GradientBoosting':\n",
    "        n_estimators = trial.suggest_int('n_estimators', 10, 200)\n",
    "        learning_rate = trial.suggest_float('learning_rate', 0.01, 1)\n",
    "        max_depth = trial.suggest_int('max_depth', 3, 10)\n",
    "        classifier_obj = GradientBoostingClassifier(n_estimators=n_estimators, learning_rate=learning_rate, max_depth=max_depth)\n",
    "    elif classifier_name == 'Naive Bayes':\n",
    "        classifier_obj = GaussianNB()\n",
    "    elif classifier_name == 'SVC':\n",
    "        C = trial.suggest_float('C', 1e-3, 1e3, log=True)\n",
    "        kernel = trial.suggest_categorical('kernel', ['linear', 'poly', 'rbf', 'sigmoid'])\n",
    "        classifier_obj = SVC(C=C, kernel=kernel, decision_function_shape='ovr')\n",
    "    else:  # KNN\n",
    "        n_neighbors = trial.suggest_int('n_neighbors', 1, 20)\n",
    "        classifier_obj = KNeighborsClassifier(n_neighbors=n_neighbors)\n",
    "        \n",
    "    pipeline = Pipeline([\n",
    "        ('preprocessor', preprocessor),\n",
    "        ('classifier', classifier_obj)\n",
    "    ])\n",
    "\n",
    "    pipeline.fit(X_train, y_train)\n",
    "    y_pred = pipeline.predict(X_val)\n",
    "    accuracy = accuracy_score(y_val, y_pred)\n",
    "\n",
    "    return accuracy\n",
    "\n",
    "# Optimize the pipeline using Optuna\n",
    "study = optuna.create_study(direction='maximize')\n",
    "study.optimize(objective, n_trials=30)\n",
    "\n",
    "# Print the best trial\n",
    "best_trial = study.best_trial\n",
    "print(f\"Best trial: {best_trial.number}, Accuracy: {best_trial.value}\")\n",
    "print(f\"Best params: {best_trial.params}\")\n",
    "\n"
   ]
  },
  {
   "cell_type": "code",
   "execution_count": 27,
   "metadata": {},
   "outputs": [
    {
     "data": {
      "text/plain": [
       "0.7370689655172413"
      ]
     },
     "execution_count": 27,
     "metadata": {},
     "output_type": "execute_result"
    }
   ],
   "source": [
    "best_pipe = get_best_pipeline(best_trial, X_train)\n",
    "best_pipe.fit(X_train, y_train)\n",
    "pred = best_pipe.predict(X_test)\n",
    "accuracy_score(y_test, pred)"
   ]
  },
  {
   "cell_type": "code",
   "execution_count": 28,
   "metadata": {},
   "outputs": [
    {
     "data": {
      "image/png": "[encoded data removed]",
      "text/plain": [
       "<Figure size 330x250 with 2 Axes>"
      ]
     },
     "metadata": {},
     "output_type": "display_data"
    }
   ],
   "source": [
    "# plot confusion matrix\n",
    "from sklearn.metrics import confusion_matrix\n",
    "import seaborn as sns\n",
    "import matplotlib.pyplot as plt\n",
    "\n",
    "cm = confusion_matrix(y_test, pred)\n",
    "cm = cm.astype('float') / cm.sum(axis=1)[:, np.newaxis]\n",
    "sns.heatmap(cm, annot=True, cmap='Blues', fmt='.2f')\n",
    "plt.xlabel('Predicted')\n",
    "plt.ylabel('Actual')\n",
    "plt.show()\n",
    "\n"
   ]
  },
  {
   "cell_type": "code",
   "execution_count": 29,
   "metadata": {},
   "outputs": [
    {
     "data": {
      "text/plain": [
       "<Axes: >"
      ]
     },
     "execution_count": 29,
     "metadata": {},
     "output_type": "execute_result"
    },
    {
     "data": {
      "image/png": "[encoded data removed]",
      "text/plain": [
       "<Figure size 330x250 with 1 Axes>"
      ]
     },
     "metadata": {},
     "output_type": "display_data"
    }
   ],
   "source": [
    "df['target'].hist()"
   ]
  },
  {
   "cell_type": "code",
   "execution_count": null,
   "metadata": {},
   "outputs": [],
   "source": []
  }
 ],
 "metadata": {
  "kernelspec": {
   "display_name": ".venv",
   "language": "python",
   "name": "python3"
  },
  "language_info": {
   "codemirror_mode": {
    "name": "ipython",
    "version": 3
   },
   "file_extension": ".py",
   "mimetype": "text/x-python",
   "name": "python",
   "nbconvert_exporter": "python",
   "pygments_lexer": "ipython3",
   "version": "3.11.1"
  },
  "orig_nbformat": 4
 },
 "nbformat": 4,
 "nbformat_minor": 2
}
