{
 "cells": [
  {
   "cell_type": "code",
   "execution_count": 1,
   "metadata": {},
   "outputs": [
    {
     "name": "stderr",
     "output_type": "stream",
     "text": [
      "c:\\Users\\caspa\\OneDrive - Vrije Universiteit Amsterdam\\VU Master\\data-mining-techniques-vu\\windows\\data-mining-techniques-vu\\.venv\\Lib\\site-packages\\tqdm\\auto.py:21: TqdmWarning: IProgress not found. Please update jupyter and ipywidgets. See https://ipywidgets.readthedocs.io/en/stable/user_install.html\n",
      "  from .autonotebook import tqdm as notebook_tqdm\n"
     ]
    }
   ],
   "source": [
    "import configparser\n",
    "import os\n",
    "from joblib import dump, load\n",
    "import json\n",
    "from tqdm import tqdm\n",
    "from helpers.helper_functions import *\n",
    "from helpers.helper_classes import *\n",
    "import pandas as pd\n",
    "import matplotlib.pyplot as plt\n",
    "import numpy as np\n",
    "import statsmodels as sm\n",
    "import numpy as np\n",
    "import pmdarima as pm\n",
    "from statsmodels.tsa.arima.model import ARIMA\n",
    "import scienceplots\n",
    "import latex\n",
    "\n",
    "from sklearn.preprocessing import StandardScaler\n",
    "from sklearn.compose import ColumnTransformer\n",
    "from sklearn.pipeline import Pipeline\n",
    "from sklearn.ensemble import RandomForestClassifier, GradientBoostingClassifier\n",
    "from sklearn.naive_bayes import GaussianNB\n",
    "from sklearn.svm import SVC\n",
    "from sklearn.neighbors import KNeighborsClassifier\n",
    "from sklearn.metrics import accuracy_score\n",
    "import optuna\n",
    "from optuna import Trial\n",
    "from optuna.samplers import TPESampler\n",
    "\n",
    "# Set plotting parameters\n",
    "plt.style.use(['science', 'ieee'])\n",
    "plt.rcParams['figure.dpi'] = 100\n",
    "\n",
    "pd.set_option('display.max_rows', 200)\n",
    "\n",
    "# Read config.ini file\n",
    "config = configparser.ConfigParser()\n",
    "config.read('src/config.ini')\n",
    "\n",
    "# Read data\n",
    "df_og = load(config['PATH']['DATA_DIR'] + '/full_df_agg_cap95.joblib')"
   ]
  },
  {
   "attachments": {},
   "cell_type": "markdown",
   "metadata": {},
   "source": [
    "### Set up as classification problem\n",
    "For a classification problem we need a discrete target (multiple classes), as the target is average mood we need to transform the target.\n",
    "We therefore round to the closest integer.\n"
   ]
  },
  {
   "cell_type": "code",
   "execution_count": 2,
   "metadata": {},
   "outputs": [],
   "source": [
    "# Construct target as bad (0-6), okay (6-8), good (8-10)\n",
    "df = df_og.copy()\n",
    "df['target'] = df['target'].apply(lambda x: 0 if x < 7 else 1)\n",
    "# df = pd.get_dummies(df, columns=['id'], prefix='id')\n",
    "df = df.drop(columns=['id'], inplace=False)\n",
    "\n",
    "# Impute outliers (larger than 1.5 IQR) with mean of column in all _sum columns\n",
    "# for col in df.columns:\n",
    "#     if col.endswith('_sum'):\n",
    "#         df[col] = df[col].mask(df[col] > df[col].quantile(0.75) + 1.5 * (df[col].quantile(0.75) - df[col].quantile(0.25)), df[col].mean())"
   ]
  },
  {
   "attachments": {},
   "cell_type": "markdown",
   "metadata": {},
   "source": [
    "## Train test split\n",
    "As we are dealing with time series data we can't take a random 70/30 split of the data. \n"
   ]
  },
  {
   "cell_type": "code",
   "execution_count": 3,
   "metadata": {},
   "outputs": [
    {
     "data": {
      "text/plain": [
       "[datetime.date(2014, 4, 17), datetime.date(2014, 4, 25)]"
      ]
     },
     "execution_count": 3,
     "metadata": {},
     "output_type": "execute_result"
    },
    {
     "data": {
      "image/png": "[encoded data removed]",
      "text/plain": [
       "<Figure size 600x300 with 1 Axes>"
      ]
     },
     "metadata": {},
     "output_type": "display_data"
    }
   ],
   "source": [
    "def find_split_ts(df, split_ratios, date_colname='time', plot_data=False, save_fig_name = None):\n",
    "    split_points = np.cumsum(split_ratios) * 100\n",
    "    dates = df[date_colname].unique()\n",
    "    dates.sort()\n",
    "    x = []\n",
    "    y = []\n",
    "    for date in dates:\n",
    "        x.append(date)\n",
    "        y.append(len(df[df[date_colname] <= date]) / len(df) * 100)\n",
    "\n",
    "\n",
    "\n",
    "    split_dates = []\n",
    "    for split in split_points:\n",
    "        for i in range(len(x)):\n",
    "            if y[i] >= split:\n",
    "                split_dates.append(x[i])\n",
    "                break\n",
    "    \n",
    "    c = ['red', 'blue', 'green']\n",
    "    if plot_data:\n",
    "        plt.figure(figsize=(6, 3))\n",
    "        for i, (split, split_date) in enumerate(zip(split_points, split_dates)):\n",
    "            plt.axvline(split_date, linestyle='--', color=c[i])\n",
    "            # fill background\n",
    "            if i == 0:\n",
    "                plt.fill_between(x, y, where=np.logical_and(np.array(x) <= split_date, np.array(x) >= np.min(x)), color=c[i], alpha=0.2, label='Train data')\n",
    "            else: \n",
    "                plt.fill_between(x, y, where=np.logical_and(np.array(x) <= split_date, np.array(x) >= split_dates[i-1]), color=c[i], alpha=0.2, label='Validation data')\n",
    "        plt.fill_between(x, y, where=np.array(x) >= split_dates[-1], color=c[-1], alpha=0.2, label='Test data')\n",
    "\n",
    "        split_dates_str = [str(date)[:10] for date in split_dates]\n",
    "        # split dates str to a single string\n",
    "        split_dates_str = ', '.join(split_dates_str)\n",
    "        # plt.title(f'Cumulative distribution of data. Splits at {split_dates_str}%')\n",
    "        plt.legend()\n",
    "        plt.plot(x, y)\n",
    "        if save_fig_name is not None:\n",
    "            plt.savefig('figures/' + save_fig_name + '.pdf')\n",
    "\n",
    "    return split_dates\n",
    "\n",
    "find_split_ts(df, [0.5, 0.2], plot_data = True, save_fig_name = 'data_splits')"
   ]
  },
  {
   "attachments": {},
   "cell_type": "markdown",
   "metadata": {},
   "source": [
    "# Classification algorithm \n",
    "We optimize over parameters but also over classification algorithm\n",
    "Included algorithms are: \n",
    "* RandomForest\n",
    "* GradientBoosting\n",
    "* NaiveBayes\n",
    "* SVC\n",
    "* KNN\n"
   ]
  },
  {
   "cell_type": "code",
   "execution_count": 4,
   "metadata": {},
   "outputs": [],
   "source": [
    "X, y = df.drop(columns=['target'], axis = 1), df['target']\n",
    "\n",
    "X_train, X_val, X_test, y_train, y_val, y_test = train_val_test_ts(X, y, split_ratios=[0.5, 0.2])\n",
    "\n",
    "#TODO: Create buffer between test and validation data of the rolling window size (so that we don't use data from the future)\n"
   ]
  },
  {
   "cell_type": "code",
   "execution_count": 6,
   "metadata": {},
   "outputs": [
    {
     "name": "stderr",
     "output_type": "stream",
     "text": [
      "\u001b[32m[I 2023-04-19 15:41:47,712]\u001b[0m A new study created in memory with name: no-name-3fce45c4-05de-4120-9b57-e89670bca3f4\u001b[0m\n",
      "\u001b[32m[I 2023-04-19 15:41:48,577]\u001b[0m Trial 0 finished with value: 0.6338028169014085 and parameters: {'classifier': 'GradientBoosting', 'n_estimators': 39, 'learning_rate': 0.06750277604651747, 'max_depth': 9}. Best is trial 0 with value: 0.6338028169014085.\u001b[0m\n",
      "\u001b[32m[I 2023-04-19 15:41:48,624]\u001b[0m Trial 1 finished with value: 0.5821596244131455 and parameters: {'classifier': 'SVC', 'C': 0.018794668241638456, 'kernel': 'sigmoid'}. Best is trial 0 with value: 0.6338028169014085.\u001b[0m\n",
      "\u001b[32m[I 2023-04-19 15:41:48,640]\u001b[0m Trial 2 finished with value: 0.5586854460093896 and parameters: {'classifier': 'Naive Bayes'}. Best is trial 0 with value: 0.6338028169014085.\u001b[0m\n",
      "\u001b[32m[I 2023-04-19 15:41:48,654]\u001b[0m Trial 3 finished with value: 0.5586854460093896 and parameters: {'classifier': 'Naive Bayes'}. Best is trial 0 with value: 0.6338028169014085.\u001b[0m\n",
      "\u001b[32m[I 2023-04-19 15:41:48,674]\u001b[0m Trial 4 finished with value: 0.5586854460093896 and parameters: {'classifier': 'Naive Bayes'}. Best is trial 0 with value: 0.6338028169014085.\u001b[0m\n",
      "\u001b[32m[I 2023-04-19 15:41:49,742]\u001b[0m Trial 5 finished with value: 0.596244131455399 and parameters: {'classifier': 'GradientBoosting', 'n_estimators': 140, 'learning_rate': 0.44575096880220527, 'max_depth': 3}. Best is trial 0 with value: 0.6338028169014085.\u001b[0m\n",
      "\u001b[32m[I 2023-04-19 15:41:49,758]\u001b[0m Trial 6 finished with value: 0.5586854460093896 and parameters: {'classifier': 'Naive Bayes'}. Best is trial 0 with value: 0.6338028169014085.\u001b[0m\n",
      "\u001b[32m[I 2023-04-19 15:41:49,788]\u001b[0m Trial 7 finished with value: 0.6666666666666666 and parameters: {'classifier': 'KNN', 'n_neighbors': 16}. Best is trial 7 with value: 0.6666666666666666.\u001b[0m\n",
      "\u001b[32m[I 2023-04-19 15:41:49,918]\u001b[0m Trial 8 finished with value: 0.6995305164319249 and parameters: {'classifier': 'RandomForest', 'n_estimators': 47, 'max_depth': 3}. Best is trial 8 with value: 0.6995305164319249.\u001b[0m\n",
      "\u001b[32m[I 2023-04-19 15:41:49,972]\u001b[0m Trial 9 finished with value: 0.5774647887323944 and parameters: {'classifier': 'SVC', 'C': 0.04848496183873291, 'kernel': 'rbf'}. Best is trial 8 with value: 0.6995305164319249.\u001b[0m\n",
      "\u001b[32m[I 2023-04-19 15:41:50,045]\u001b[0m Trial 10 finished with value: 0.676056338028169 and parameters: {'classifier': 'RandomForest', 'n_estimators': 18, 'max_depth': 3}. Best is trial 8 with value: 0.6995305164319249.\u001b[0m\n",
      "\u001b[32m[I 2023-04-19 15:41:50,104]\u001b[0m Trial 11 finished with value: 0.676056338028169 and parameters: {'classifier': 'RandomForest', 'n_estimators': 13, 'max_depth': 3}. Best is trial 8 with value: 0.6995305164319249.\u001b[0m\n",
      "\u001b[32m[I 2023-04-19 15:41:50,313]\u001b[0m Trial 12 finished with value: 0.676056338028169 and parameters: {'classifier': 'RandomForest', 'n_estimators': 63, 'max_depth': 5}. Best is trial 8 with value: 0.6995305164319249.\u001b[0m\n",
      "\u001b[32m[I 2023-04-19 15:41:50,560]\u001b[0m Trial 13 finished with value: 0.676056338028169 and parameters: {'classifier': 'RandomForest', 'n_estimators': 79, 'max_depth': 5}. Best is trial 8 with value: 0.6995305164319249.\u001b[0m\n",
      "\u001b[32m[I 2023-04-19 15:41:50,625]\u001b[0m Trial 14 finished with value: 0.6901408450704225 and parameters: {'classifier': 'RandomForest', 'n_estimators': 15, 'max_depth': 3}. Best is trial 8 with value: 0.6995305164319249.\u001b[0m\n",
      "\u001b[32m[I 2023-04-19 15:41:51,197]\u001b[0m Trial 15 finished with value: 0.6807511737089202 and parameters: {'classifier': 'RandomForest', 'n_estimators': 184, 'max_depth': 6}. Best is trial 8 with value: 0.6995305164319249.\u001b[0m\n",
      "\u001b[32m[I 2023-04-19 15:41:51,228]\u001b[0m Trial 16 finished with value: 0.5539906103286385 and parameters: {'classifier': 'KNN', 'n_neighbors': 1}. Best is trial 8 with value: 0.6995305164319249.\u001b[0m\n",
      "\u001b[32m[I 2023-04-19 15:41:51,624]\u001b[0m Trial 17 finished with value: 0.676056338028169 and parameters: {'classifier': 'RandomForest', 'n_estimators': 110, 'max_depth': 9}. Best is trial 8 with value: 0.6995305164319249.\u001b[0m\n",
      "\u001b[32m[I 2023-04-19 15:41:51,785]\u001b[0m Trial 18 finished with value: 0.6901408450704225 and parameters: {'classifier': 'RandomForest', 'n_estimators': 51, 'max_depth': 4}. Best is trial 8 with value: 0.6995305164319249.\u001b[0m\n",
      "\u001b[32m[I 2023-04-19 15:41:52,105]\u001b[0m Trial 19 finished with value: 0.6619718309859155 and parameters: {'classifier': 'RandomForest', 'n_estimators': 95, 'max_depth': 7}. Best is trial 8 with value: 0.6995305164319249.\u001b[0m\n",
      "\u001b[32m[I 2023-04-19 15:41:52,307]\u001b[0m Trial 20 finished with value: 0.6431924882629108 and parameters: {'classifier': 'GradientBoosting', 'n_estimators': 10, 'learning_rate': 0.9526610407813194, 'max_depth': 7}. Best is trial 8 with value: 0.6995305164319249.\u001b[0m\n",
      "\u001b[32m[I 2023-04-19 15:41:52,463]\u001b[0m Trial 21 finished with value: 0.6854460093896714 and parameters: {'classifier': 'RandomForest', 'n_estimators': 51, 'max_depth': 4}. Best is trial 8 with value: 0.6995305164319249.\u001b[0m\n",
      "\u001b[32m[I 2023-04-19 15:41:52,596]\u001b[0m Trial 22 finished with value: 0.7136150234741784 and parameters: {'classifier': 'RandomForest', 'n_estimators': 43, 'max_depth': 4}. Best is trial 22 with value: 0.7136150234741784.\u001b[0m\n",
      "\u001b[32m[I 2023-04-19 15:41:52,725]\u001b[0m Trial 23 finished with value: 0.704225352112676 and parameters: {'classifier': 'RandomForest', 'n_estimators': 41, 'max_depth': 4}. Best is trial 22 with value: 0.7136150234741784.\u001b[0m\n",
      "\u001b[32m[I 2023-04-19 15:42:38,082]\u001b[0m Trial 24 finished with value: 0.6525821596244131 and parameters: {'classifier': 'SVC', 'C': 781.5122622340214, 'kernel': 'linear'}. Best is trial 22 with value: 0.7136150234741784.\u001b[0m\n",
      "\u001b[32m[I 2023-04-19 15:42:38,337]\u001b[0m Trial 25 finished with value: 0.7089201877934272 and parameters: {'classifier': 'RandomForest', 'n_estimators': 74, 'max_depth': 5}. Best is trial 22 with value: 0.7136150234741784.\u001b[0m\n",
      "\u001b[32m[I 2023-04-19 15:42:38,366]\u001b[0m Trial 26 finished with value: 0.5633802816901409 and parameters: {'classifier': 'KNN', 'n_neighbors': 4}. Best is trial 22 with value: 0.7136150234741784.\u001b[0m\n",
      "\u001b[32m[I 2023-04-19 15:42:38,613]\u001b[0m Trial 27 finished with value: 0.6854460093896714 and parameters: {'classifier': 'RandomForest', 'n_estimators': 78, 'max_depth': 5}. Best is trial 22 with value: 0.7136150234741784.\u001b[0m\n",
      "\u001b[32m[I 2023-04-19 15:42:38,983]\u001b[0m Trial 28 finished with value: 0.6901408450704225 and parameters: {'classifier': 'RandomForest', 'n_estimators': 116, 'max_depth': 6}. Best is trial 22 with value: 0.7136150234741784.\u001b[0m\n",
      "\u001b[32m[I 2023-04-19 15:42:39,727]\u001b[0m Trial 29 finished with value: 0.6384976525821596 and parameters: {'classifier': 'GradientBoosting', 'n_estimators': 72, 'learning_rate': 0.922001159675986, 'max_depth': 4}. Best is trial 22 with value: 0.7136150234741784.\u001b[0m\n"
     ]
    },
    {
     "name": "stdout",
     "output_type": "stream",
     "text": [
      "Best trial: 22, Accuracy: 0.7136150234741784\n",
      "Best params: {'classifier': 'RandomForest', 'n_estimators': 43, 'max_depth': 4}\n"
     ]
    }
   ],
   "source": [
    "import random\n",
    "# Create the column transformer for standardization\n",
    "preprocessor = ColumnTransformer(\n",
    "    transformers=[\n",
    "        ('num', StandardScaler(), list(X_train.columns))\n",
    "    ])\n",
    "\n",
    "# Define the objective function for the optimization\n",
    "def objective(trial: Trial):\n",
    "    classifier_name = trial.suggest_categorical('classifier', ['RandomForest', 'GradientBoosting', \"Naive Bayes\", \"SVC\", \"KNN\"])\n",
    "\n",
    "    if classifier_name == 'RandomForest':\n",
    "        n_estimators = trial.suggest_int('n_estimators', 10, 200)\n",
    "        max_depth = trial.suggest_int('max_depth', 3, 10)\n",
    "        classifier_obj = RandomForestClassifier(n_estimators=n_estimators, max_depth=max_depth)\n",
    "    elif classifier_name == 'GradientBoosting':\n",
    "        n_estimators = trial.suggest_int('n_estimators', 10, 200)\n",
    "        learning_rate = trial.suggest_float('learning_rate', 0.01, 1)\n",
    "        max_depth = trial.suggest_int('max_depth', 3, 10)\n",
    "        classifier_obj = GradientBoostingClassifier(n_estimators=n_estimators, learning_rate=learning_rate, max_depth=max_depth)\n",
    "    elif classifier_name == 'Naive Bayes':\n",
    "        classifier_obj = GaussianNB()\n",
    "    elif classifier_name == 'SVC':\n",
    "        C = trial.suggest_float('C', 1e-3, 1e3, log=True)\n",
    "        kernel = trial.suggest_categorical('kernel', ['linear', 'poly', 'rbf', 'sigmoid'])\n",
    "        classifier_obj = SVC(C=C, kernel=kernel, decision_function_shape='ovr')\n",
    "    else:  # KNN\n",
    "        n_neighbors = trial.suggest_int('n_neighbors', 1, 20)\n",
    "        classifier_obj = KNeighborsClassifier(n_neighbors=n_neighbors)\n",
    "        \n",
    "    pipeline = Pipeline([\n",
    "        ('preprocessor', preprocessor),\n",
    "        ('classifier', classifier_obj)\n",
    "    ])\n",
    "\n",
    "    pipeline.fit(X_train, y_train)\n",
    "    y_pred = pipeline.predict(X_val)\n",
    "    accuracy = accuracy_score(y_val, y_pred)\n",
    "\n",
    "    return accuracy\n",
    "\n",
    "# Optimize the pipeline using Optuna\n",
    "manual_seed = 42\n",
    "np.random.seed(manual_seed)\n",
    "random.seed(manual_seed)\n",
    "sampler = TPESampler(seed=manual_seed)\n",
    "study = optuna.create_study(direction='maximize', sampler=sampler)\n",
    "study.optimize(objective, n_trials=30)\n",
    "\n",
    "# Print the best trial\n",
    "best_trial = study.best_trial\n",
    "print(f\"Best trial: {best_trial.number}, Accuracy: {best_trial.value}\")\n",
    "print(f\"Best params: {best_trial.params}\")\n",
    "\n"
   ]
  },
  {
   "cell_type": "code",
   "execution_count": 7,
   "metadata": {},
   "outputs": [
    {
     "data": {
      "text/plain": [
       "0.7254901960784313"
      ]
     },
     "execution_count": 7,
     "metadata": {},
     "output_type": "execute_result"
    }
   ],
   "source": [
    "best_pipe = get_best_pipeline(best_trial, X_train)\n",
    "best_pipe.fit(X_train, y_train)\n",
    "pred = best_pipe.predict(X_test)\n",
    "accuracy_score(y_test, pred)"
   ]
  },
  {
   "cell_type": "code",
   "execution_count": 11,
   "metadata": {},
   "outputs": [
    {
     "data": {
      "image/png": "[encoded data removed]",
      "text/plain": [
       "<Figure size 330x250 with 2 Axes>"
      ]
     },
     "metadata": {},
     "output_type": "display_data"
    }
   ],
   "source": [
    "# plot confusion matrix\n",
    "from sklearn.metrics import confusion_matrix\n",
    "import seaborn as sns\n",
    "import matplotlib.pyplot as plt\n",
    "\n",
    "cm = confusion_matrix(y_test, pred)\n",
    "cm = cm.astype('float') / cm.sum(axis=1)[:, np.newaxis]\n",
    "sns.heatmap(cm, annot=True, cmap='Blues', fmt='.2f')\n",
    "plt.xlabel('Predicted')\n",
    "plt.ylabel('Actual')\n",
    "plt.savefig('figures/rf_confusion_matrix.pdf')\n",
    "plt.show()\n",
    "\n"
   ]
  },
  {
   "cell_type": "code",
   "execution_count": 9,
   "metadata": {},
   "outputs": [
    {
     "name": "stdout",
     "output_type": "stream",
     "text": [
      "              precision    recall  f1-score   support\n",
      "\n",
      "           0       0.70      0.66      0.68       157\n",
      "           1       0.74      0.78      0.76       200\n",
      "\n",
      "    accuracy                           0.73       357\n",
      "   macro avg       0.72      0.72      0.72       357\n",
      "weighted avg       0.72      0.73      0.72       357\n",
      "\n"
     ]
    }
   ],
   "source": [
    "# Classification report\n",
    "from sklearn.metrics import classification_report\n",
    "print(classification_report(y_test, pred))"
   ]
  },
  {
   "cell_type": "code",
   "execution_count": null,
   "metadata": {},
   "outputs": [],
   "source": []
  }
 ],
 "metadata": {
  "kernelspec": {
   "display_name": ".venv",
   "language": "python",
   "name": "python3"
  },
  "language_info": {
   "codemirror_mode": {
    "name": "ipython",
    "version": 3
   },
   "file_extension": ".py",
   "mimetype": "text/x-python",
   "name": "python",
   "nbconvert_exporter": "python",
   "pygments_lexer": "ipython3",
   "version": "3.11.1"
  },
  "orig_nbformat": 4
 },
 "nbformat": 4,
 "nbformat_minor": 2
}
