{
 "cells": [
  {
   "cell_type": "code",
   "execution_count": 1,
   "metadata": {},
   "outputs": [],
   "source": [
    "import configparser\n",
    "import os\n",
    "from joblib import dump, load\n",
    "import json\n",
    "from tqdm import tqdm\n",
    "from helpers.helper_functions import *\n",
    "from helpers.helper_classes import *\n",
    "import pandas as pd\n",
    "import matplotlib.pyplot as plt\n",
    "import numpy as np\n",
    "\n",
    "pd.set_option('display.max_rows', 500)\n",
    "\n",
    "# Read config.ini file\n",
    "config = configparser.ConfigParser()\n",
    "config.read('src/config.ini')\n",
    "# os.chdir(config['PATH']['ROOT_DIR'])\n",
    "\n",
    "# # Load data\n",
    "df = pd.read_csv(config['PATH']['DATA_DIR'] + '/dataset_mood_smartphone.csv')\n",
    "df.drop('Unnamed: 0', axis=1, inplace=True)\n",
    "\n",
    "# time to datetime\n",
    "df['time'] = pd.to_datetime(df['time'])\n"
   ]
  },
  {
   "cell_type": "code",
   "execution_count": 2,
   "metadata": {},
   "outputs": [],
   "source": [
    "# TODO: \n",
    "# DONE: Forward fill valence and arousal\n",
    "# Impute long term missing values with mean instead of ffill (for valence and arousal)\n",
    "# Remove appCat.builtin negative values\n",
    "# Aggregate to daily mood\n",
    "# Decide on aggregation method for each variable\n",
    "# Something with outliers"
   ]
  },
  {
   "cell_type": "code",
   "execution_count": 3,
   "metadata": {},
   "outputs": [
    {
     "name": "stderr",
     "output_type": "stream",
     "text": [
      "100%|██████████| 27/27 [00:01<00:00, 23.29it/s]\n"
     ]
    }
   ],
   "source": [
    "# Forward fill valence and arousal\n",
    "# Iterate over people\n",
    "for person in tqdm(df['id'].unique()):\n",
    "    # Forward fill valence and arousal\n",
    "    idx_arousal = np.logical_and(df['id'] == person, df['variable'] == 'circumplex.arousal')\n",
    "    df.loc[idx_arousal] = df.loc[idx_arousal].fillna(method='ffill')\n"
   ]
  },
  {
   "cell_type": "code",
   "execution_count": 4,
   "metadata": {},
   "outputs": [
    {
     "data": {
      "text/plain": [
       "['appCat.builtin',\n",
       " 'appCat.communication',\n",
       " 'appCat.entertainment',\n",
       " 'appCat.finance',\n",
       " 'appCat.game',\n",
       " 'appCat.office',\n",
       " 'appCat.other',\n",
       " 'appCat.social',\n",
       " 'appCat.travel',\n",
       " 'appCat.unknown',\n",
       " 'appCat.utilities',\n",
       " 'appCat.weather']"
      ]
     },
     "execution_count": 4,
     "metadata": {},
     "output_type": "execute_result"
    }
   ],
   "source": [
    "all_vars = df['variable'].unique()\n",
    "appVars = [var for var in all_vars if 'appCat' in var]\n",
    "appVars"
   ]
  },
  {
   "cell_type": "code",
   "execution_count": 5,
   "metadata": {},
   "outputs": [
    {
     "name": "stdout",
     "output_type": "stream",
     "text": [
      "             id                    time variable    value\n",
      "133329  AS14.33 2014-04-16 14:13:01.732   screen   20.061\n",
      "133330  AS14.33 2014-04-16 14:28:24.966   screen   28.604\n",
      "133331  AS14.33 2014-04-16 14:29:15.352   screen    1.928\n",
      "133332  AS14.33 2014-04-16 14:39:18.016   screen   29.815\n",
      "133333  AS14.33 2014-04-16 14:40:48.257   screen    4.678\n",
      "...         ...                     ...      ...      ...\n",
      "136465  AS14.33 2014-05-30 21:34:32.516   screen  133.394\n",
      "136466  AS14.33 2014-05-30 21:38:25.263   screen  164.072\n",
      "136467  AS14.33 2014-05-30 21:47:30.344   screen  504.017\n",
      "136468  AS14.33 2014-05-30 21:58:51.355   screen  526.137\n",
      "136469  AS14.33 2014-05-30 22:18:11.591   screen  847.779\n",
      "\n",
      "[3141 rows x 4 columns]\n"
     ]
    }
   ],
   "source": [
    "idx_arousal = np.logical_and(df['id'] == \"AS14.33\" , df['variable'] == 'screen')\n",
    "print(df.loc[idx_arousal])"
   ]
  },
  {
   "cell_type": "code",
   "execution_count": null,
   "metadata": {},
   "outputs": [],
   "source": []
  }
 ],
 "metadata": {
  "kernelspec": {
   "display_name": ".venv",
   "language": "python",
   "name": "python3"
  },
  "language_info": {
   "codemirror_mode": {
    "name": "ipython",
    "version": 3
   },
   "file_extension": ".py",
   "mimetype": "text/x-python",
   "name": "python",
   "nbconvert_exporter": "python",
   "pygments_lexer": "ipython3",
   "version": "3.10.7"
  },
  "orig_nbformat": 4,
  "vscode": {
   "interpreter": {
    "hash": "870a2fdea9c478e83829f6dfe3253b795de45ac3a80f5a95ea9a0c5415ff5b84"
   }
  }
 },
 "nbformat": 4,
 "nbformat_minor": 2
}
