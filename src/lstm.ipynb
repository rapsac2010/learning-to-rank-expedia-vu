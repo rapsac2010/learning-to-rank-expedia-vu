{
 "cells": [
  {
   "cell_type": "code",
   "execution_count": 1,
   "metadata": {},
   "outputs": [
    {
     "name": "stderr",
     "output_type": "stream",
     "text": [
      "c:\\Users\\caspa\\OneDrive - Vrije Universiteit Amsterdam\\VU Master\\data-mining-techniques-vu\\windows\\data-mining-techniques-vu\\.venv\\Lib\\site-packages\\tqdm\\auto.py:21: TqdmWarning: IProgress not found. Please update jupyter and ipywidgets. See https://ipywidgets.readthedocs.io/en/stable/user_install.html\n",
      "  from .autonotebook import tqdm as notebook_tqdm\n"
     ]
    },
    {
     "ename": "ImportError",
     "evalue": "cannot import name 'text' from partially initialized module 'keras.api._v2.keras.preprocessing' (most likely due to a circular import) (c:\\Users\\caspa\\OneDrive - Vrije Universiteit Amsterdam\\VU Master\\data-mining-techniques-vu\\windows\\data-mining-techniques-vu\\.venv\\Lib\\site-packages\\keras\\api\\_v2\\keras\\preprocessing\\__init__.py)",
     "output_type": "error",
     "traceback": [
      "\u001b[1;31m---------------------------------------------------------------------------\u001b[0m",
      "\u001b[1;31mImportError\u001b[0m                               Traceback (most recent call last)",
      "Cell \u001b[1;32mIn[1], line 25\u001b[0m\n\u001b[0;32m     22\u001b[0m \u001b[39mfrom\u001b[39;00m \u001b[39moptuna\u001b[39;00m\u001b[39m.\u001b[39;00m\u001b[39msamplers\u001b[39;00m \u001b[39mimport\u001b[39;00m TPESampler\n\u001b[0;32m     24\u001b[0m \u001b[39mimport\u001b[39;00m \u001b[39mtensorflow\u001b[39;00m \u001b[39mas\u001b[39;00m \u001b[39mtf\u001b[39;00m\n\u001b[1;32m---> 25\u001b[0m \u001b[39mfrom\u001b[39;00m \u001b[39mtensorflow\u001b[39;00m\u001b[39m.\u001b[39;00m\u001b[39mkeras\u001b[39;00m\u001b[39m.\u001b[39;00m\u001b[39mmodels\u001b[39;00m \u001b[39mimport\u001b[39;00m Sequential\n\u001b[0;32m     26\u001b[0m \u001b[39mfrom\u001b[39;00m \u001b[39mtensorflow\u001b[39;00m\u001b[39m.\u001b[39;00m\u001b[39mkeras\u001b[39;00m\u001b[39m.\u001b[39;00m\u001b[39mlayers\u001b[39;00m \u001b[39mimport\u001b[39;00m LSTM, Dense, Dropout, BatchNormalization\n\u001b[0;32m     28\u001b[0m \u001b[39m# Set plotting parameters\u001b[39;00m\n",
      "File \u001b[1;32mc:\\Users\\caspa\\OneDrive - Vrije Universiteit Amsterdam\\VU Master\\data-mining-techniques-vu\\windows\\data-mining-techniques-vu\\.venv\\Lib\\site-packages\\keras\\api\\_v2\\keras\\__init__.py:13\u001b[0m\n\u001b[0;32m     10\u001b[0m \u001b[39mimport\u001b[39;00m \u001b[39msys\u001b[39;00m \u001b[39mas\u001b[39;00m \u001b[39m_sys\u001b[39;00m\n\u001b[0;32m     12\u001b[0m \u001b[39mfrom\u001b[39;00m \u001b[39mkeras\u001b[39;00m \u001b[39mimport\u001b[39;00m __version__\n\u001b[1;32m---> 13\u001b[0m \u001b[39mfrom\u001b[39;00m \u001b[39mkeras\u001b[39;00m\u001b[39m.\u001b[39;00m\u001b[39mapi\u001b[39;00m\u001b[39m.\u001b[39;00m\u001b[39m_v2\u001b[39;00m\u001b[39m.\u001b[39;00m\u001b[39mkeras\u001b[39;00m \u001b[39mimport\u001b[39;00m __internal__\n\u001b[0;32m     14\u001b[0m \u001b[39mfrom\u001b[39;00m \u001b[39mkeras\u001b[39;00m\u001b[39m.\u001b[39;00m\u001b[39mapi\u001b[39;00m\u001b[39m.\u001b[39;00m\u001b[39m_v2\u001b[39;00m\u001b[39m.\u001b[39;00m\u001b[39mkeras\u001b[39;00m \u001b[39mimport\u001b[39;00m activations\n\u001b[0;32m     15\u001b[0m \u001b[39mfrom\u001b[39;00m \u001b[39mkeras\u001b[39;00m\u001b[39m.\u001b[39;00m\u001b[39mapi\u001b[39;00m\u001b[39m.\u001b[39;00m\u001b[39m_v2\u001b[39;00m\u001b[39m.\u001b[39;00m\u001b[39mkeras\u001b[39;00m \u001b[39mimport\u001b[39;00m applications\n",
      "File \u001b[1;32mc:\\Users\\caspa\\OneDrive - Vrije Universiteit Amsterdam\\VU Master\\data-mining-techniques-vu\\windows\\data-mining-techniques-vu\\.venv\\Lib\\site-packages\\keras\\api\\_v2\\__init__.py:8\u001b[0m\n\u001b[0;32m      3\u001b[0m \u001b[39m\"\"\"Public API for tf. namespace.\u001b[39;00m\n\u001b[0;32m      4\u001b[0m \u001b[39m\"\"\"\u001b[39;00m\n\u001b[0;32m      6\u001b[0m \u001b[39mimport\u001b[39;00m \u001b[39msys\u001b[39;00m \u001b[39mas\u001b[39;00m \u001b[39m_sys\u001b[39;00m\n\u001b[1;32m----> 8\u001b[0m \u001b[39mfrom\u001b[39;00m \u001b[39mkeras\u001b[39;00m\u001b[39m.\u001b[39;00m\u001b[39mapi\u001b[39;00m\u001b[39m.\u001b[39;00m\u001b[39m_v2\u001b[39;00m \u001b[39mimport\u001b[39;00m keras\n",
      "File \u001b[1;32mc:\\Users\\caspa\\OneDrive - Vrije Universiteit Amsterdam\\VU Master\\data-mining-techniques-vu\\windows\\data-mining-techniques-vu\\.venv\\Lib\\site-packages\\keras\\api\\_v2\\keras\\__init__.py:31\u001b[0m\n\u001b[0;32m     29\u001b[0m \u001b[39mfrom\u001b[39;00m \u001b[39mkeras\u001b[39;00m\u001b[39m.\u001b[39;00m\u001b[39mapi\u001b[39;00m\u001b[39m.\u001b[39;00m\u001b[39m_v2\u001b[39;00m\u001b[39m.\u001b[39;00m\u001b[39mkeras\u001b[39;00m \u001b[39mimport\u001b[39;00m models\n\u001b[0;32m     30\u001b[0m \u001b[39mfrom\u001b[39;00m \u001b[39mkeras\u001b[39;00m\u001b[39m.\u001b[39;00m\u001b[39mapi\u001b[39;00m\u001b[39m.\u001b[39;00m\u001b[39m_v2\u001b[39;00m\u001b[39m.\u001b[39;00m\u001b[39mkeras\u001b[39;00m \u001b[39mimport\u001b[39;00m optimizers\n\u001b[1;32m---> 31\u001b[0m \u001b[39mfrom\u001b[39;00m \u001b[39mkeras\u001b[39;00m\u001b[39m.\u001b[39;00m\u001b[39mapi\u001b[39;00m\u001b[39m.\u001b[39;00m\u001b[39m_v2\u001b[39;00m\u001b[39m.\u001b[39;00m\u001b[39mkeras\u001b[39;00m \u001b[39mimport\u001b[39;00m preprocessing\n\u001b[0;32m     32\u001b[0m \u001b[39mfrom\u001b[39;00m \u001b[39mkeras\u001b[39;00m\u001b[39m.\u001b[39;00m\u001b[39mapi\u001b[39;00m\u001b[39m.\u001b[39;00m\u001b[39m_v2\u001b[39;00m\u001b[39m.\u001b[39;00m\u001b[39mkeras\u001b[39;00m \u001b[39mimport\u001b[39;00m regularizers\n\u001b[0;32m     33\u001b[0m \u001b[39mfrom\u001b[39;00m \u001b[39mkeras\u001b[39;00m\u001b[39m.\u001b[39;00m\u001b[39mapi\u001b[39;00m\u001b[39m.\u001b[39;00m\u001b[39m_v2\u001b[39;00m\u001b[39m.\u001b[39;00m\u001b[39mkeras\u001b[39;00m \u001b[39mimport\u001b[39;00m saving\n",
      "File \u001b[1;32mc:\\Users\\caspa\\OneDrive - Vrije Universiteit Amsterdam\\VU Master\\data-mining-techniques-vu\\windows\\data-mining-techniques-vu\\.venv\\Lib\\site-packages\\keras\\api\\_v2\\keras\\preprocessing\\__init__.py:24\u001b[0m\n\u001b[0;32m     22\u001b[0m \u001b[39mfrom\u001b[39;00m \u001b[39mkeras\u001b[39;00m\u001b[39m.\u001b[39;00m\u001b[39mapi\u001b[39;00m\u001b[39m.\u001b[39;00m\u001b[39m_v2\u001b[39;00m\u001b[39m.\u001b[39;00m\u001b[39mkeras\u001b[39;00m\u001b[39m.\u001b[39;00m\u001b[39mpreprocessing\u001b[39;00m \u001b[39mimport\u001b[39;00m image\n\u001b[0;32m     23\u001b[0m \u001b[39mfrom\u001b[39;00m \u001b[39mkeras\u001b[39;00m\u001b[39m.\u001b[39;00m\u001b[39mapi\u001b[39;00m\u001b[39m.\u001b[39;00m\u001b[39m_v2\u001b[39;00m\u001b[39m.\u001b[39;00m\u001b[39mkeras\u001b[39;00m\u001b[39m.\u001b[39;00m\u001b[39mpreprocessing\u001b[39;00m \u001b[39mimport\u001b[39;00m sequence\n\u001b[1;32m---> 24\u001b[0m \u001b[39mfrom\u001b[39;00m \u001b[39mkeras\u001b[39;00m\u001b[39m.\u001b[39;00m\u001b[39mapi\u001b[39;00m\u001b[39m.\u001b[39;00m\u001b[39m_v2\u001b[39;00m\u001b[39m.\u001b[39;00m\u001b[39mkeras\u001b[39;00m\u001b[39m.\u001b[39;00m\u001b[39mpreprocessing\u001b[39;00m \u001b[39mimport\u001b[39;00m text\n\u001b[0;32m     25\u001b[0m \u001b[39mfrom\u001b[39;00m \u001b[39mkeras\u001b[39;00m\u001b[39m.\u001b[39;00m\u001b[39mutils\u001b[39;00m\u001b[39m.\u001b[39;00m\u001b[39mimage_dataset\u001b[39;00m \u001b[39mimport\u001b[39;00m image_dataset_from_directory\n\u001b[0;32m     26\u001b[0m \u001b[39mfrom\u001b[39;00m \u001b[39mkeras\u001b[39;00m\u001b[39m.\u001b[39;00m\u001b[39mutils\u001b[39;00m\u001b[39m.\u001b[39;00m\u001b[39mtext_dataset\u001b[39;00m \u001b[39mimport\u001b[39;00m text_dataset_from_directory\n",
      "\u001b[1;31mImportError\u001b[0m: cannot import name 'text' from partially initialized module 'keras.api._v2.keras.preprocessing' (most likely due to a circular import) (c:\\Users\\caspa\\OneDrive - Vrije Universiteit Amsterdam\\VU Master\\data-mining-techniques-vu\\windows\\data-mining-techniques-vu\\.venv\\Lib\\site-packages\\keras\\api\\_v2\\keras\\preprocessing\\__init__.py)"
     ]
    }
   ],
   "source": [
    "import configparser\n",
    "import os\n",
    "from joblib import dump, load\n",
    "import json\n",
    "from tqdm import tqdm\n",
    "from helpers.helper_functions import *\n",
    "from helpers.helper_classes import *\n",
    "import pandas as pd\n",
    "import matplotlib.pyplot as plt\n",
    "import numpy as np\n",
    "import statsmodels as sm\n",
    "import numpy as np\n",
    "import pmdarima as pm\n",
    "from statsmodels.tsa.arima.model import ARIMA\n",
    "import scienceplots\n",
    "import latex\n",
    "import random\n",
    "\n",
    "from sklearn.metrics import accuracy_score\n",
    "import optuna\n",
    "from optuna import Trial\n",
    "from optuna.samplers import TPESampler\n",
    "\n",
    "import tensorflow as tf\n",
    "from tensorflow.keras.models import Sequential\n",
    "from tensorflow.keras.layers import LSTM, Dense, Dropout, BatchNormalization\n",
    "\n",
    "# Set plotting parameters\n",
    "plt.style.use(['science', 'ieee'])\n",
    "plt.rcParams['figure.dpi'] = 100\n",
    "\n",
    "pd.set_option('display.max_rows', 200)\n",
    "\n",
    "# Read config.ini file\n",
    "config = configparser.ConfigParser()\n",
    "config.read('src/config.ini')\n",
    "\n",
    "# Read data\n",
    "df_og = load(config['PATH']['DATA_DIR'] + '/full_df_daily_cap95.joblib')"
   ]
  },
  {
   "cell_type": "code",
   "execution_count": 12,
   "metadata": {},
   "outputs": [],
   "source": [
    "# Construct target as bad (0-6), okay (6-8), good (8-10)\n",
    "df = df_og.copy()\n",
    "# df = df.drop(columns = ['time'])\n",
    "df['target'] = df['target'].apply(lambda x: 0 if x < 7 else 1)\n",
    "\n",
    "# Impute outliers (larger than 1.5 IQR) with mean of column in all _sum columns\n",
    "# for col in df.columns:\n",
    "#     if col.endswith('_sum'):\n",
    "#         df[col] = df[col].mask(df[col] > df[col].quantile(0.75) + 1.5 * (df[col].quantile(0.75) - df[col].quantile(0.25)), df[col].mean())"
   ]
  },
  {
   "cell_type": "code",
   "execution_count": 13,
   "metadata": {},
   "outputs": [],
   "source": [
    "X, y = df.drop(columns=['target'], axis = 1), df['target']\n",
    "\n",
    "X_train, X_val, X_test, y_train, y_val, y_test = train_val_test_ts(X, y, split_ratios=[0.5, 0.2])\n",
    "\n",
    "# Full train set for final model\n",
    "X_train_full = pd.concat([X_train, X_val])\n",
    "y_train_full = pd.concat([y_train, y_val])\n",
    "\n",
    "# Get non-dummy columns\n",
    "if len([var for var in df.columns if var.startswith('day')]) == 7:\n",
    "    df = df.drop(columns=['day_of_week_0'])\n",
    "dummy_cols = [var for var in df.columns if var.startswith('day')] + ['target', 'activity_idc', 'call_idc', 'sms_idc', 'id']\n",
    "cols_no_dummy = [var for var in X_train.columns if var not in dummy_cols]\n",
    "\n",
    "# Scale data\n",
    "from sklearn.compose import ColumnTransformer\n",
    "from sklearn.preprocessing import StandardScaler\n",
    "\n",
    "ct = ColumnTransformer([('scaler', StandardScaler(), cols_no_dummy)], remainder='passthrough')\n",
    "ct.set_output(transform='pandas')\n",
    "X_train_scaled = ct.fit_transform(X_train)\n",
    "X_val_scaled = ct.transform(X_val)\n"
   ]
  },
  {
   "cell_type": "code",
   "execution_count": 14,
   "metadata": {},
   "outputs": [],
   "source": [
    "def shape_lstm(X, y, seq_length):\n",
    "    import numpy as np\n",
    "\n",
    "    X_lstm = []\n",
    "    y_lstm = []\n",
    "    \n",
    "    # Iterate over persons:\n",
    "    for person in X['remainder__id'].unique():\n",
    "        # Get all days for this person\n",
    "        X_person = X[X['remainder__id'] == person].drop(columns = ['remainder__id']).values\n",
    "        y_person = y[X['remainder__id'] == person].drop(columns = ['remainder__id']).values\n",
    "\n",
    "        i = 0\n",
    "        while i < len(X_person):\n",
    "            # If days are less than seq_length, pad with zeros at the beginning of X\n",
    "            if len(X_person) < seq_length:\n",
    "                n_missing = seq_length - len(X_person)\n",
    "                X_padded = np.pad(X_person, ((n_missing, 0), (0, 0)), mode='constant', constant_values=0)\n",
    "                X_lstm.append(X_padded)\n",
    "                y_lstm.append(y_person[-1])\n",
    "                break\n",
    "\n",
    "            # If days are more than seq_length, create sequences of seq_length days\n",
    "            elif i + seq_length <= len(X_person):\n",
    "                X_lstm.append(X_person[i:i+seq_length])\n",
    "                y_lstm.append(y_person[i+seq_length-1])\n",
    "                i += 1\n",
    "\n",
    "            # If the remaining days are not enough to form a full sequence, stop iterating\n",
    "            else:\n",
    "                break\n",
    "                \n",
    "        # Add sequenced data for this person to the list of all sequences\n",
    "\n",
    "    # Convert lists to numpy arrays and reshape y_lstm\n",
    "    X_lstm = np.array(X_lstm).astype('float32'\t)\n",
    "    y_lstm = np.array(y_lstm).reshape(-1, 1).astype('float32')\n",
    "\n",
    "    # Return full sequenced dataframe\n",
    "    return X_lstm, y_lstm\n",
    "\n",
    "\n",
    "# Define the LSTM model\n",
    "def build_lstm_model(input_shape, hunits = 128):\n",
    "    model = Sequential()\n",
    "    model.add(LSTM(hunits, input_shape=input_shape, return_sequences=False))\n",
    "    model.add(Dense(1, activation='sigmoid'))\n",
    "    return model\n",
    "\n"
   ]
  },
  {
   "cell_type": "code",
   "execution_count": 15,
   "metadata": {},
   "outputs": [],
   "source": [
    "seq_length = 7\n",
    "X_lstm_train, y_lstm_train = shape_lstm(X_train_scaled, y_train, seq_length=seq_length)\n",
    "X_lstm_val, y_lstm_val = shape_lstm(X_val_scaled, y_val, seq_length=seq_length)\n"
   ]
  },
  {
   "cell_type": "code",
   "execution_count": 1,
   "metadata": {},
   "outputs": [
    {
     "ename": "NameError",
     "evalue": "name 'Trial' is not defined",
     "output_type": "error",
     "traceback": [
      "\u001b[1;31m---------------------------------------------------------------------------\u001b[0m",
      "\u001b[1;31mNameError\u001b[0m                                 Traceback (most recent call last)",
      "Cell \u001b[1;32mIn[1], line 2\u001b[0m\n\u001b[0;32m      1\u001b[0m \u001b[39m# Define the objective function for the optimization\u001b[39;00m\n\u001b[1;32m----> 2\u001b[0m \u001b[39mdef\u001b[39;00m \u001b[39mobjective\u001b[39m(trial: Trial):\n\u001b[0;32m      3\u001b[0m     hidden_units \u001b[39m=\u001b[39m trial\u001b[39m.\u001b[39msuggest_int(\u001b[39m'\u001b[39m\u001b[39mhunits\u001b[39m\u001b[39m'\u001b[39m, \u001b[39m16\u001b[39m, \u001b[39m256\u001b[39m, step\u001b[39m=\u001b[39m\u001b[39m16\u001b[39m)\n\u001b[0;32m      4\u001b[0m     epochs \u001b[39m=\u001b[39m trial\u001b[39m.\u001b[39msuggest_int(\u001b[39m'\u001b[39m\u001b[39mepochs\u001b[39m\u001b[39m'\u001b[39m, \u001b[39m5\u001b[39m, \u001b[39m40\u001b[39m, step\u001b[39m=\u001b[39m\u001b[39m5\u001b[39m)\n",
      "\u001b[1;31mNameError\u001b[0m: name 'Trial' is not defined"
     ]
    }
   ],
   "source": [
    "# Define the objective function for the optimization\n",
    "def objective(trial: Trial):\n",
    "    hidden_units = trial.suggest_int('hunits', 16, 256, step=16)\n",
    "    epochs = trial.suggest_int('epochs', 5, 40, step=5)\n",
    "\n",
    "\n",
    "    input_shape = (seq_length, X_lstm_train.shape[2])\n",
    "    model = build_lstm_model(input_shape, hidden_units)\n",
    "    model.compile(optimizer='adam', loss='binary_crossentropy', metrics=['accuracy'])\n",
    "    model.fit(X_lstm_train, y_lstm_train, epochs=epochs, verbose=0)\n",
    "    score = model.evaluate(X_lstm_val, y_lstm_val, verbose=0)\n",
    "\n",
    "    return score[1]\n",
    "\n",
    "# Optimize the pipeline using Optuna\n",
    "manual_seed = 42\n",
    "np.random.seed(manual_seed)\n",
    "random.seed(manual_seed)\n",
    "tf.random.set_seed(manual_seed)\n",
    "sampler = TPESampler(seed=manual_seed)\n",
    "\n",
    "study = optuna.create_study(direction='maximize', sampler=sampler)\n",
    "study.optimize(objective, n_trials=50)\n",
    "\n",
    "# Print the best trial\n",
    "best_trial = study.best_trial\n",
    "print(f\"Best trial: {best_trial.number}, Accuracy: {best_trial.value}\")\n",
    "print(f\"Best params: {best_trial.params}\")\n"
   ]
  },
  {
   "cell_type": "code",
   "execution_count": 33,
   "metadata": {},
   "outputs": [
    {
     "name": "stdout",
     "output_type": "stream",
     "text": [
      "Model: \"sequential_250\"\n",
      "_________________________________________________________________\n",
      " Layer (type)                Output Shape              Param #   \n",
      "=================================================================\n",
      " lstm_249 (LSTM)             (None, 32)                10240     \n",
      "                                                                 \n",
      " dense_249 (Dense)           (None, 1)                 33        \n",
      "                                                                 \n",
      "=================================================================\n",
      "Total params: 10,273\n",
      "Trainable params: 10,273\n",
      "Non-trainable params: 0\n",
      "_________________________________________________________________\n",
      "Epoch 1/15\n",
      "21/21 [==============================] - 3s 4ms/step - loss: 0.6361 - accuracy: 0.6403\n",
      "Epoch 2/15\n",
      "21/21 [==============================] - 0s 4ms/step - loss: 0.5690 - accuracy: 0.7411\n",
      "Epoch 3/15\n",
      "21/21 [==============================] - 0s 5ms/step - loss: 0.5320 - accuracy: 0.7457\n",
      "Epoch 4/15\n",
      "21/21 [==============================] - 0s 4ms/step - loss: 0.5139 - accuracy: 0.7488\n",
      "Epoch 5/15\n",
      "21/21 [==============================] - 0s 4ms/step - loss: 0.4983 - accuracy: 0.7535\n",
      "Epoch 6/15\n",
      "21/21 [==============================] - 0s 4ms/step - loss: 0.4860 - accuracy: 0.7504\n",
      "Epoch 7/15\n",
      "21/21 [==============================] - 0s 4ms/step - loss: 0.4765 - accuracy: 0.7535\n",
      "Epoch 8/15\n",
      "21/21 [==============================] - 0s 7ms/step - loss: 0.4651 - accuracy: 0.7659\n",
      "Epoch 9/15\n",
      "21/21 [==============================] - 0s 6ms/step - loss: 0.4560 - accuracy: 0.7798\n",
      "Epoch 10/15\n",
      "21/21 [==============================] - 0s 5ms/step - loss: 0.4443 - accuracy: 0.7829\n",
      "Epoch 11/15\n",
      "21/21 [==============================] - 0s 4ms/step - loss: 0.4342 - accuracy: 0.7876\n",
      "Epoch 12/15\n",
      "21/21 [==============================] - 0s 4ms/step - loss: 0.4237 - accuracy: 0.7860\n",
      "Epoch 13/15\n",
      "21/21 [==============================] - 0s 4ms/step - loss: 0.4161 - accuracy: 0.8047\n",
      "Epoch 14/15\n",
      "21/21 [==============================] - 0s 4ms/step - loss: 0.4057 - accuracy: 0.8062\n",
      "Epoch 15/15\n",
      "21/21 [==============================] - 0s 4ms/step - loss: 0.3942 - accuracy: 0.8171\n",
      "8/8 [==============================] - 1s 2ms/step\n",
      "Test loss: 0.6264435648918152\n",
      "Test accuracy: 0.6851063966751099\n"
     ]
    },
    {
     "data": {
      "image/png": "[encoded data removed]",
      "text/plain": [
       "<Figure size 330x250 with 2 Axes>"
      ]
     },
     "metadata": {},
     "output_type": "display_data"
    }
   ],
   "source": [
    "# Train the model on the full training set\n",
    "ct = ColumnTransformer([('scaler', StandardScaler(), cols_no_dummy)], remainder='passthrough')\n",
    "ct.set_output(transform='pandas')\n",
    "\n",
    "X_train_full_scaled = ct.fit_transform(X_train_full)\n",
    "X_test_scaled = ct.transform(X_test)\n",
    "\n",
    "X_train_full_lstm, y_train_full_lstm = shape_lstm(X_train_full_scaled, y_train_full, seq_length=7)\n",
    "X_test_lstm, y_test_lstm = shape_lstm(X_test_scaled, y_test, seq_length=7)\n",
    "\n",
    "# Set the input_shape for your model based on your input data\n",
    "input_shape = (seq_length, X_train_full_lstm.shape[2])\n",
    "model2 = build_lstm_model(input_shape, hunits=best_trial.params['hunits'])\n",
    "model2.compile(optimizer='adam', loss='binary_crossentropy', metrics=['accuracy'])\n",
    "model2.summary()\n",
    "hist_full = model2.fit(X_train_full_lstm, y_train_full_lstm, epochs=best_trial.params['epochs'], batch_size=32)\n",
    "\n",
    "\n",
    "# Predict on the test set\n",
    "y_pred = model2.predict(X_test_lstm)\n",
    "\n",
    "# Evaluate the model\n",
    "score = model2.evaluate(X_test_lstm, y_test_lstm, verbose=0)\n",
    "print('Test loss:', score[0])\n",
    "print('Test accuracy:', score[1])\n",
    "\n",
    "# Print the confusion matrix\n",
    "from sklearn.metrics import confusion_matrix\n",
    "import seaborn as sns\n",
    "import matplotlib.pyplot as plt\n",
    "\n",
    "y_pred = np.round(y_pred)\n",
    "cm = confusion_matrix(y_test_lstm, y_pred)\n",
    "cm = cm.astype('float') / cm.sum(axis=1)[:, np.newaxis]\n",
    "sns.heatmap(cm, annot=True, cmap='Blues', fmt='.2f')\n",
    "plt.xlabel('Predicted')\n",
    "plt.ylabel('Actual')\n",
    "plt.savefig('figures/lstm_confusion_matrix.pdf')\n",
    "plt.show()\n"
   ]
  },
  {
   "cell_type": "code",
   "execution_count": 186,
   "metadata": {},
   "outputs": [
    {
     "data": {
      "text/html": [
       "<div>\n",
       "<style scoped>\n",
       "    .dataframe tbody tr th:only-of-type {\n",
       "        vertical-align: middle;\n",
       "    }\n",
       "\n",
       "    .dataframe tbody tr th {\n",
       "        vertical-align: top;\n",
       "    }\n",
       "\n",
       "    .dataframe thead th {\n",
       "        text-align: right;\n",
       "    }\n",
       "</style>\n",
       "<table border=\"1\" class=\"dataframe\">\n",
       "  <thead>\n",
       "    <tr style=\"text-align: right;\">\n",
       "      <th></th>\n",
       "      <th>x</th>\n",
       "    </tr>\n",
       "  </thead>\n",
       "  <tbody>\n",
       "    <tr>\n",
       "      <th>0</th>\n",
       "      <td>2.0</td>\n",
       "    </tr>\n",
       "    <tr>\n",
       "      <th>1</th>\n",
       "      <td>3.0</td>\n",
       "    </tr>\n",
       "    <tr>\n",
       "      <th>2</th>\n",
       "      <td>4.0</td>\n",
       "    </tr>\n",
       "    <tr>\n",
       "      <th>3</th>\n",
       "      <td>NaN</td>\n",
       "    </tr>\n",
       "  </tbody>\n",
       "</table>\n",
       "</div>"
      ],
      "text/plain": [
       "     x\n",
       "0  2.0\n",
       "1  3.0\n",
       "2  4.0\n",
       "3  NaN"
      ]
     },
     "execution_count": 186,
     "metadata": {},
     "output_type": "execute_result"
    }
   ],
   "source": [
    "# dataframe with x = 1,2,3,4\n",
    "df = pd.DataFrame({'x': [1,2,3,4]})\n",
    "df.shift(-1)"
   ]
  },
  {
   "cell_type": "code",
   "execution_count": 31,
   "metadata": {},
   "outputs": [
    {
     "name": "stdout",
     "output_type": "stream",
     "text": [
      "              precision    recall  f1-score   support\n",
      "\n",
      "         0.0       0.68      0.56      0.62       108\n",
      "         1.0       0.68      0.77      0.72       127\n",
      "\n",
      "    accuracy                           0.68       235\n",
      "   macro avg       0.68      0.67      0.67       235\n",
      "weighted avg       0.68      0.68      0.67       235\n",
      "\n"
     ]
    }
   ],
   "source": [
    "# classification report\n",
    "from sklearn.metrics import classification_report\n",
    "print(classification_report(y_test_lstm, y_pred.flatten()))\n"
   ]
  },
  {
   "cell_type": "code",
   "execution_count": null,
   "metadata": {},
   "outputs": [],
   "source": []
  },
  {
   "cell_type": "code",
   "execution_count": 29,
   "metadata": {},
   "outputs": [
    {
     "data": {
      "text/plain": [
       "array([0., 1., 1., 1., 1., 1., 1., 1., 1., 1., 1., 1., 1., 1., 1., 1., 1.,\n",
       "       1., 1., 1., 1., 1., 1., 1., 0., 0., 0., 0., 0., 0., 0., 0., 0., 1.,\n",
       "       0., 0., 0., 0., 0., 1., 1., 1., 0., 0., 0., 0., 1., 1., 1., 1., 1.,\n",
       "       1., 1., 0., 0., 1., 1., 1., 1., 1., 1., 1., 1., 0., 0., 1., 1., 1.,\n",
       "       1., 1., 0., 0., 0., 1., 1., 1., 1., 1., 1., 1., 0., 0., 0., 0., 0.,\n",
       "       0., 0., 0., 0., 0., 0., 0., 0., 0., 1., 1., 1., 1., 0., 0., 1., 1.,\n",
       "       1., 1., 0., 0., 0., 0., 0., 0., 0., 0., 0., 0., 0., 1., 1., 1., 1.,\n",
       "       1., 1., 1., 1., 1., 1., 1., 1., 1., 1., 1., 1., 1., 0., 0., 0., 0.,\n",
       "       0., 0., 0., 1., 1., 1., 1., 1., 1., 1., 1., 1., 1., 1., 1., 1., 1.,\n",
       "       1., 1., 1., 1., 1., 1., 1., 1., 1., 1., 1., 1., 1., 1., 1., 1., 1.,\n",
       "       1., 1., 1., 1., 1., 1., 1., 1., 1., 1., 1., 1., 1., 1., 1., 1., 1.,\n",
       "       1., 1., 1., 1., 1., 1., 1., 1., 1., 1., 1., 1., 1., 1., 1., 0., 1.,\n",
       "       1., 0., 0., 0., 0., 0., 0., 0., 0., 0., 0., 0., 0., 1., 0., 0., 0.,\n",
       "       0., 0., 0., 0., 0., 0., 0., 0., 0., 0., 0., 0., 0., 0.],\n",
       "      dtype=float32)"
      ]
     },
     "execution_count": 29,
     "metadata": {},
     "output_type": "execute_result"
    }
   ],
   "source": [
    "y_pred.flatten()"
   ]
  },
  {
   "cell_type": "code",
   "execution_count": null,
   "metadata": {},
   "outputs": [],
   "source": []
  }
 ],
 "metadata": {
  "kernelspec": {
   "display_name": ".venv",
   "language": "python",
   "name": "python3"
  },
  "language_info": {
   "codemirror_mode": {
    "name": "ipython",
    "version": 3
   },
   "file_extension": ".py",
   "mimetype": "text/x-python",
   "name": "python",
   "nbconvert_exporter": "python",
   "pygments_lexer": "ipython3",
   "version": "3.11.1"
  },
  "orig_nbformat": 4
 },
 "nbformat": 4,
 "nbformat_minor": 2
}
