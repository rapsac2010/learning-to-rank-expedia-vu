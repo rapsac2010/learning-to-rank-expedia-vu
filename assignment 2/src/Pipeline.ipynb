{
 "cells": [
  {
   "cell_type": "markdown",
   "id": "788da39c",
   "metadata": {
    "toc": true
   },
   "source": [
    "<h1>Table of Contents<span class=\"tocSkip\"></span></h1>\n",
    "<div class=\"toc\"><ul class=\"toc-item\"></ul></div>"
   ]
  },
  {
   "cell_type": "code",
   "execution_count": 1,
   "id": "95539adf",
   "metadata": {},
   "outputs": [],
   "source": [
    "import os\n",
    "import pandas as pd\n",
    "import matplotlib.pyplot as plt\n",
    "from collections import Counter\n",
    "import numpy as np\n",
    "import seaborn as sb\n",
    "import lightgbm as lgb\n",
    "from sklearn.model_selection import train_test_split\n",
    "import xgboost as xgb\n",
    "\n",
    "\n",
    "pd.set_option('display.max_rows', 500)\n",
    "pd.set_option('display.max_columns', None)"
   ]
  },
  {
   "cell_type": "code",
   "execution_count": 3,
   "id": "a95be1fa",
   "metadata": {},
   "outputs": [],
   "source": [
    "# # Load data\n",
    "df_train = pd.read_parquet('../data/training_set.parquet', engine = 'auto')\n",
    "df_train = df_train[df_train['srch_id'] < 10000]\n",
    "df_test = pd.read_parquet('../data/test_set.parquet', engine = 'auto')"
   ]
  },
  {
   "cell_type": "markdown",
   "id": "581da370",
   "metadata": {},
   "source": [
    "<h1>Data prep<h1\\>"
   ]
  },
  {
   "cell_type": "code",
   "execution_count": 4,
   "id": "671eca52",
   "metadata": {},
   "outputs": [],
   "source": [
    "def make_score(row):\n",
    "    if row['booking_bool'] == 1:\n",
    "        return 5\n",
    "    elif row['click_bool'] == 1:\n",
    "        return 1\n",
    "    return 0\n",
    "\n",
    "def date_time(df):\n",
    "    df_copy = df.copy()\n",
    "    df_copy['date_time'] = pd.to_datetime(df_copy['date_time'])\n",
    "    df_copy['hour'] = df_copy['date_time'].dt.hour\n",
    "    df_copy['day'] = df_copy['date_time'].dt.day\n",
    "    df_copy['month'] = df_copy['date_time'].dt.month\n",
    "    return df_copy\n",
    "\n",
    "def remove_cols(df, cols):\n",
    "    return df.drop(cols, axis=1)"
   ]
  },
  {
   "cell_type": "code",
   "execution_count": 5,
   "id": "11765ba2",
   "metadata": {},
   "outputs": [],
   "source": [
    "target_cols = ['click_bool', 'booking_bool', 'gross_bookings_usd', 'position', 'date_time']\n",
    "\n",
    "df_train['score'] = df_train.apply(lambda row: make_score(row), axis=1)\n",
    "df_train = date_time(df_train)\n",
    "df_train = df_train.drop(target_cols, axis=1)\n",
    "df_train.fillna(-1, inplace=True)"
   ]
  },
  {
   "cell_type": "markdown",
   "id": "8da28ce6",
   "metadata": {},
   "source": [
    "<h1>Data split<h1\\>"
   ]
  },
  {
   "cell_type": "code",
   "execution_count": 24,
   "id": "8daeec24",
   "metadata": {},
   "outputs": [],
   "source": [
    "from sklearn.model_selection import GroupShuffleSplit\n",
    "\n",
    "splitter = GroupShuffleSplit(test_size=0.2, n_splits=2, random_state = 7)\n",
    "split = splitter.split(df_train, groups=df_train['srch_id'])\n",
    "train_inds, test_inds = next(split)\n",
    "\n",
    "df_ideal = df_train.iloc[test_inds].copy().sort_values(by=['srch_id', 'score'], ascending=[True, False], inplace=False)\n",
    "\n",
    "X = df_train.drop(['score'], axis=1)\n",
    "y = df_train['score']\n",
    "X_train, X_test, y_train, y_test, test_ideal = X.iloc[train_inds], X.iloc[test_inds], y.iloc[train_inds], y.iloc[test_inds], df_ideal\n",
    "\n",
    "train_groups = X_train.groupby('srch_id').size().to_frame('size')['size'].to_numpy()\n",
    "\n",
    "test_groups = X_test.groupby('srch_id').size().to_frame('size')['size'].to_numpy()\n"
   ]
  },
  {
   "cell_type": "code",
   "execution_count": 25,
   "id": "fe60e35b",
   "metadata": {},
   "outputs": [
    {
     "data": {
      "text/plain": [
       "array([32,  5, 21, ..., 31, 27, 31])"
      ]
     },
     "execution_count": 25,
     "metadata": {},
     "output_type": "execute_result"
    }
   ],
   "source": [
    "train_groups"
   ]
  },
  {
   "cell_type": "markdown",
   "id": "c2360896",
   "metadata": {},
   "source": [
    "<h1>Training <h1\\>"
   ]
  },
  {
   "cell_type": "code",
   "execution_count": 40,
   "id": "4d562c95",
   "metadata": {},
   "outputs": [],
   "source": [
    "gbm = lgb.LGBMRanker(objective=\"lambdarank\",\n",
    "        metric=\"ndcg\")"
   ]
  },
  {
   "cell_type": "code",
   "execution_count": 41,
   "id": "b6f71f84",
   "metadata": {},
   "outputs": [
    {
     "name": "stdout",
     "output_type": "stream",
     "text": [
      "[1]\tvalid_0's ndcg@1: 0.125472\tvalid_0's ndcg@2: 0.186334\tvalid_0's ndcg@3: 0.226413\tvalid_0's ndcg@4: 0.253247\tvalid_0's ndcg@5: 0.276805\n",
      "[2]\tvalid_0's ndcg@1: 0.133744\tvalid_0's ndcg@2: 0.190656\tvalid_0's ndcg@3: 0.228076\tvalid_0's ndcg@4: 0.259267\tvalid_0's ndcg@5: 0.282754\n",
      "[3]\tvalid_0's ndcg@1: 0.135404\tvalid_0's ndcg@2: 0.205887\tvalid_0's ndcg@3: 0.24777\tvalid_0's ndcg@4: 0.278135\tvalid_0's ndcg@5: 0.297019\n",
      "[4]\tvalid_0's ndcg@1: 0.140436\tvalid_0's ndcg@2: 0.209217\tvalid_0's ndcg@3: 0.253742\tvalid_0's ndcg@4: 0.288904\tvalid_0's ndcg@5: 0.311603\n",
      "[5]\tvalid_0's ndcg@1: 0.144639\tvalid_0's ndcg@2: 0.211085\tvalid_0's ndcg@3: 0.257939\tvalid_0's ndcg@4: 0.290431\tvalid_0's ndcg@5: 0.315178\n",
      "[6]\tvalid_0's ndcg@1: 0.149592\tvalid_0's ndcg@2: 0.21641\tvalid_0's ndcg@3: 0.264201\tvalid_0's ndcg@4: 0.295921\tvalid_0's ndcg@5: 0.322168\n",
      "[7]\tvalid_0's ndcg@1: 0.155401\tvalid_0's ndcg@2: 0.224313\tvalid_0's ndcg@3: 0.270895\tvalid_0's ndcg@4: 0.299009\tvalid_0's ndcg@5: 0.323311\n",
      "[8]\tvalid_0's ndcg@1: 0.153714\tvalid_0's ndcg@2: 0.222665\tvalid_0's ndcg@3: 0.266702\tvalid_0's ndcg@4: 0.297925\tvalid_0's ndcg@5: 0.317842\n",
      "[9]\tvalid_0's ndcg@1: 0.160353\tvalid_0's ndcg@2: 0.226663\tvalid_0's ndcg@3: 0.269903\tvalid_0's ndcg@4: 0.302894\tvalid_0's ndcg@5: 0.325068\n",
      "[10]\tvalid_0's ndcg@1: 0.166992\tvalid_0's ndcg@2: 0.233623\tvalid_0's ndcg@3: 0.27497\tvalid_0's ndcg@4: 0.307931\tvalid_0's ndcg@5: 0.332994\n",
      "[11]\tvalid_0's ndcg@1: 0.162013\tvalid_0's ndcg@2: 0.227789\tvalid_0's ndcg@3: 0.268091\tvalid_0's ndcg@4: 0.305872\tvalid_0's ndcg@5: 0.329144\n",
      "[12]\tvalid_0's ndcg@1: 0.159523\tvalid_0's ndcg@2: 0.228943\tvalid_0's ndcg@3: 0.267612\tvalid_0's ndcg@4: 0.302676\tvalid_0's ndcg@5: 0.327874\n",
      "[13]\tvalid_0's ndcg@1: 0.16204\tvalid_0's ndcg@2: 0.225977\tvalid_0's ndcg@3: 0.27145\tvalid_0's ndcg@4: 0.30845\tvalid_0's ndcg@5: 0.331269\n",
      "[14]\tvalid_0's ndcg@1: 0.168679\tvalid_0's ndcg@2: 0.232583\tvalid_0's ndcg@3: 0.274728\tvalid_0's ndcg@4: 0.307815\tvalid_0's ndcg@5: 0.332226\n",
      "[15]\tvalid_0's ndcg@1: 0.169482\tvalid_0's ndcg@2: 0.230299\tvalid_0's ndcg@3: 0.276808\tvalid_0's ndcg@4: 0.310288\tvalid_0's ndcg@5: 0.334609\n",
      "[16]\tvalid_0's ndcg@1: 0.166992\tvalid_0's ndcg@2: 0.230417\tvalid_0's ndcg@3: 0.275511\tvalid_0's ndcg@4: 0.308921\tvalid_0's ndcg@5: 0.332484\n",
      "[17]\tvalid_0's ndcg@1: 0.171972\tvalid_0's ndcg@2: 0.236957\tvalid_0's ndcg@3: 0.280323\tvalid_0's ndcg@4: 0.310187\tvalid_0's ndcg@5: 0.336069\n",
      "[18]\tvalid_0's ndcg@1: 0.166992\tvalid_0's ndcg@2: 0.235991\tvalid_0's ndcg@3: 0.278626\tvalid_0's ndcg@4: 0.30834\tvalid_0's ndcg@5: 0.332843\n",
      "[19]\tvalid_0's ndcg@1: 0.171972\tvalid_0's ndcg@2: 0.23941\tvalid_0's ndcg@3: 0.284569\tvalid_0's ndcg@4: 0.313505\tvalid_0's ndcg@5: 0.335053\n",
      "[20]\tvalid_0's ndcg@1: 0.168679\tvalid_0's ndcg@2: 0.235086\tvalid_0's ndcg@3: 0.283141\tvalid_0's ndcg@4: 0.312802\tvalid_0's ndcg@5: 0.334656\n",
      "[21]\tvalid_0's ndcg@1: 0.162843\tvalid_0's ndcg@2: 0.228856\tvalid_0's ndcg@3: 0.277157\tvalid_0's ndcg@4: 0.309252\tvalid_0's ndcg@5: 0.330339\n",
      "[22]\tvalid_0's ndcg@1: 0.159523\tvalid_0's ndcg@2: 0.226556\tvalid_0's ndcg@3: 0.275667\tvalid_0's ndcg@4: 0.306692\tvalid_0's ndcg@5: 0.3297\n",
      "[23]\tvalid_0's ndcg@1: 0.162816\tvalid_0's ndcg@2: 0.228886\tvalid_0's ndcg@3: 0.274974\tvalid_0's ndcg@4: 0.307213\tvalid_0's ndcg@5: 0.330225\n",
      "[24]\tvalid_0's ndcg@1: 0.163646\tvalid_0's ndcg@2: 0.229706\tvalid_0's ndcg@3: 0.273299\tvalid_0's ndcg@4: 0.307053\tvalid_0's ndcg@5: 0.330445\n",
      "[25]\tvalid_0's ndcg@1: 0.164503\tvalid_0's ndcg@2: 0.228574\tvalid_0's ndcg@3: 0.275795\tvalid_0's ndcg@4: 0.308454\tvalid_0's ndcg@5: 0.330903\n",
      "[26]\tvalid_0's ndcg@1: 0.167822\tvalid_0's ndcg@2: 0.228431\tvalid_0's ndcg@3: 0.272587\tvalid_0's ndcg@4: 0.309028\tvalid_0's ndcg@5: 0.330969\n",
      "[27]\tvalid_0's ndcg@1: 0.166162\tvalid_0's ndcg@2: 0.228865\tvalid_0's ndcg@3: 0.274063\tvalid_0's ndcg@4: 0.309973\tvalid_0's ndcg@5: 0.330291\n",
      "[28]\tvalid_0's ndcg@1: 0.163673\tvalid_0's ndcg@2: 0.230256\tvalid_0's ndcg@3: 0.27337\tvalid_0's ndcg@4: 0.308592\tvalid_0's ndcg@5: 0.331033\n",
      "[29]\tvalid_0's ndcg@1: 0.165333\tvalid_0's ndcg@2: 0.231183\tvalid_0's ndcg@3: 0.276114\tvalid_0's ndcg@4: 0.308824\tvalid_0's ndcg@5: 0.332854\n",
      "[30]\tvalid_0's ndcg@1: 0.162816\tvalid_0's ndcg@2: 0.231815\tvalid_0's ndcg@3: 0.276357\tvalid_0's ndcg@4: 0.307983\tvalid_0's ndcg@5: 0.333928\n",
      "[31]\tvalid_0's ndcg@1: 0.162816\tvalid_0's ndcg@2: 0.230555\tvalid_0's ndcg@3: 0.274856\tvalid_0's ndcg@4: 0.307415\tvalid_0's ndcg@5: 0.332\n",
      "[32]\tvalid_0's ndcg@1: 0.166136\tvalid_0's ndcg@2: 0.231054\tvalid_0's ndcg@3: 0.275109\tvalid_0's ndcg@4: 0.309099\tvalid_0's ndcg@5: 0.331151\n",
      "[33]\tvalid_0's ndcg@1: 0.172775\tvalid_0's ndcg@2: 0.232467\tvalid_0's ndcg@3: 0.278152\tvalid_0's ndcg@4: 0.312863\tvalid_0's ndcg@5: 0.334906\n",
      "[34]\tvalid_0's ndcg@1: 0.172775\tvalid_0's ndcg@2: 0.233514\tvalid_0's ndcg@3: 0.278797\tvalid_0's ndcg@4: 0.312783\tvalid_0's ndcg@5: 0.335798\n",
      "[35]\tvalid_0's ndcg@1: 0.175291\tvalid_0's ndcg@2: 0.230317\tvalid_0's ndcg@3: 0.278361\tvalid_0's ndcg@4: 0.311993\tvalid_0's ndcg@5: 0.336614\n",
      "[36]\tvalid_0's ndcg@1: 0.173631\tvalid_0's ndcg@2: 0.231468\tvalid_0's ndcg@3: 0.277535\tvalid_0's ndcg@4: 0.310237\tvalid_0's ndcg@5: 0.334868\n",
      "[37]\tvalid_0's ndcg@1: 0.176121\tvalid_0's ndcg@2: 0.232916\tvalid_0's ndcg@3: 0.27982\tvalid_0's ndcg@4: 0.312154\tvalid_0's ndcg@5: 0.337757\n",
      "[38]\tvalid_0's ndcg@1: 0.174434\tvalid_0's ndcg@2: 0.231032\tvalid_0's ndcg@3: 0.277644\tvalid_0's ndcg@4: 0.310013\tvalid_0's ndcg@5: 0.334759\n",
      "[39]\tvalid_0's ndcg@1: 0.174434\tvalid_0's ndcg@2: 0.230519\tvalid_0's ndcg@3: 0.279197\tvalid_0's ndcg@4: 0.310661\tvalid_0's ndcg@5: 0.333652\n",
      "[40]\tvalid_0's ndcg@1: 0.174434\tvalid_0's ndcg@2: 0.228948\tvalid_0's ndcg@3: 0.278041\tvalid_0's ndcg@4: 0.309513\tvalid_0's ndcg@5: 0.334087\n",
      "[41]\tvalid_0's ndcg@1: 0.175264\tvalid_0's ndcg@2: 0.227481\tvalid_0's ndcg@3: 0.277735\tvalid_0's ndcg@4: 0.309736\tvalid_0's ndcg@5: 0.335267\n",
      "[42]\tvalid_0's ndcg@1: 0.175264\tvalid_0's ndcg@2: 0.231889\tvalid_0's ndcg@3: 0.281982\tvalid_0's ndcg@4: 0.310737\tvalid_0's ndcg@5: 0.33596\n",
      "[43]\tvalid_0's ndcg@1: 0.174434\tvalid_0's ndcg@2: 0.231785\tvalid_0's ndcg@3: 0.282987\tvalid_0's ndcg@4: 0.310889\tvalid_0's ndcg@5: 0.335602\n",
      "[44]\tvalid_0's ndcg@1: 0.171945\tvalid_0's ndcg@2: 0.232961\tvalid_0's ndcg@3: 0.282503\tvalid_0's ndcg@4: 0.310762\tvalid_0's ndcg@5: 0.336734\n",
      "[45]\tvalid_0's ndcg@1: 0.173605\tvalid_0's ndcg@2: 0.233573\tvalid_0's ndcg@3: 0.282709\tvalid_0's ndcg@4: 0.312033\tvalid_0's ndcg@5: 0.338005\n",
      "[46]\tvalid_0's ndcg@1: 0.175264\tvalid_0's ndcg@2: 0.235436\tvalid_0's ndcg@3: 0.281113\tvalid_0's ndcg@4: 0.312812\tvalid_0's ndcg@5: 0.339117\n",
      "[47]\tvalid_0's ndcg@1: 0.176094\tvalid_0's ndcg@2: 0.235742\tvalid_0's ndcg@3: 0.28164\tvalid_0's ndcg@4: 0.314375\tvalid_0's ndcg@5: 0.337694\n",
      "[48]\tvalid_0's ndcg@1: 0.177754\tvalid_0's ndcg@2: 0.235291\tvalid_0's ndcg@3: 0.279957\tvalid_0's ndcg@4: 0.31542\tvalid_0's ndcg@5: 0.337226\n",
      "[49]\tvalid_0's ndcg@1: 0.176951\tvalid_0's ndcg@2: 0.236058\tvalid_0's ndcg@3: 0.280562\tvalid_0's ndcg@4: 0.313659\tvalid_0's ndcg@5: 0.336107\n",
      "[50]\tvalid_0's ndcg@1: 0.179441\tvalid_0's ndcg@2: 0.236486\tvalid_0's ndcg@3: 0.283233\tvalid_0's ndcg@4: 0.31436\tvalid_0's ndcg@5: 0.338712\n",
      "[51]\tvalid_0's ndcg@1: 0.177781\tvalid_0's ndcg@2: 0.236397\tvalid_0's ndcg@3: 0.284804\tvalid_0's ndcg@4: 0.315759\tvalid_0's ndcg@5: 0.338342\n",
      "[52]\tvalid_0's ndcg@1: 0.176951\tvalid_0's ndcg@2: 0.238506\tvalid_0's ndcg@3: 0.283339\tvalid_0's ndcg@4: 0.317661\tvalid_0's ndcg@5: 0.34104\n",
      "[53]\tvalid_0's ndcg@1: 0.1811\tvalid_0's ndcg@2: 0.241576\tvalid_0's ndcg@3: 0.285594\tvalid_0's ndcg@4: 0.319195\tvalid_0's ndcg@5: 0.34226\n",
      "[54]\tvalid_0's ndcg@1: 0.18027\tvalid_0's ndcg@2: 0.241269\tvalid_0's ndcg@3: 0.285448\tvalid_0's ndcg@4: 0.319269\tvalid_0's ndcg@5: 0.342354\n",
      "[55]\tvalid_0's ndcg@1: 0.177781\tvalid_0's ndcg@2: 0.241398\tvalid_0's ndcg@3: 0.282002\tvalid_0's ndcg@4: 0.315467\tvalid_0's ndcg@5: 0.339077\n",
      "[56]\tvalid_0's ndcg@1: 0.175291\tvalid_0's ndcg@2: 0.239432\tvalid_0's ndcg@3: 0.280197\tvalid_0's ndcg@4: 0.313885\tvalid_0's ndcg@5: 0.336849\n",
      "[57]\tvalid_0's ndcg@1: 0.175291\tvalid_0's ndcg@2: 0.24205\tvalid_0's ndcg@3: 0.281155\tvalid_0's ndcg@4: 0.315193\tvalid_0's ndcg@5: 0.338157\n",
      "[58]\tvalid_0's ndcg@1: 0.174461\tvalid_0's ndcg@2: 0.244885\tvalid_0's ndcg@3: 0.285329\tvalid_0's ndcg@4: 0.316617\tvalid_0's ndcg@5: 0.340072\n",
      "[59]\tvalid_0's ndcg@1: 0.175264\tvalid_0's ndcg@2: 0.244118\tvalid_0's ndcg@3: 0.283113\tvalid_0's ndcg@4: 0.315462\tvalid_0's ndcg@5: 0.338445\n",
      "[60]\tvalid_0's ndcg@1: 0.177781\tvalid_0's ndcg@2: 0.24557\tvalid_0's ndcg@3: 0.285234\tvalid_0's ndcg@4: 0.317711\tvalid_0's ndcg@5: 0.339722\n",
      "[61]\tvalid_0's ndcg@1: 0.178611\tvalid_0's ndcg@2: 0.243815\tvalid_0's ndcg@3: 0.285131\tvalid_0's ndcg@4: 0.315087\tvalid_0's ndcg@5: 0.339047\n",
      "[62]\tvalid_0's ndcg@1: 0.176924\tvalid_0's ndcg@2: 0.241092\tvalid_0's ndcg@3: 0.281993\tvalid_0's ndcg@4: 0.315034\tvalid_0's ndcg@5: 0.338498\n",
      "[63]\tvalid_0's ndcg@1: 0.176094\tvalid_0's ndcg@2: 0.241293\tvalid_0's ndcg@3: 0.282795\tvalid_0's ndcg@4: 0.315687\tvalid_0's ndcg@5: 0.340105\n",
      "[64]\tvalid_0's ndcg@1: 0.175264\tvalid_0's ndcg@2: 0.242473\tvalid_0's ndcg@3: 0.284771\tvalid_0's ndcg@4: 0.315326\tvalid_0's ndcg@5: 0.340255\n",
      "[65]\tvalid_0's ndcg@1: 0.176094\tvalid_0's ndcg@2: 0.242458\tvalid_0's ndcg@3: 0.283364\tvalid_0's ndcg@4: 0.315009\tvalid_0's ndcg@5: 0.339591\n",
      "[66]\tvalid_0's ndcg@1: 0.175264\tvalid_0's ndcg@2: 0.240598\tvalid_0's ndcg@3: 0.281075\tvalid_0's ndcg@4: 0.314153\tvalid_0's ndcg@5: 0.339053\n",
      "[67]\tvalid_0's ndcg@1: 0.171945\tvalid_0's ndcg@2: 0.239896\tvalid_0's ndcg@3: 0.281813\tvalid_0's ndcg@4: 0.313278\tvalid_0's ndcg@5: 0.338506\n",
      "[68]\tvalid_0's ndcg@1: 0.172801\tvalid_0's ndcg@2: 0.241789\tvalid_0's ndcg@3: 0.282873\tvalid_0's ndcg@4: 0.313991\tvalid_0's ndcg@5: 0.337607\n",
      "[69]\tvalid_0's ndcg@1: 0.173605\tvalid_0's ndcg@2: 0.24311\tvalid_0's ndcg@3: 0.282543\tvalid_0's ndcg@4: 0.313661\tvalid_0's ndcg@5: 0.338542\n",
      "[70]\tvalid_0's ndcg@1: 0.173605\tvalid_0's ndcg@2: 0.240492\tvalid_0's ndcg@3: 0.281999\tvalid_0's ndcg@4: 0.312045\tvalid_0's ndcg@5: 0.337241\n",
      "[71]\tvalid_0's ndcg@1: 0.176094\tvalid_0's ndcg@2: 0.241912\tvalid_0's ndcg@3: 0.28466\tvalid_0's ndcg@4: 0.314013\tvalid_0's ndcg@5: 0.339208\n",
      "[72]\tvalid_0's ndcg@1: 0.175264\tvalid_0's ndcg@2: 0.242125\tvalid_0's ndcg@3: 0.2824\tvalid_0's ndcg@4: 0.312103\tvalid_0's ndcg@5: 0.337626\n",
      "[73]\tvalid_0's ndcg@1: 0.176094\tvalid_0's ndcg@2: 0.242229\tvalid_0's ndcg@3: 0.283885\tvalid_0's ndcg@4: 0.313362\tvalid_0's ndcg@5: 0.338758\n",
      "[74]\tvalid_0's ndcg@1: 0.177754\tvalid_0's ndcg@2: 0.242841\tvalid_0's ndcg@3: 0.283244\tvalid_0's ndcg@4: 0.31437\tvalid_0's ndcg@5: 0.340084\n",
      "[75]\tvalid_0's ndcg@1: 0.176924\tvalid_0's ndcg@2: 0.243582\tvalid_0's ndcg@3: 0.282749\tvalid_0's ndcg@4: 0.314232\tvalid_0's ndcg@5: 0.341344\n",
      "[76]\tvalid_0's ndcg@1: 0.172775\tvalid_0's ndcg@2: 0.243628\tvalid_0's ndcg@3: 0.281549\tvalid_0's ndcg@4: 0.312664\tvalid_0's ndcg@5: 0.340135\n",
      "[77]\tvalid_0's ndcg@1: 0.172775\tvalid_0's ndcg@2: 0.245401\tvalid_0's ndcg@3: 0.283169\tvalid_0's ndcg@4: 0.315004\tvalid_0's ndcg@5: 0.340564\n",
      "[78]\tvalid_0's ndcg@1: 0.171115\tvalid_0's ndcg@2: 0.241123\tvalid_0's ndcg@3: 0.280573\tvalid_0's ndcg@4: 0.312042\tvalid_0's ndcg@5: 0.337469\n",
      "[79]\tvalid_0's ndcg@1: 0.169455\tvalid_0's ndcg@2: 0.239582\tvalid_0's ndcg@3: 0.279583\tvalid_0's ndcg@4: 0.310347\tvalid_0's ndcg@5: 0.336193\n",
      "[80]\tvalid_0's ndcg@1: 0.169455\tvalid_0's ndcg@2: 0.238535\tvalid_0's ndcg@3: 0.278544\tvalid_0's ndcg@4: 0.309666\tvalid_0's ndcg@5: 0.334989\n",
      "[81]\tvalid_0's ndcg@1: 0.168625\tvalid_0's ndcg@2: 0.237182\tvalid_0's ndcg@3: 0.278202\tvalid_0's ndcg@4: 0.309878\tvalid_0's ndcg@5: 0.334562\n",
      "[82]\tvalid_0's ndcg@1: 0.165306\tvalid_0's ndcg@2: 0.234909\tvalid_0's ndcg@3: 0.276345\tvalid_0's ndcg@4: 0.308389\tvalid_0's ndcg@5: 0.333722\n",
      "[83]\tvalid_0's ndcg@1: 0.166136\tvalid_0's ndcg@2: 0.237299\tvalid_0's ndcg@3: 0.275584\tvalid_0's ndcg@4: 0.309278\tvalid_0's ndcg@5: 0.33461\n",
      "[84]\tvalid_0's ndcg@1: 0.165306\tvalid_0's ndcg@2: 0.234791\tvalid_0's ndcg@3: 0.274306\tvalid_0's ndcg@4: 0.307562\tvalid_0's ndcg@5: 0.334161\n"
     ]
    },
    {
     "name": "stdout",
     "output_type": "stream",
     "text": [
      "[85]\tvalid_0's ndcg@1: 0.166966\tvalid_0's ndcg@2: 0.23488\tvalid_0's ndcg@3: 0.276055\tvalid_0's ndcg@4: 0.307535\tvalid_0's ndcg@5: 0.33509\n",
      "[86]\tvalid_0's ndcg@1: 0.166966\tvalid_0's ndcg@2: 0.23488\tvalid_0's ndcg@3: 0.276055\tvalid_0's ndcg@4: 0.307893\tvalid_0's ndcg@5: 0.335137\n",
      "[87]\tvalid_0's ndcg@1: 0.169455\tvalid_0's ndcg@2: 0.235275\tvalid_0's ndcg@3: 0.276442\tvalid_0's ndcg@4: 0.309141\tvalid_0's ndcg@5: 0.335927\n",
      "[88]\tvalid_0's ndcg@1: 0.171115\tvalid_0's ndcg@2: 0.236732\tvalid_0's ndcg@3: 0.277782\tvalid_0's ndcg@4: 0.311567\tvalid_0's ndcg@5: 0.335837\n",
      "[89]\tvalid_0's ndcg@1: 0.172748\tvalid_0's ndcg@2: 0.236265\tvalid_0's ndcg@3: 0.278556\tvalid_0's ndcg@4: 0.313213\tvalid_0's ndcg@5: 0.33765\n",
      "[90]\tvalid_0's ndcg@1: 0.176897\tvalid_0's ndcg@2: 0.236749\tvalid_0's ndcg@3: 0.280713\tvalid_0's ndcg@4: 0.313214\tvalid_0's ndcg@5: 0.338614\n",
      "[91]\tvalid_0's ndcg@1: 0.179387\tvalid_0's ndcg@2: 0.237871\tvalid_0's ndcg@3: 0.279869\tvalid_0's ndcg@4: 0.313044\tvalid_0's ndcg@5: 0.340039\n",
      "[92]\tvalid_0's ndcg@1: 0.179387\tvalid_0's ndcg@2: 0.23755\tvalid_0's ndcg@3: 0.281047\tvalid_0's ndcg@4: 0.313146\tvalid_0's ndcg@5: 0.339188\n",
      "[93]\tvalid_0's ndcg@1: 0.178557\tvalid_0's ndcg@2: 0.236501\tvalid_0's ndcg@3: 0.280807\tvalid_0's ndcg@4: 0.313632\tvalid_0's ndcg@5: 0.339155\n",
      "[94]\tvalid_0's ndcg@1: 0.178557\tvalid_0's ndcg@2: 0.235454\tvalid_0's ndcg@3: 0.281406\tvalid_0's ndcg@4: 0.312802\tvalid_0's ndcg@5: 0.339636\n",
      "[95]\tvalid_0's ndcg@1: 0.179387\tvalid_0's ndcg@2: 0.236284\tvalid_0's ndcg@3: 0.279347\tvalid_0's ndcg@4: 0.312907\tvalid_0's ndcg@5: 0.340051\n",
      "[96]\tvalid_0's ndcg@1: 0.178557\tvalid_0's ndcg@2: 0.235572\tvalid_0's ndcg@3: 0.278265\tvalid_0's ndcg@4: 0.313089\tvalid_0's ndcg@5: 0.340098\n",
      "[97]\tvalid_0's ndcg@1: 0.17936\tvalid_0's ndcg@2: 0.235863\tvalid_0's ndcg@3: 0.279372\tvalid_0's ndcg@4: 0.312041\tvalid_0's ndcg@5: 0.340334\n",
      "[98]\tvalid_0's ndcg@1: 0.18102\tvalid_0's ndcg@2: 0.238981\tvalid_0's ndcg@3: 0.279575\tvalid_0's ndcg@4: 0.314001\tvalid_0's ndcg@5: 0.338722\n",
      "[99]\tvalid_0's ndcg@1: 0.18019\tvalid_0's ndcg@2: 0.238353\tvalid_0's ndcg@3: 0.277958\tvalid_0's ndcg@4: 0.312383\tvalid_0's ndcg@5: 0.336167\n",
      "[100]\tvalid_0's ndcg@1: 0.17936\tvalid_0's ndcg@2: 0.237\tvalid_0's ndcg@3: 0.277434\tvalid_0's ndcg@4: 0.311144\tvalid_0's ndcg@5: 0.336544\n"
     ]
    },
    {
     "data": {
      "text/html": [
       "<style>#sk-container-id-2 {color: black;background-color: white;}#sk-container-id-2 pre{padding: 0;}#sk-container-id-2 div.sk-toggleable {background-color: white;}#sk-container-id-2 label.sk-toggleable__label {cursor: pointer;display: block;width: 100%;margin-bottom: 0;padding: 0.3em;box-sizing: border-box;text-align: center;}#sk-container-id-2 label.sk-toggleable__label-arrow:before {content: \"▸\";float: left;margin-right: 0.25em;color: #696969;}#sk-container-id-2 label.sk-toggleable__label-arrow:hover:before {color: black;}#sk-container-id-2 div.sk-estimator:hover label.sk-toggleable__label-arrow:before {color: black;}#sk-container-id-2 div.sk-toggleable__content {max-height: 0;max-width: 0;overflow: hidden;text-align: left;background-color: #f0f8ff;}#sk-container-id-2 div.sk-toggleable__content pre {margin: 0.2em;color: black;border-radius: 0.25em;background-color: #f0f8ff;}#sk-container-id-2 input.sk-toggleable__control:checked~div.sk-toggleable__content {max-height: 200px;max-width: 100%;overflow: auto;}#sk-container-id-2 input.sk-toggleable__control:checked~label.sk-toggleable__label-arrow:before {content: \"▾\";}#sk-container-id-2 div.sk-estimator input.sk-toggleable__control:checked~label.sk-toggleable__label {background-color: #d4ebff;}#sk-container-id-2 div.sk-label input.sk-toggleable__control:checked~label.sk-toggleable__label {background-color: #d4ebff;}#sk-container-id-2 input.sk-hidden--visually {border: 0;clip: rect(1px 1px 1px 1px);clip: rect(1px, 1px, 1px, 1px);height: 1px;margin: -1px;overflow: hidden;padding: 0;position: absolute;width: 1px;}#sk-container-id-2 div.sk-estimator {font-family: monospace;background-color: #f0f8ff;border: 1px dotted black;border-radius: 0.25em;box-sizing: border-box;margin-bottom: 0.5em;}#sk-container-id-2 div.sk-estimator:hover {background-color: #d4ebff;}#sk-container-id-2 div.sk-parallel-item::after {content: \"\";width: 100%;border-bottom: 1px solid gray;flex-grow: 1;}#sk-container-id-2 div.sk-label:hover label.sk-toggleable__label {background-color: #d4ebff;}#sk-container-id-2 div.sk-serial::before {content: \"\";position: absolute;border-left: 1px solid gray;box-sizing: border-box;top: 0;bottom: 0;left: 50%;z-index: 0;}#sk-container-id-2 div.sk-serial {display: flex;flex-direction: column;align-items: center;background-color: white;padding-right: 0.2em;padding-left: 0.2em;position: relative;}#sk-container-id-2 div.sk-item {position: relative;z-index: 1;}#sk-container-id-2 div.sk-parallel {display: flex;align-items: stretch;justify-content: center;background-color: white;position: relative;}#sk-container-id-2 div.sk-item::before, #sk-container-id-2 div.sk-parallel-item::before {content: \"\";position: absolute;border-left: 1px solid gray;box-sizing: border-box;top: 0;bottom: 0;left: 50%;z-index: -1;}#sk-container-id-2 div.sk-parallel-item {display: flex;flex-direction: column;z-index: 1;position: relative;background-color: white;}#sk-container-id-2 div.sk-parallel-item:first-child::after {align-self: flex-end;width: 50%;}#sk-container-id-2 div.sk-parallel-item:last-child::after {align-self: flex-start;width: 50%;}#sk-container-id-2 div.sk-parallel-item:only-child::after {width: 0;}#sk-container-id-2 div.sk-dashed-wrapped {border: 1px dashed gray;margin: 0 0.4em 0.5em 0.4em;box-sizing: border-box;padding-bottom: 0.4em;background-color: white;}#sk-container-id-2 div.sk-label label {font-family: monospace;font-weight: bold;display: inline-block;line-height: 1.2em;}#sk-container-id-2 div.sk-label-container {text-align: center;}#sk-container-id-2 div.sk-container {/* jupyter's `normalize.less` sets `[hidden] { display: none; }` but bootstrap.min.css set `[hidden] { display: none !important; }` so we also need the `!important` here to be able to override the default hidden behavior on the sphinx rendered scikit-learn.org. See: https://github.com/scikit-learn/scikit-learn/issues/21755 */display: inline-block !important;position: relative;}#sk-container-id-2 div.sk-text-repr-fallback {display: none;}</style><div id=\"sk-container-id-2\" class=\"sk-top-container\"><div class=\"sk-text-repr-fallback\"><pre>LGBMRanker(metric=&#x27;ndcg&#x27;, objective=&#x27;lambdarank&#x27;)</pre><b>In a Jupyter environment, please rerun this cell to show the HTML representation or trust the notebook. <br />On GitHub, the HTML representation is unable to render, please try loading this page with nbviewer.org.</b></div><div class=\"sk-container\" hidden><div class=\"sk-item\"><div class=\"sk-estimator sk-toggleable\"><input class=\"sk-toggleable__control sk-hidden--visually\" id=\"sk-estimator-id-2\" type=\"checkbox\" checked><label for=\"sk-estimator-id-2\" class=\"sk-toggleable__label sk-toggleable__label-arrow\">LGBMRanker</label><div class=\"sk-toggleable__content\"><pre>LGBMRanker(metric=&#x27;ndcg&#x27;, objective=&#x27;lambdarank&#x27;)</pre></div></div></div></div></div>"
      ],
      "text/plain": [
       "LGBMRanker(metric='ndcg', objective='lambdarank')"
      ]
     },
     "execution_count": 41,
     "metadata": {},
     "output_type": "execute_result"
    }
   ],
   "source": [
    "gbm.fit(X_train, y_train, \n",
    "        group=train_groups, eval_set=[(X_test, y_test)], \n",
    "        eval_group=[test_groups])\n",
    "\n",
    "\n",
    "\n",
    "\n"
   ]
  },
  {
   "cell_type": "code",
   "execution_count": null,
   "id": "9e7ce3f9",
   "metadata": {},
   "outputs": [],
   "source": []
  },
  {
   "cell_type": "markdown",
   "id": "01964d8c",
   "metadata": {},
   "source": [
    "<h1> Validation <h1\\>"
   ]
  },
  {
   "cell_type": "code",
   "execution_count": 47,
   "id": "a0b35ea3",
   "metadata": {},
   "outputs": [],
   "source": [
    "def construct_pred_ideal(df_in, df_ideal, y_pred):\n",
    "    df = df_in.copy()\n",
    "    df['pred_grades'] = y_pred\n",
    "    df = df.sort_values(by=['srch_id', 'pred_grades'], ascending=[True, False], inplace=False)\n",
    "\n",
    "    # Merge grades from ideal on srch_id and prop_id\n",
    "    df = df.merge(df_ideal, on=['srch_id', 'prop_id'], how='left')\n",
    "\n",
    "    # Return srch_id, prop_id and pred_grades\n",
    "    return df[['srch_id', 'prop_id', 'pred_grades', 'score']]\n",
    "\n",
    "def construct_pred_submission(df_in, y_pred):\n",
    "    df = df_in.copy()\n",
    "    df['pred_grades'] = y_pred\n",
    "    df = df.sort_values(by=['srch_id', 'pred_grades'], ascending=[True, False], inplace=False)\n",
    "\n",
    "    # Return srch_id, prop_id and pred_grades\n",
    "    return df[['srch_id', 'prop_id']]\n",
    "\n",
    "def constructs_predictions(model, data, ideal_df = None):\n",
    "    y_pred = model.predict(data)\n",
    "\n",
    "    if ideal_df is not None:\n",
    "        pred_df = construct_pred_ideal(data, test_ideal, y_pred)\n",
    "    else:\n",
    "        pred_df = construct_pred_submission(data, y_pred)\n",
    "    return pred_df\n",
    "\n",
    "def calc_NDCG(df_ideal, df_pred, k = 5):\n",
    "    # Group by 5\n",
    "    df_ideal = df_ideal.groupby('srch_id').head(k)\n",
    "    df_pred = df_pred.groupby('srch_id').head(k)\n",
    "\n",
    "    assert df_ideal.shape[0] % k == 0\n",
    "    assert df_pred.shape[0] % k == 0\n",
    "    \n",
    "    # Get grades matrices\n",
    "    ideal_grades = df_ideal['score'].values.reshape(int(df_ideal.shape[0] / k), k)\n",
    "    pred_grades = df_pred['score'].values.reshape(int(df_pred.shape[0] / k), k)\n",
    "\n",
    "    discount_vec = [1/np.log2(i+2) for i in range(k)]\n",
    "\n",
    "    # Calculate NDCG\n",
    "    NDCG = (pred_grades @ discount_vec).sum() / (ideal_grades @ discount_vec).sum()\n",
    "\n",
    "    return NDCG"
   ]
  },
  {
   "cell_type": "code",
   "execution_count": 48,
   "id": "be68a109",
   "metadata": {},
   "outputs": [],
   "source": [
    "pred_lgbm = constructs_predictions(gbm, X_test, ideal_df=test_ideal)\n",
    "pred_random = construct_pred_ideal(X_test, test_ideal, np.random.rand(len(X_test)))"
   ]
  },
  {
   "cell_type": "code",
   "execution_count": 49,
   "id": "91ffc818",
   "metadata": {},
   "outputs": [
    {
     "name": "stdout",
     "output_type": "stream",
     "text": [
      "LGBM: 0.35683031906854773,\n",
      "Random: 0.15002041510166886\n"
     ]
    }
   ],
   "source": [
    "print(f\"LGBM: {calc_NDCG(test_ideal, pred_lgbm)},\\nRandom: {calc_NDCG(test_ideal, pred_random)}\")"
   ]
  },
  {
   "cell_type": "code",
   "execution_count": null,
   "id": "4bbc0489",
   "metadata": {},
   "outputs": [],
   "source": []
  }
 ],
 "metadata": {
  "kernelspec": {
   "display_name": "Python 3 (ipykernel)",
   "language": "python",
   "name": "python3"
  },
  "language_info": {
   "codemirror_mode": {
    "name": "ipython",
    "version": 3
   },
   "file_extension": ".py",
   "mimetype": "text/x-python",
   "name": "python",
   "nbconvert_exporter": "python",
   "pygments_lexer": "ipython3",
   "version": "3.10.9"
  },
  "toc": {
   "base_numbering": 1,
   "nav_menu": {},
   "number_sections": true,
   "sideBar": true,
   "skip_h1_title": true,
   "title_cell": "Table of Contents",
   "title_sidebar": "Contents",
   "toc_cell": true,
   "toc_position": {},
   "toc_section_display": true,
   "toc_window_display": true
  }
 },
 "nbformat": 4,
 "nbformat_minor": 5
}
